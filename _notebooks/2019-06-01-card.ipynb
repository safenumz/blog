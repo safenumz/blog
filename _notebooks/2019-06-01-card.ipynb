{
 "cells": [
  {
   "cell_type": "markdown",
   "id": "276a7f3a-3d27-423d-8fd7-1a74d365c56f",
   "metadata": {},
   "source": [
    "# \"[Project] Hadoop eco를 활용한 카드거래액 예측모델 및 실시간 대시보드 구축\"\n",
    "> \"2019년 6월 Hadoop eco를 활용한 카드거래액 예측모델 및 실시간 대시보드 구축\"\n",
    "\n",
    "\n",
    "- badges: true\n",
    "- comments: true\n",
    "- sticky_rank: 3\n",
    "- image: images/portfolio/card/0.jpg\n",
    "- categories: [Project]"
   ]
  },
  {
   "cell_type": "markdown",
   "id": "ce4e7265-940a-48ca-8d94-80c25e146987",
   "metadata": {},
   "source": [
    "<script>\n",
    "var pagenum = 36\n",
    "var img_dir = \"{{ site.baseurl }}\" + \"/images/portfolio/card\"\n",
    "var img_ext = \"png\"\n",
    "\n",
    "var img_array = []\n",
    "for (i = 1; i < pagenum+1; i++)  {\n",
    "    img_array.push(img_dir + \"/\" + i + \".\" + img_ext);\n",
    "}\n",
    "img_array.forEach( element => {\n",
    "    var h = `<img src=\"${element}\" alt=\"img\"><br>`;\n",
    "    document.write(h);\n",
    "});\n",
    "\n",
    "</script>"
   ]
  }
 ],
 "metadata": {
  "kernelspec": {
   "display_name": "Python 3",
   "language": "python",
   "name": "python3"
  },
  "language_info": {
   "codemirror_mode": {
    "name": "ipython",
    "version": 3
   },
   "file_extension": ".py",
   "mimetype": "text/x-python",
   "name": "python",
   "nbconvert_exporter": "python",
   "pygments_lexer": "ipython3",
   "version": "3.6.9"
  }
 },
 "nbformat": 4,
 "nbformat_minor": 5
}
