{
 "cells": [
  {
   "cell_type": "markdown",
   "id": "0894b51e-bc5d-46e8-ac3a-562bd745c1c9",
   "metadata": {},
   "source": [
    "# \"[Recommender System] Neural Collaborative Filtering\"\n",
    "> 2017, Neural Collaborative Filtering\n",
    "\n",
    "- toc: true\n",
    "- badges: true\n",
    "- comments: true\n",
    "- categories: [Paper]\n",
    "- tags: [paper, recommender system, neural, collaborative, filtering]"
   ]
  },
  {
   "cell_type": "markdown",
   "id": "4ad2b92d-c6c6-4f82-b794-79547f964bc2",
   "metadata": {},
   "source": [
    "# Neural Collaborative Filtering"
   ]
  },
  {
   "cell_type": "markdown",
   "id": "f4aab0fb-bd12-47c7-a92c-707553d4a4d7",
   "metadata": {},
   "source": [
    "![](../images/paper/recommendation/ncf/ncf-001.png)"
   ]
  },
  {
   "cell_type": "markdown",
   "id": "45b9ecf0-3508-4881-a44f-1133a7a1a127",
   "metadata": {},
   "source": [
    "## Abstract & Introduction"
   ]
  },
  {
   "cell_type": "markdown",
   "id": "9550ad18-482c-4338-984f-614eafd7c13a",
   "metadata": {},
   "source": [
    "- 기존 **Linear Matrix Factorization**의 한계점을 지적\n",
    "- **Neural Net** 기반의 **Collaborative Filtering**으로 non-linear한 부분을 커버\n",
    "- user와 item 관계를 보다 복잡하게 모델링 할 수 있음"
   ]
  },
  {
   "cell_type": "markdown",
   "id": "eec945ae-b2a3-498e-a3a4-997d36883769",
   "metadata": {},
   "source": [
    "## Contributions"
   ]
  },
  {
   "cell_type": "markdown",
   "id": "5f1c3703-f229-4c48-b622-ccdc01c601d1",
   "metadata": {},
   "source": [
    "- User와 Item의 **latent features**를 모델링하기 위한 **Neural Network** 구조를 제안 (**General Framwork NCF**)\n",
    "- **Matrix Factorization**은 **NCF**의 특별한 케이스임을 증명하고, **Multi-layer Perceptron**을 사용\n",
    "- 실제 데이터를 활용하여 다양한 실험을 진행했으며, 이를 통해 **NCF**의 효과를 증명"
   ]
  },
  {
   "cell_type": "markdown",
   "id": "b9cd2ded-c063-42c1-9d6e-5940e4cfab06",
   "metadata": {},
   "source": [
    "## Preliminaries"
   ]
  },
  {
   "cell_type": "markdown",
   "id": "785e1289-f284-4976-8b1d-ea3657f92c62",
   "metadata": {},
   "source": [
    "### Learning from Implicit Data"
   ]
  },
  {
   "cell_type": "markdown",
   "id": "06370dd4-05f1-4721-a7f3-92fecf1ac369",
   "metadata": {},
   "source": [
    "![](../images/paper/recommendation/ncf/ncf-002.png)"
   ]
  },
  {
   "cell_type": "markdown",
   "id": "1d14df22-c59f-4341-ab6b-d2691395ca30",
   "metadata": {},
   "source": [
    "- $M$과 $N$은 user와 item 수, rating 데이터가 0과 1의 binary 데이터\n",
    "- user가 item을 관측했는지에 따라 0 또는 1로 표현 &rarr; interaction이 있는지 여부를 표시\n",
    "    - 선호, 비선호를 나타내는 것이 아님(implicit feedback data)\n",
    "- **interaction function** $f$를 정의하고, user와 item간 interaction이 있는지 확률을 예측하는 문제\n",
    "- 2가지 **objective function**(**Point-wise loss**와 **Pair-wise loss**) 모두 사용 가능\n",
    "    - **Point-wise**: 실제값과 예측값 차이를 최소화\n",
    "    - **Pair-wise**: BPR에서 사용했으며, 1이 0보다 큰 값을 갖도록 마진을 최대화"
   ]
  },
  {
   "cell_type": "markdown",
   "id": "ff008f1a-deb0-4a06-9e2a-df7cd7e81307",
   "metadata": {},
   "source": [
    "### Matrix Factorization"
   ]
  },
  {
   "cell_type": "markdown",
   "id": "36d669ed-4595-49f8-95de-b0bcf5e18654",
   "metadata": {},
   "source": [
    "![](../images/paper/recommendation/ncf/ncf-003.png)"
   ]
  },
  {
   "cell_type": "markdown",
   "id": "bd6f0fd7-c36a-4af3-9888-14d89a64d5bf",
   "metadata": {},
   "source": [
    "- User-Item Interaction Matrix의 한계점을 지적\n",
    "    - u4 &rarr; u1 &rarr; u3 &rarr; u2\n",
    "    - u4 &rarr; u1 &rarr; u2 &rarr; u3\n",
    "- user와 item의 복잡한 관계를 low dimension에 표현하면서 문제 발생\n",
    "- Dimension 크기를 키우면 overfitting 발생\n",
    "- Non-linear한 Neural Network를 사용해서 복잡한 상관관계를 표현"
   ]
  },
  {
   "cell_type": "markdown",
   "id": "c3388571-dc51-4539-ad8e-34867ad97dbe",
   "metadata": {},
   "source": [
    "## Neural Collaborative Filtering"
   ]
  },
  {
   "cell_type": "markdown",
   "id": "818aaf9b-af4a-4a23-b5bc-efd92f9488fc",
   "metadata": {},
   "source": [
    "### General Framework"
   ]
  },
  {
   "cell_type": "markdown",
   "id": "7c4ff5a8-f2a4-4d2f-94de-b8238e065e78",
   "metadata": {},
   "source": [
    "![](../images/paper/recommendation/ncf/ncf-004.png)"
   ]
  },
  {
   "cell_type": "markdown",
   "id": "641abde6-53c8-4d72-bbeb-5dd74c77d034",
   "metadata": {},
   "source": [
    "- Input Layer (Sparse): user와 item을 one-hot vector로 표현\n",
    "- Embedding Layer: Sparse one-hot vector를 dense vector로 맵핑\n",
    "- Neural CF Layer: User Latent Vector와 Item Latent Vector를 concat해서 Layer를 통과\n",
    "- Output Layer: user $u$와 item $i$의 상관관계를 0과 1사이의 점수로 나타냄"
   ]
  },
  {
   "cell_type": "markdown",
   "id": "688e2a4e-ccba-4ec0-93d3-0e2da64f3f3c",
   "metadata": {},
   "source": [
    "![](../images/paper/recommendation/ncf/ncf-005.png)"
   ]
  },
  {
   "cell_type": "markdown",
   "id": "25e0fd40-284d-4579-95b6-b1c30cd02388",
   "metadata": {},
   "source": [
    "- Label이 binary이기 떄문에, **Bernoulli Distribution**을 사용\n",
    "- $\\Upsilon$는 $y_{u,i} = 1$인 집단, $\\Upsilon^{-}$는 $y_{u,i} = 0$인 집단을 나타냄\n",
    "- Loss Function은 **binary cross entropy**를 사용\n",
    "- 위의 L를 최소화하는 파라미터를 찾음\n",
    "- 학습은 **SGD**를 사용"
   ]
  },
  {
   "cell_type": "markdown",
   "id": "37f5bdf4-4665-4ac9-8330-140bf975d44b",
   "metadata": {},
   "source": [
    "### Generalized Matrix Factorization (GMF)"
   ]
  },
  {
   "cell_type": "markdown",
   "id": "0514a312-d133-4fa0-a1e2-e8ff65de9e9e",
   "metadata": {},
   "source": [
    "- **Matrix Factorization**이 **Neural CF**의 특별 케이스로 된다는 것을 보여 줌"
   ]
  },
  {
   "cell_type": "markdown",
   "id": "787f30c6-28a9-40ef-9da0-c2e1f7fb34a7",
   "metadata": {},
   "source": [
    "$$ \n",
    "\\Large{\\phi_{1}(p_{u},q_{i}) = p_{u} \\bigodot q_{i}}\n",
    "$$"
   ]
  },
  {
   "cell_type": "markdown",
   "id": "cd8bfbe7-e455-4595-920c-ba25a821ec30",
   "metadata": {},
   "source": [
    "- $p$와 $q$는 user와 item의 latent vector인데, 이를 element-wise 곱하고, weight를 곱해 줌"
   ]
  },
  {
   "cell_type": "markdown",
   "id": "8029c8ee-997b-4b76-a9c9-af90d01669b8",
   "metadata": {},
   "source": [
    "$$ \n",
    "\\Large{\\widehat{y_{ui}} = a_{out}(h^{T}(p_{u} \\bigodot q_{i}))}\n",
    "$$"
   ]
  },
  {
   "cell_type": "markdown",
   "id": "73db3361-0acc-41e9-bf40-20c94901bb2d",
   "metadata": {},
   "source": [
    "- $a$는 non-linear activation fuction(**sigmoid**)\n",
    "- $h^{T}$는 내적할 때, 가중치 역할을 하며 latent vector를 학습할 수 있게 만들고 중요도를 조절하도록 함\n",
    "- $a$가 1이고, $h^{T}$가 uniform vector이면 **Matrix Factorization**이 됨"
   ]
  },
  {
   "cell_type": "markdown",
   "id": "485cbead-32ac-49f8-af34-22d8daea388d",
   "metadata": {},
   "source": [
    "### Multi-Layer Perceptron (MLP)"
   ]
  },
  {
   "cell_type": "markdown",
   "id": "a959572c-255e-4bc1-ba50-f32ce3d13a7e",
   "metadata": {},
   "source": [
    "![](../images/paper/recommendation/ncf/ncf-006.png)"
   ]
  },
  {
   "cell_type": "markdown",
   "id": "0d9c0d5f-d84e-4ee9-a81f-1e9986bff060",
   "metadata": {},
   "source": [
    "- **GMF**보다 더 간단하게 user-item interaction을 학습할 수 있음\n",
    "- $W_{x}$, $b_{x}$, $a_{x}$는 순서대로 weight matrix, bias vector, x번째 층 activation fuction\n",
    "- $\\theta_{1}$은 user와 item의 latent vector를 concat함\n",
    "- 이후 모든 $\\theta_{L}$은 weight matrix와 bias vector로 표현\n",
    "- 최종 식을 **GMF**와 동일한 구조를 가짐"
   ]
  },
  {
   "cell_type": "markdown",
   "id": "a74e5dbd-8329-44a1-a8fb-da90d64520b0",
   "metadata": {},
   "source": [
    "### Fusion of GMF and MLP"
   ]
  },
  {
   "cell_type": "markdown",
   "id": "6014ed40-97d5-425a-ade2-0de0fb34609f",
   "metadata": {},
   "source": [
    "![](../images/paper/recommendation/ncf/ncf-007.png)"
   ]
  },
  {
   "cell_type": "markdown",
   "id": "5971f8a8-4cf5-43b9-93b0-20afa7ad22b4",
   "metadata": {},
   "source": [
    "![](../images/paper/recommendation/ncf/ncf-008.png)"
   ]
  },
  {
   "cell_type": "markdown",
   "id": "ff750e2e-aa76-4060-bd9f-612991c8ea4c",
   "metadata": {},
   "source": [
    "- **GMF**와 **MLP**에서 사용하는 latent vector dimension이 다를 수 있음\n",
    "- 최종 score는 **MLP**와 **GMF**의 output을 concat하여 사용\n",
    "- **MF** linearity와 **MLP**의 non-linearity를 결합하여 장점만 선택"
   ]
  },
  {
   "cell_type": "markdown",
   "id": "1c49c8b0-3761-40b6-9557-1cbc1137a19f",
   "metadata": {},
   "source": [
    "## Experiments"
   ]
  },
  {
   "cell_type": "markdown",
   "id": "c130e4aa-ec7a-41b1-8aea-930db897e0d7",
   "metadata": {},
   "source": [
    "- MovieLens와 Pinterest 데이터를 사용하여 실험\n",
    "- Pinterest의 경우 데이터 셋이 매우 크지만 sparse 함\n",
    "    - 사용자의 20%가 pin이 하나만 존재\n",
    "    - 최소 20개 이상의 pin을 가진 user로 필터해서 사용\n",
    "- Baseline\n",
    "    - ItemPop: Popularity에 따라 아이템 순위를 매김\n",
    "    - ItemKNN: Standard Item-based CF 방법을 implicit feedback에 적용\n",
    "    - BPR: MR 모델을 최적화하는 방법\n",
    "    - eALS: 아이템 추천에서 state-of-the-art MF 방법"
   ]
  },
  {
   "cell_type": "markdown",
   "id": "6fcf2aa1-5154-4926-986b-496ab5020f4f",
   "metadata": {},
   "source": [
    "![](../images/paper/recommendation/ncf/ncf-009.png)\n",
    "![](../images/paper/recommendation/ncf/ncf-010.png)\n",
    "![](../images/paper/recommendation/ncf/ncf-011.png)\n",
    "![](../images/paper/recommendation/ncf/ncf-012.png)"
   ]
  },
  {
   "cell_type": "markdown",
   "id": "2b6d7137-1548-4709-b38a-9d6f15a7e4b1",
   "metadata": {},
   "source": [
    "## Conclusions"
   ]
  },
  {
   "cell_type": "markdown",
   "id": "4717d618-8d11-41e0-b94f-78d6183309fe",
   "metadata": {},
   "source": [
    "- General Framework NCF를 제안; **GMF**, **MLP**, **NeuralMF**\n",
    "- Linear 모델의 한계를 neural network를 사용하여 해결\n",
    "- **GMF**와 **MLP**의 장점을 합하여 **NeuralMF**를 제안했으며, 성능 향상에 기여\n",
    "- User-item interaction의 다루는 Collaborative Filtering 아이디어에 집중"
   ]
  }
 ],
 "metadata": {
  "kernelspec": {
   "display_name": "Python 3",
   "language": "python",
   "name": "python3"
  },
  "language_info": {
   "codemirror_mode": {
    "name": "ipython",
    "version": 3
   },
   "file_extension": ".py",
   "mimetype": "text/x-python",
   "name": "python",
   "nbconvert_exporter": "python",
   "pygments_lexer": "ipython3",
   "version": "3.6.9"
  }
 },
 "nbformat": 4,
 "nbformat_minor": 5
}
