{
 "cells": [
  {
   "cell_type": "markdown",
   "id": "8dde469e-6f84-4a78-8bd1-d50f2877130f",
   "metadata": {},
   "source": [
    "# \"[Spark] pyspark에서 Pandas API 사용하기\"\n",
    "> pandas, spark.DataFrame, pyspark.pandas 간 변환\n",
    "\n",
    "- toc: true \n",
    "- badges: true\n",
    "- comments: true\n",
    "- categories: [Spark]"
   ]
  },
  {
   "cell_type": "markdown",
   "id": "878a3e68-9100-4987-9936-35412079eb8f",
   "metadata": {},
   "source": [
    "# pyspark에서 Pandas API 사용하기"
   ]
  },
  {
   "cell_type": "markdown",
   "id": "197085f0-7a76-40c6-832a-fe0aeda0072a",
   "metadata": {},
   "source": [
    "그 동안 pyspark.pandas API가 있는 줄 모르고 spark.DataFrame 기준으로만 전처리를 했었다. 물론 추후 속도적인 측면도 테스트 해봐야 겠지만, 익숙한 python pandas 문법을 spark에서도 사용할 수 있다는 점이 장점인거 같다."
   ]
  },
  {
   "cell_type": "code",
   "execution_count": 10,
   "id": "636b6b24-bc4f-45da-aac7-1b52a45dd5b6",
   "metadata": {},
   "outputs": [],
   "source": [
    "import os\n",
    "import warnings; warnings.filterwarnings('ignore')\n",
    "import pandas as pd\n",
    "import numpy as np\n",
    "import pyspark.pandas as ps\n",
    "from pyspark.sql import SparkSession"
   ]
  },
  {
   "cell_type": "markdown",
   "id": "3fbc0f69-528c-45ab-9a88-61169b4cfdaf",
   "metadata": {},
   "source": [
    "## Pandas on Spark Object 생성\n",
    "- `pandas`, `spark.DataFrame`, `pyspark.pandas`간의 변환 command\n",
    "- `sdf.to_pandas_on_spark()`: spark.DataFrame -> pyspark.pandas\n",
    "- `spark.createDataFrame(df)`: pandas.DataFrame -> spark.DataFrame\n",
    "- `ps.from_pandas(df)`: pandas -> pyspark.pandas"
   ]
  },
  {
   "cell_type": "markdown",
   "id": "e3ff560b-dde8-4e49-8328-929b5e8f57bf",
   "metadata": {},
   "source": [
    "- pandas-on-Spark Series 생성"
   ]
  },
  {
   "cell_type": "code",
   "execution_count": 11,
   "id": "860bb38d-baca-4597-a5c2-2fc6299f3286",
   "metadata": {},
   "outputs": [],
   "source": [
    "s = ps.Series([1, 3, 5, np.nan, 6, 8])"
   ]
  },
  {
   "cell_type": "code",
   "execution_count": 12,
   "id": "9dde8f10-3f0d-4d17-a099-18dc2d17d865",
   "metadata": {},
   "outputs": [
    {
     "data": {
      "text/plain": [
       "0    1.0\n",
       "1    3.0\n",
       "2    5.0\n",
       "3    NaN\n",
       "4    6.0\n",
       "5    8.0\n",
       "dtype: float64"
      ]
     },
     "execution_count": 12,
     "metadata": {},
     "output_type": "execute_result"
    }
   ],
   "source": [
    "s"
   ]
  },
  {
   "cell_type": "markdown",
   "id": "2c8c0455-df8f-415a-836e-283bb1fccc01",
   "metadata": {},
   "source": [
    "- pandas-on-Spark DataFrame 생성"
   ]
  },
  {
   "cell_type": "code",
   "execution_count": 13,
   "id": "5836587a-e772-4da1-bf18-07cdc21ddc1a",
   "metadata": {},
   "outputs": [],
   "source": [
    "psdf = ps.DataFrame({\n",
    "    'a': [1, 2, 3, 4, 5, 6],\n",
    "    'b': [100, 200, 300, 400, 500, 600],\n",
    "    'c': [\"one\", \"two\", \"three\", \"four\", \"five\", \"six\"]},\n",
    "    index=[10, 20, 30, 40, 50, 60]\n",
    ")"
   ]
  },
  {
   "cell_type": "code",
   "execution_count": 14,
   "id": "0197c2fa-0feb-4e32-b248-1dd1cfabbeda",
   "metadata": {},
   "outputs": [
    {
     "data": {
      "text/html": [
       "<div>\n",
       "<style scoped>\n",
       "    .dataframe tbody tr th:only-of-type {\n",
       "        vertical-align: middle;\n",
       "    }\n",
       "\n",
       "    .dataframe tbody tr th {\n",
       "        vertical-align: top;\n",
       "    }\n",
       "\n",
       "    .dataframe thead th {\n",
       "        text-align: right;\n",
       "    }\n",
       "</style>\n",
       "<table border=\"1\" class=\"dataframe\">\n",
       "  <thead>\n",
       "    <tr style=\"text-align: right;\">\n",
       "      <th></th>\n",
       "      <th>a</th>\n",
       "      <th>b</th>\n",
       "      <th>c</th>\n",
       "    </tr>\n",
       "  </thead>\n",
       "  <tbody>\n",
       "    <tr>\n",
       "      <th>10</th>\n",
       "      <td>1</td>\n",
       "      <td>100</td>\n",
       "      <td>one</td>\n",
       "    </tr>\n",
       "    <tr>\n",
       "      <th>20</th>\n",
       "      <td>2</td>\n",
       "      <td>200</td>\n",
       "      <td>two</td>\n",
       "    </tr>\n",
       "    <tr>\n",
       "      <th>30</th>\n",
       "      <td>3</td>\n",
       "      <td>300</td>\n",
       "      <td>three</td>\n",
       "    </tr>\n",
       "    <tr>\n",
       "      <th>40</th>\n",
       "      <td>4</td>\n",
       "      <td>400</td>\n",
       "      <td>four</td>\n",
       "    </tr>\n",
       "    <tr>\n",
       "      <th>50</th>\n",
       "      <td>5</td>\n",
       "      <td>500</td>\n",
       "      <td>five</td>\n",
       "    </tr>\n",
       "    <tr>\n",
       "      <th>60</th>\n",
       "      <td>6</td>\n",
       "      <td>600</td>\n",
       "      <td>six</td>\n",
       "    </tr>\n",
       "  </tbody>\n",
       "</table>\n",
       "</div>"
      ],
      "text/plain": [
       "    a    b      c\n",
       "10  1  100    one\n",
       "20  2  200    two\n",
       "30  3  300  three\n",
       "40  4  400   four\n",
       "50  5  500   five\n",
       "60  6  600    six"
      ]
     },
     "execution_count": 14,
     "metadata": {},
     "output_type": "execute_result"
    }
   ],
   "source": [
    "psdf"
   ]
  },
  {
   "cell_type": "markdown",
   "id": "6d111f51-be6c-4788-854c-242dd331e2ab",
   "metadata": {},
   "source": [
    "- pandas DataFrame으로부터 Spark DataFrame 생성"
   ]
  },
  {
   "cell_type": "code",
   "execution_count": 16,
   "id": "8e4242cd-cac7-4a42-bc03-7f4394472fce",
   "metadata": {},
   "outputs": [],
   "source": [
    "dates = pd.date_range('20130101', periods=6)"
   ]
  },
  {
   "cell_type": "code",
   "execution_count": 17,
   "id": "c77fa7f8-90b9-4bc2-8589-827ba4025b8d",
   "metadata": {},
   "outputs": [
    {
     "data": {
      "text/plain": [
       "DatetimeIndex(['2013-01-01', '2013-01-02', '2013-01-03', '2013-01-04',\n",
       "               '2013-01-05', '2013-01-06'],\n",
       "              dtype='datetime64[ns]', freq='D')"
      ]
     },
     "execution_count": 17,
     "metadata": {},
     "output_type": "execute_result"
    }
   ],
   "source": [
    "dates"
   ]
  },
  {
   "cell_type": "code",
   "execution_count": 18,
   "id": "f4635b85-a892-4d60-8ee3-33ceefda3f43",
   "metadata": {},
   "outputs": [],
   "source": [
    "pdf = pd.DataFrame(np.random.randn(6, 4), index=dates, columns=list('ABCD'))"
   ]
  },
  {
   "cell_type": "code",
   "execution_count": 19,
   "id": "770f43b1-9215-4ede-bedd-753d146a58cd",
   "metadata": {},
   "outputs": [
    {
     "data": {
      "text/html": [
       "<div>\n",
       "<style scoped>\n",
       "    .dataframe tbody tr th:only-of-type {\n",
       "        vertical-align: middle;\n",
       "    }\n",
       "\n",
       "    .dataframe tbody tr th {\n",
       "        vertical-align: top;\n",
       "    }\n",
       "\n",
       "    .dataframe thead th {\n",
       "        text-align: right;\n",
       "    }\n",
       "</style>\n",
       "<table border=\"1\" class=\"dataframe\">\n",
       "  <thead>\n",
       "    <tr style=\"text-align: right;\">\n",
       "      <th></th>\n",
       "      <th>A</th>\n",
       "      <th>B</th>\n",
       "      <th>C</th>\n",
       "      <th>D</th>\n",
       "    </tr>\n",
       "  </thead>\n",
       "  <tbody>\n",
       "    <tr>\n",
       "      <th>2013-01-01</th>\n",
       "      <td>0.346299</td>\n",
       "      <td>0.946748</td>\n",
       "      <td>1.184695</td>\n",
       "      <td>-1.158578</td>\n",
       "    </tr>\n",
       "    <tr>\n",
       "      <th>2013-01-02</th>\n",
       "      <td>-0.133470</td>\n",
       "      <td>1.224787</td>\n",
       "      <td>-0.446594</td>\n",
       "      <td>0.482565</td>\n",
       "    </tr>\n",
       "    <tr>\n",
       "      <th>2013-01-03</th>\n",
       "      <td>0.748055</td>\n",
       "      <td>0.199681</td>\n",
       "      <td>-0.542991</td>\n",
       "      <td>0.866088</td>\n",
       "    </tr>\n",
       "    <tr>\n",
       "      <th>2013-01-04</th>\n",
       "      <td>-0.744655</td>\n",
       "      <td>1.431218</td>\n",
       "      <td>0.513117</td>\n",
       "      <td>-0.649905</td>\n",
       "    </tr>\n",
       "    <tr>\n",
       "      <th>2013-01-05</th>\n",
       "      <td>-0.339120</td>\n",
       "      <td>-0.695819</td>\n",
       "      <td>-1.428132</td>\n",
       "      <td>-1.526980</td>\n",
       "    </tr>\n",
       "    <tr>\n",
       "      <th>2013-01-06</th>\n",
       "      <td>0.726483</td>\n",
       "      <td>-1.131556</td>\n",
       "      <td>0.242745</td>\n",
       "      <td>1.488364</td>\n",
       "    </tr>\n",
       "  </tbody>\n",
       "</table>\n",
       "</div>"
      ],
      "text/plain": [
       "                   A         B         C         D\n",
       "2013-01-01  0.346299  0.946748  1.184695 -1.158578\n",
       "2013-01-02 -0.133470  1.224787 -0.446594  0.482565\n",
       "2013-01-03  0.748055  0.199681 -0.542991  0.866088\n",
       "2013-01-04 -0.744655  1.431218  0.513117 -0.649905\n",
       "2013-01-05 -0.339120 -0.695819 -1.428132 -1.526980\n",
       "2013-01-06  0.726483 -1.131556  0.242745  1.488364"
      ]
     },
     "execution_count": 19,
     "metadata": {},
     "output_type": "execute_result"
    }
   ],
   "source": [
    "pdf"
   ]
  },
  {
   "cell_type": "code",
   "execution_count": 20,
   "id": "fbdf5a55-d288-45d5-be27-e80d34a26968",
   "metadata": {},
   "outputs": [
    {
     "data": {
      "text/plain": [
       "pyspark.pandas.frame.DataFrame"
      ]
     },
     "execution_count": 20,
     "metadata": {},
     "output_type": "execute_result"
    }
   ],
   "source": [
    "psdf = ps.from_pandas(pdf)\n",
    "type(psdf)"
   ]
  },
  {
   "cell_type": "code",
   "execution_count": 21,
   "id": "ea38db96-ff2a-4b24-b593-49a8587a37ce",
   "metadata": {},
   "outputs": [
    {
     "name": "stdout",
     "output_type": "stream",
     "text": [
      "+--------------------+-------------------+-------------------+-------------------+\n",
      "|                   A|                  B|                  C|                  D|\n",
      "+--------------------+-------------------+-------------------+-------------------+\n",
      "|  0.3462987999403194| 0.9467481831984389| 1.1846947637320713|-1.1585782610012703|\n",
      "|-0.13346994375082502| 1.2247869095176753| -0.446593621291369| 0.4825652775216099|\n",
      "|  0.7480549772449115|  0.199681455812404|-0.5429905711786277| 0.8660881736263012|\n",
      "| -0.7446546017705188| 1.4312177915894633| 0.5131170380144356|-0.6499052358759891|\n",
      "| -0.3391197127262108|-0.6958191071345965|-1.4281317658506953|-1.5269801796563447|\n",
      "|  0.7264826865156339|-1.1315560289935476|0.24274492407843978| 1.4883641187609775|\n",
      "+--------------------+-------------------+-------------------+-------------------+\n",
      "\n"
     ]
    }
   ],
   "source": [
    "spark = SparkSession.builder.getOrCreate()\n",
    "sdf = spark.createDataFrame(pdf)\n",
    "sdf.show()"
   ]
  },
  {
   "cell_type": "markdown",
   "id": "4d8b565f-67bc-48c4-8a52-8cad7c8e9864",
   "metadata": {},
   "source": [
    "- Spark DataFrame으로부터 pandas-on-Spark DataFrame 생성"
   ]
  },
  {
   "cell_type": "code",
   "execution_count": 22,
   "id": "dfac1a2a-5ac8-49f5-91a5-4e47775d5f10",
   "metadata": {},
   "outputs": [],
   "source": [
    "psdf = sdf.to_pandas_on_spark()"
   ]
  },
  {
   "cell_type": "code",
   "execution_count": 23,
   "id": "3d707ef1-ac04-4e46-bfdc-142403ec0a39",
   "metadata": {},
   "outputs": [
    {
     "data": {
      "text/html": [
       "<div>\n",
       "<style scoped>\n",
       "    .dataframe tbody tr th:only-of-type {\n",
       "        vertical-align: middle;\n",
       "    }\n",
       "\n",
       "    .dataframe tbody tr th {\n",
       "        vertical-align: top;\n",
       "    }\n",
       "\n",
       "    .dataframe thead th {\n",
       "        text-align: right;\n",
       "    }\n",
       "</style>\n",
       "<table border=\"1\" class=\"dataframe\">\n",
       "  <thead>\n",
       "    <tr style=\"text-align: right;\">\n",
       "      <th></th>\n",
       "      <th>A</th>\n",
       "      <th>B</th>\n",
       "      <th>C</th>\n",
       "      <th>D</th>\n",
       "    </tr>\n",
       "  </thead>\n",
       "  <tbody>\n",
       "    <tr>\n",
       "      <th>0</th>\n",
       "      <td>0.346299</td>\n",
       "      <td>0.946748</td>\n",
       "      <td>1.184695</td>\n",
       "      <td>-1.158578</td>\n",
       "    </tr>\n",
       "    <tr>\n",
       "      <th>1</th>\n",
       "      <td>-0.133470</td>\n",
       "      <td>1.224787</td>\n",
       "      <td>-0.446594</td>\n",
       "      <td>0.482565</td>\n",
       "    </tr>\n",
       "    <tr>\n",
       "      <th>2</th>\n",
       "      <td>0.748055</td>\n",
       "      <td>0.199681</td>\n",
       "      <td>-0.542991</td>\n",
       "      <td>0.866088</td>\n",
       "    </tr>\n",
       "    <tr>\n",
       "      <th>3</th>\n",
       "      <td>-0.744655</td>\n",
       "      <td>1.431218</td>\n",
       "      <td>0.513117</td>\n",
       "      <td>-0.649905</td>\n",
       "    </tr>\n",
       "    <tr>\n",
       "      <th>4</th>\n",
       "      <td>-0.339120</td>\n",
       "      <td>-0.695819</td>\n",
       "      <td>-1.428132</td>\n",
       "      <td>-1.526980</td>\n",
       "    </tr>\n",
       "    <tr>\n",
       "      <th>5</th>\n",
       "      <td>0.726483</td>\n",
       "      <td>-1.131556</td>\n",
       "      <td>0.242745</td>\n",
       "      <td>1.488364</td>\n",
       "    </tr>\n",
       "  </tbody>\n",
       "</table>\n",
       "</div>"
      ],
      "text/plain": [
       "          A         B         C         D\n",
       "0  0.346299  0.946748  1.184695 -1.158578\n",
       "1 -0.133470  1.224787 -0.446594  0.482565\n",
       "2  0.748055  0.199681 -0.542991  0.866088\n",
       "3 -0.744655  1.431218  0.513117 -0.649905\n",
       "4 -0.339120 -0.695819 -1.428132 -1.526980\n",
       "5  0.726483 -1.131556  0.242745  1.488364"
      ]
     },
     "execution_count": 23,
     "metadata": {},
     "output_type": "execute_result"
    }
   ],
   "source": [
    "psdf"
   ]
  },
  {
   "cell_type": "code",
   "execution_count": 24,
   "id": "5750f6a8-8a09-4574-ae49-b56b68760ceb",
   "metadata": {},
   "outputs": [
    {
     "data": {
      "text/plain": [
       "A    float64\n",
       "B    float64\n",
       "C    float64\n",
       "D    float64\n",
       "dtype: object"
      ]
     },
     "execution_count": 24,
     "metadata": {},
     "output_type": "execute_result"
    }
   ],
   "source": [
    "psdf.dtypes"
   ]
  },
  {
   "cell_type": "code",
   "execution_count": 25,
   "id": "79d8837f-e1ee-41e0-b09f-d0490afb80c0",
   "metadata": {},
   "outputs": [
    {
     "data": {
      "text/plain": [
       "Index(['A', 'B', 'C', 'D'], dtype='object')"
      ]
     },
     "execution_count": 25,
     "metadata": {},
     "output_type": "execute_result"
    }
   ],
   "source": [
    "psdf.columns"
   ]
  },
  {
   "cell_type": "code",
   "execution_count": 26,
   "id": "b1182765-0fb3-4e2a-9c80-78cccb1a2a77",
   "metadata": {},
   "outputs": [
    {
     "data": {
      "text/plain": [
       "array([[ 0.3462988 ,  0.94674818,  1.18469476, -1.15857826],\n",
       "       [-0.13346994,  1.22478691, -0.44659362,  0.48256528],\n",
       "       [ 0.74805498,  0.19968146, -0.54299057,  0.86608817],\n",
       "       [-0.7446546 ,  1.43121779,  0.51311704, -0.64990524],\n",
       "       [-0.33911971, -0.69581911, -1.42813177, -1.52698018],\n",
       "       [ 0.72648269, -1.13155603,  0.24274492,  1.48836412]])"
      ]
     },
     "execution_count": 26,
     "metadata": {},
     "output_type": "execute_result"
    }
   ],
   "source": [
    "psdf.to_numpy()"
   ]
  },
  {
   "cell_type": "code",
   "execution_count": 27,
   "id": "6d026d06-175e-4b15-abf0-253c7b80db81",
   "metadata": {},
   "outputs": [
    {
     "name": "stderr",
     "output_type": "stream",
     "text": [
      "                                                                                \r"
     ]
    },
    {
     "data": {
      "text/html": [
       "<div>\n",
       "<style scoped>\n",
       "    .dataframe tbody tr th:only-of-type {\n",
       "        vertical-align: middle;\n",
       "    }\n",
       "\n",
       "    .dataframe tbody tr th {\n",
       "        vertical-align: top;\n",
       "    }\n",
       "\n",
       "    .dataframe thead th {\n",
       "        text-align: right;\n",
       "    }\n",
       "</style>\n",
       "<table border=\"1\" class=\"dataframe\">\n",
       "  <thead>\n",
       "    <tr style=\"text-align: right;\">\n",
       "      <th></th>\n",
       "      <th>A</th>\n",
       "      <th>B</th>\n",
       "      <th>C</th>\n",
       "      <th>D</th>\n",
       "    </tr>\n",
       "  </thead>\n",
       "  <tbody>\n",
       "    <tr>\n",
       "      <th>count</th>\n",
       "      <td>6.000000</td>\n",
       "      <td>6.000000</td>\n",
       "      <td>6.000000</td>\n",
       "      <td>6.000000</td>\n",
       "    </tr>\n",
       "    <tr>\n",
       "      <th>mean</th>\n",
       "      <td>0.100599</td>\n",
       "      <td>0.329177</td>\n",
       "      <td>-0.079527</td>\n",
       "      <td>-0.083074</td>\n",
       "    </tr>\n",
       "    <tr>\n",
       "      <th>std</th>\n",
       "      <td>0.605622</td>\n",
       "      <td>1.058219</td>\n",
       "      <td>0.918870</td>\n",
       "      <td>1.204421</td>\n",
       "    </tr>\n",
       "    <tr>\n",
       "      <th>min</th>\n",
       "      <td>-0.744655</td>\n",
       "      <td>-1.131556</td>\n",
       "      <td>-1.428132</td>\n",
       "      <td>-1.526980</td>\n",
       "    </tr>\n",
       "    <tr>\n",
       "      <th>25%</th>\n",
       "      <td>-0.339120</td>\n",
       "      <td>-0.695819</td>\n",
       "      <td>-0.542991</td>\n",
       "      <td>-1.158578</td>\n",
       "    </tr>\n",
       "    <tr>\n",
       "      <th>50%</th>\n",
       "      <td>-0.133470</td>\n",
       "      <td>0.199681</td>\n",
       "      <td>-0.446594</td>\n",
       "      <td>-0.649905</td>\n",
       "    </tr>\n",
       "    <tr>\n",
       "      <th>75%</th>\n",
       "      <td>0.726483</td>\n",
       "      <td>1.224787</td>\n",
       "      <td>0.513117</td>\n",
       "      <td>0.866088</td>\n",
       "    </tr>\n",
       "    <tr>\n",
       "      <th>max</th>\n",
       "      <td>0.748055</td>\n",
       "      <td>1.431218</td>\n",
       "      <td>1.184695</td>\n",
       "      <td>1.488364</td>\n",
       "    </tr>\n",
       "  </tbody>\n",
       "</table>\n",
       "</div>"
      ],
      "text/plain": [
       "              A         B         C         D\n",
       "count  6.000000  6.000000  6.000000  6.000000\n",
       "mean   0.100599  0.329177 -0.079527 -0.083074\n",
       "std    0.605622  1.058219  0.918870  1.204421\n",
       "min   -0.744655 -1.131556 -1.428132 -1.526980\n",
       "25%   -0.339120 -0.695819 -0.542991 -1.158578\n",
       "50%   -0.133470  0.199681 -0.446594 -0.649905\n",
       "75%    0.726483  1.224787  0.513117  0.866088\n",
       "max    0.748055  1.431218  1.184695  1.488364"
      ]
     },
     "execution_count": 27,
     "metadata": {},
     "output_type": "execute_result"
    }
   ],
   "source": [
    "psdf.describe()"
   ]
  },
  {
   "cell_type": "code",
   "execution_count": 28,
   "id": "e4088ceb-f4c3-4953-8b40-340d15472614",
   "metadata": {},
   "outputs": [
    {
     "data": {
      "text/html": [
       "<div>\n",
       "<style scoped>\n",
       "    .dataframe tbody tr th:only-of-type {\n",
       "        vertical-align: middle;\n",
       "    }\n",
       "\n",
       "    .dataframe tbody tr th {\n",
       "        vertical-align: top;\n",
       "    }\n",
       "\n",
       "    .dataframe thead th {\n",
       "        text-align: right;\n",
       "    }\n",
       "</style>\n",
       "<table border=\"1\" class=\"dataframe\">\n",
       "  <thead>\n",
       "    <tr style=\"text-align: right;\">\n",
       "      <th></th>\n",
       "      <th>0</th>\n",
       "      <th>1</th>\n",
       "      <th>2</th>\n",
       "      <th>3</th>\n",
       "      <th>4</th>\n",
       "      <th>5</th>\n",
       "    </tr>\n",
       "  </thead>\n",
       "  <tbody>\n",
       "    <tr>\n",
       "      <th>A</th>\n",
       "      <td>0.346299</td>\n",
       "      <td>-0.133470</td>\n",
       "      <td>0.748055</td>\n",
       "      <td>-0.744655</td>\n",
       "      <td>-0.339120</td>\n",
       "      <td>0.726483</td>\n",
       "    </tr>\n",
       "    <tr>\n",
       "      <th>B</th>\n",
       "      <td>0.946748</td>\n",
       "      <td>1.224787</td>\n",
       "      <td>0.199681</td>\n",
       "      <td>1.431218</td>\n",
       "      <td>-0.695819</td>\n",
       "      <td>-1.131556</td>\n",
       "    </tr>\n",
       "    <tr>\n",
       "      <th>C</th>\n",
       "      <td>1.184695</td>\n",
       "      <td>-0.446594</td>\n",
       "      <td>-0.542991</td>\n",
       "      <td>0.513117</td>\n",
       "      <td>-1.428132</td>\n",
       "      <td>0.242745</td>\n",
       "    </tr>\n",
       "    <tr>\n",
       "      <th>D</th>\n",
       "      <td>-1.158578</td>\n",
       "      <td>0.482565</td>\n",
       "      <td>0.866088</td>\n",
       "      <td>-0.649905</td>\n",
       "      <td>-1.526980</td>\n",
       "      <td>1.488364</td>\n",
       "    </tr>\n",
       "  </tbody>\n",
       "</table>\n",
       "</div>"
      ],
      "text/plain": [
       "          0         1         2         3         4         5\n",
       "A  0.346299 -0.133470  0.748055 -0.744655 -0.339120  0.726483\n",
       "B  0.946748  1.224787  0.199681  1.431218 -0.695819 -1.131556\n",
       "C  1.184695 -0.446594 -0.542991  0.513117 -1.428132  0.242745\n",
       "D -1.158578  0.482565  0.866088 -0.649905 -1.526980  1.488364"
      ]
     },
     "execution_count": 28,
     "metadata": {},
     "output_type": "execute_result"
    }
   ],
   "source": [
    "psdf.T"
   ]
  },
  {
   "cell_type": "code",
   "execution_count": 30,
   "id": "ddb66e50-5aa1-4a4d-a34f-5ccdbe88b6c4",
   "metadata": {},
   "outputs": [
    {
     "data": {
      "text/html": [
       "<div>\n",
       "<style scoped>\n",
       "    .dataframe tbody tr th:only-of-type {\n",
       "        vertical-align: middle;\n",
       "    }\n",
       "\n",
       "    .dataframe tbody tr th {\n",
       "        vertical-align: top;\n",
       "    }\n",
       "\n",
       "    .dataframe thead th {\n",
       "        text-align: right;\n",
       "    }\n",
       "</style>\n",
       "<table border=\"1\" class=\"dataframe\">\n",
       "  <thead>\n",
       "    <tr style=\"text-align: right;\">\n",
       "      <th></th>\n",
       "      <th>A</th>\n",
       "      <th>B</th>\n",
       "      <th>C</th>\n",
       "      <th>D</th>\n",
       "    </tr>\n",
       "  </thead>\n",
       "  <tbody>\n",
       "    <tr>\n",
       "      <th>5</th>\n",
       "      <td>0.726483</td>\n",
       "      <td>-1.131556</td>\n",
       "      <td>0.242745</td>\n",
       "      <td>1.488364</td>\n",
       "    </tr>\n",
       "    <tr>\n",
       "      <th>4</th>\n",
       "      <td>-0.339120</td>\n",
       "      <td>-0.695819</td>\n",
       "      <td>-1.428132</td>\n",
       "      <td>-1.526980</td>\n",
       "    </tr>\n",
       "    <tr>\n",
       "      <th>3</th>\n",
       "      <td>-0.744655</td>\n",
       "      <td>1.431218</td>\n",
       "      <td>0.513117</td>\n",
       "      <td>-0.649905</td>\n",
       "    </tr>\n",
       "    <tr>\n",
       "      <th>2</th>\n",
       "      <td>0.748055</td>\n",
       "      <td>0.199681</td>\n",
       "      <td>-0.542991</td>\n",
       "      <td>0.866088</td>\n",
       "    </tr>\n",
       "    <tr>\n",
       "      <th>1</th>\n",
       "      <td>-0.133470</td>\n",
       "      <td>1.224787</td>\n",
       "      <td>-0.446594</td>\n",
       "      <td>0.482565</td>\n",
       "    </tr>\n",
       "    <tr>\n",
       "      <th>0</th>\n",
       "      <td>0.346299</td>\n",
       "      <td>0.946748</td>\n",
       "      <td>1.184695</td>\n",
       "      <td>-1.158578</td>\n",
       "    </tr>\n",
       "  </tbody>\n",
       "</table>\n",
       "</div>"
      ],
      "text/plain": [
       "          A         B         C         D\n",
       "5  0.726483 -1.131556  0.242745  1.488364\n",
       "4 -0.339120 -0.695819 -1.428132 -1.526980\n",
       "3 -0.744655  1.431218  0.513117 -0.649905\n",
       "2  0.748055  0.199681 -0.542991  0.866088\n",
       "1 -0.133470  1.224787 -0.446594  0.482565\n",
       "0  0.346299  0.946748  1.184695 -1.158578"
      ]
     },
     "execution_count": 30,
     "metadata": {},
     "output_type": "execute_result"
    }
   ],
   "source": [
    "psdf.sort_index(ascending=False)"
   ]
  },
  {
   "cell_type": "code",
   "execution_count": 31,
   "id": "a7d005b2-59e4-471b-b9af-ca412deff8d1",
   "metadata": {},
   "outputs": [
    {
     "data": {
      "text/html": [
       "<div>\n",
       "<style scoped>\n",
       "    .dataframe tbody tr th:only-of-type {\n",
       "        vertical-align: middle;\n",
       "    }\n",
       "\n",
       "    .dataframe tbody tr th {\n",
       "        vertical-align: top;\n",
       "    }\n",
       "\n",
       "    .dataframe thead th {\n",
       "        text-align: right;\n",
       "    }\n",
       "</style>\n",
       "<table border=\"1\" class=\"dataframe\">\n",
       "  <thead>\n",
       "    <tr style=\"text-align: right;\">\n",
       "      <th></th>\n",
       "      <th>A</th>\n",
       "      <th>B</th>\n",
       "      <th>C</th>\n",
       "      <th>D</th>\n",
       "    </tr>\n",
       "  </thead>\n",
       "  <tbody>\n",
       "    <tr>\n",
       "      <th>5</th>\n",
       "      <td>0.726483</td>\n",
       "      <td>-1.131556</td>\n",
       "      <td>0.242745</td>\n",
       "      <td>1.488364</td>\n",
       "    </tr>\n",
       "    <tr>\n",
       "      <th>4</th>\n",
       "      <td>-0.339120</td>\n",
       "      <td>-0.695819</td>\n",
       "      <td>-1.428132</td>\n",
       "      <td>-1.526980</td>\n",
       "    </tr>\n",
       "    <tr>\n",
       "      <th>2</th>\n",
       "      <td>0.748055</td>\n",
       "      <td>0.199681</td>\n",
       "      <td>-0.542991</td>\n",
       "      <td>0.866088</td>\n",
       "    </tr>\n",
       "    <tr>\n",
       "      <th>0</th>\n",
       "      <td>0.346299</td>\n",
       "      <td>0.946748</td>\n",
       "      <td>1.184695</td>\n",
       "      <td>-1.158578</td>\n",
       "    </tr>\n",
       "    <tr>\n",
       "      <th>1</th>\n",
       "      <td>-0.133470</td>\n",
       "      <td>1.224787</td>\n",
       "      <td>-0.446594</td>\n",
       "      <td>0.482565</td>\n",
       "    </tr>\n",
       "    <tr>\n",
       "      <th>3</th>\n",
       "      <td>-0.744655</td>\n",
       "      <td>1.431218</td>\n",
       "      <td>0.513117</td>\n",
       "      <td>-0.649905</td>\n",
       "    </tr>\n",
       "  </tbody>\n",
       "</table>\n",
       "</div>"
      ],
      "text/plain": [
       "          A         B         C         D\n",
       "5  0.726483 -1.131556  0.242745  1.488364\n",
       "4 -0.339120 -0.695819 -1.428132 -1.526980\n",
       "2  0.748055  0.199681 -0.542991  0.866088\n",
       "0  0.346299  0.946748  1.184695 -1.158578\n",
       "1 -0.133470  1.224787 -0.446594  0.482565\n",
       "3 -0.744655  1.431218  0.513117 -0.649905"
      ]
     },
     "execution_count": 31,
     "metadata": {},
     "output_type": "execute_result"
    }
   ],
   "source": [
    "psdf.sort_values(by='B')"
   ]
  },
  {
   "cell_type": "markdown",
   "id": "a0c24e6c-2cac-43ac-aaa4-7173967e4fb1",
   "metadata": {},
   "source": [
    "## Missing Data"
   ]
  },
  {
   "cell_type": "markdown",
   "id": "fdeef2e0-0c95-4ba4-a1cf-98b56f60503b",
   "metadata": {},
   "source": [
    "- Pandas API on Spark는 missing data를 표현하기 위해 `np.nan`을 사용"
   ]
  },
  {
   "cell_type": "code",
   "execution_count": 32,
   "id": "6af589ab-568d-4e8f-82db-faec87953f6a",
   "metadata": {},
   "outputs": [],
   "source": [
    "pdf1 = pdf.reindex(index=dates[0:4], columns=list(pdf.columns) + ['E'])"
   ]
  },
  {
   "cell_type": "code",
   "execution_count": 34,
   "id": "42b0a70b-fad6-4774-ae19-2c87fe6b560d",
   "metadata": {},
   "outputs": [],
   "source": [
    "pdf1.loc[dates[0]:dates[1], 'E'] = 1"
   ]
  },
  {
   "cell_type": "code",
   "execution_count": 35,
   "id": "7efe1900-f99d-4ce0-b16b-4c32de8ede42",
   "metadata": {},
   "outputs": [],
   "source": [
    "psdf1 = ps.from_pandas(pdf1)"
   ]
  },
  {
   "cell_type": "code",
   "execution_count": 36,
   "id": "6bf5912a-2284-4d00-bda7-0bcd875f44b1",
   "metadata": {},
   "outputs": [
    {
     "data": {
      "text/html": [
       "<div>\n",
       "<style scoped>\n",
       "    .dataframe tbody tr th:only-of-type {\n",
       "        vertical-align: middle;\n",
       "    }\n",
       "\n",
       "    .dataframe tbody tr th {\n",
       "        vertical-align: top;\n",
       "    }\n",
       "\n",
       "    .dataframe thead th {\n",
       "        text-align: right;\n",
       "    }\n",
       "</style>\n",
       "<table border=\"1\" class=\"dataframe\">\n",
       "  <thead>\n",
       "    <tr style=\"text-align: right;\">\n",
       "      <th></th>\n",
       "      <th>A</th>\n",
       "      <th>B</th>\n",
       "      <th>C</th>\n",
       "      <th>D</th>\n",
       "      <th>E</th>\n",
       "    </tr>\n",
       "  </thead>\n",
       "  <tbody>\n",
       "    <tr>\n",
       "      <th>2013-01-01</th>\n",
       "      <td>0.346299</td>\n",
       "      <td>0.946748</td>\n",
       "      <td>1.184695</td>\n",
       "      <td>-1.158578</td>\n",
       "      <td>1.0</td>\n",
       "    </tr>\n",
       "    <tr>\n",
       "      <th>2013-01-02</th>\n",
       "      <td>-0.133470</td>\n",
       "      <td>1.224787</td>\n",
       "      <td>-0.446594</td>\n",
       "      <td>0.482565</td>\n",
       "      <td>1.0</td>\n",
       "    </tr>\n",
       "    <tr>\n",
       "      <th>2013-01-03</th>\n",
       "      <td>0.748055</td>\n",
       "      <td>0.199681</td>\n",
       "      <td>-0.542991</td>\n",
       "      <td>0.866088</td>\n",
       "      <td>NaN</td>\n",
       "    </tr>\n",
       "    <tr>\n",
       "      <th>2013-01-04</th>\n",
       "      <td>-0.744655</td>\n",
       "      <td>1.431218</td>\n",
       "      <td>0.513117</td>\n",
       "      <td>-0.649905</td>\n",
       "      <td>NaN</td>\n",
       "    </tr>\n",
       "  </tbody>\n",
       "</table>\n",
       "</div>"
      ],
      "text/plain": [
       "                   A         B         C         D    E\n",
       "2013-01-01  0.346299  0.946748  1.184695 -1.158578  1.0\n",
       "2013-01-02 -0.133470  1.224787 -0.446594  0.482565  1.0\n",
       "2013-01-03  0.748055  0.199681 -0.542991  0.866088  NaN\n",
       "2013-01-04 -0.744655  1.431218  0.513117 -0.649905  NaN"
      ]
     },
     "execution_count": 36,
     "metadata": {},
     "output_type": "execute_result"
    }
   ],
   "source": [
    "psdf1"
   ]
  },
  {
   "cell_type": "markdown",
   "id": "91cf0332-bde5-477a-9341-d2fbd5b78a48",
   "metadata": {},
   "source": [
    "- missing data 삭제"
   ]
  },
  {
   "cell_type": "code",
   "execution_count": 40,
   "id": "73efcfb5-9143-4e52-9830-620896c11caf",
   "metadata": {},
   "outputs": [
    {
     "data": {
      "text/html": [
       "<div>\n",
       "<style scoped>\n",
       "    .dataframe tbody tr th:only-of-type {\n",
       "        vertical-align: middle;\n",
       "    }\n",
       "\n",
       "    .dataframe tbody tr th {\n",
       "        vertical-align: top;\n",
       "    }\n",
       "\n",
       "    .dataframe thead th {\n",
       "        text-align: right;\n",
       "    }\n",
       "</style>\n",
       "<table border=\"1\" class=\"dataframe\">\n",
       "  <thead>\n",
       "    <tr style=\"text-align: right;\">\n",
       "      <th></th>\n",
       "      <th>A</th>\n",
       "      <th>B</th>\n",
       "      <th>C</th>\n",
       "      <th>D</th>\n",
       "      <th>E</th>\n",
       "    </tr>\n",
       "  </thead>\n",
       "  <tbody>\n",
       "    <tr>\n",
       "      <th>2013-01-01</th>\n",
       "      <td>0.346299</td>\n",
       "      <td>0.946748</td>\n",
       "      <td>1.184695</td>\n",
       "      <td>-1.158578</td>\n",
       "      <td>1.0</td>\n",
       "    </tr>\n",
       "    <tr>\n",
       "      <th>2013-01-02</th>\n",
       "      <td>-0.133470</td>\n",
       "      <td>1.224787</td>\n",
       "      <td>-0.446594</td>\n",
       "      <td>0.482565</td>\n",
       "      <td>1.0</td>\n",
       "    </tr>\n",
       "  </tbody>\n",
       "</table>\n",
       "</div>"
      ],
      "text/plain": [
       "                   A         B         C         D    E\n",
       "2013-01-01  0.346299  0.946748  1.184695 -1.158578  1.0\n",
       "2013-01-02 -0.133470  1.224787 -0.446594  0.482565  1.0"
      ]
     },
     "execution_count": 40,
     "metadata": {},
     "output_type": "execute_result"
    }
   ],
   "source": [
    "psdf1.dropna(how='any')"
   ]
  },
  {
   "cell_type": "markdown",
   "id": "d18598c5-8ffc-492c-b9a8-61a3e92695b8",
   "metadata": {},
   "source": [
    "- missing data 채우기"
   ]
  },
  {
   "cell_type": "code",
   "execution_count": 41,
   "id": "234fc2eb-e70f-40e7-b0d4-b9fc2fe2508d",
   "metadata": {},
   "outputs": [
    {
     "data": {
      "text/html": [
       "<div>\n",
       "<style scoped>\n",
       "    .dataframe tbody tr th:only-of-type {\n",
       "        vertical-align: middle;\n",
       "    }\n",
       "\n",
       "    .dataframe tbody tr th {\n",
       "        vertical-align: top;\n",
       "    }\n",
       "\n",
       "    .dataframe thead th {\n",
       "        text-align: right;\n",
       "    }\n",
       "</style>\n",
       "<table border=\"1\" class=\"dataframe\">\n",
       "  <thead>\n",
       "    <tr style=\"text-align: right;\">\n",
       "      <th></th>\n",
       "      <th>A</th>\n",
       "      <th>B</th>\n",
       "      <th>C</th>\n",
       "      <th>D</th>\n",
       "      <th>E</th>\n",
       "    </tr>\n",
       "  </thead>\n",
       "  <tbody>\n",
       "    <tr>\n",
       "      <th>2013-01-01</th>\n",
       "      <td>0.346299</td>\n",
       "      <td>0.946748</td>\n",
       "      <td>1.184695</td>\n",
       "      <td>-1.158578</td>\n",
       "      <td>1.0</td>\n",
       "    </tr>\n",
       "    <tr>\n",
       "      <th>2013-01-02</th>\n",
       "      <td>-0.133470</td>\n",
       "      <td>1.224787</td>\n",
       "      <td>-0.446594</td>\n",
       "      <td>0.482565</td>\n",
       "      <td>1.0</td>\n",
       "    </tr>\n",
       "    <tr>\n",
       "      <th>2013-01-03</th>\n",
       "      <td>0.748055</td>\n",
       "      <td>0.199681</td>\n",
       "      <td>-0.542991</td>\n",
       "      <td>0.866088</td>\n",
       "      <td>5.0</td>\n",
       "    </tr>\n",
       "    <tr>\n",
       "      <th>2013-01-04</th>\n",
       "      <td>-0.744655</td>\n",
       "      <td>1.431218</td>\n",
       "      <td>0.513117</td>\n",
       "      <td>-0.649905</td>\n",
       "      <td>5.0</td>\n",
       "    </tr>\n",
       "  </tbody>\n",
       "</table>\n",
       "</div>"
      ],
      "text/plain": [
       "                   A         B         C         D    E\n",
       "2013-01-01  0.346299  0.946748  1.184695 -1.158578  1.0\n",
       "2013-01-02 -0.133470  1.224787 -0.446594  0.482565  1.0\n",
       "2013-01-03  0.748055  0.199681 -0.542991  0.866088  5.0\n",
       "2013-01-04 -0.744655  1.431218  0.513117 -0.649905  5.0"
      ]
     },
     "execution_count": 41,
     "metadata": {},
     "output_type": "execute_result"
    }
   ],
   "source": [
    "psdf1.fillna(value=5)"
   ]
  },
  {
   "cell_type": "markdown",
   "id": "07646154-e9a4-4ec5-8ed4-8c98a860d68b",
   "metadata": {},
   "source": [
    "## Operations"
   ]
  },
  {
   "cell_type": "markdown",
   "id": "7ffe989b-202e-40a8-9859-bdd6db995c7a",
   "metadata": {},
   "source": [
    "- 기술 통계"
   ]
  },
  {
   "cell_type": "code",
   "execution_count": 42,
   "id": "26cd0dd8-74a0-49e1-b164-726ffce8c7e5",
   "metadata": {},
   "outputs": [
    {
     "data": {
      "text/plain": [
       "A    0.100599\n",
       "B    0.329177\n",
       "C   -0.079527\n",
       "D   -0.083074\n",
       "dtype: float64"
      ]
     },
     "execution_count": 42,
     "metadata": {},
     "output_type": "execute_result"
    }
   ],
   "source": [
    "psdf.mean()"
   ]
  },
  {
   "cell_type": "markdown",
   "id": "f2985477-88f0-4fa4-a590-dfa8780617b0",
   "metadata": {},
   "source": [
    "### Spark Configurations"
   ]
  },
  {
   "cell_type": "code",
   "execution_count": 43,
   "id": "f619a00e-633a-408f-955e-5d07f381736a",
   "metadata": {},
   "outputs": [],
   "source": [
    "prev = spark.conf.get(\"spark.sql.execution.arrow.pyspark.enabled\")  # Keep its default value.\n",
    "ps.set_option(\"compute.default_index_type\", \"distributed\")  # Use default index prevent overhead."
   ]
  },
  {
   "cell_type": "code",
   "execution_count": 44,
   "id": "cd5cfc0b-4cfb-477f-802e-5895ff7f21b2",
   "metadata": {},
   "outputs": [
    {
     "name": "stderr",
     "output_type": "stream",
     "text": [
      "                                                                                \r"
     ]
    },
    {
     "name": "stdout",
     "output_type": "stream",
     "text": [
      "285 ms ± 93.1 ms per loop (mean ± std. dev. of 7 runs, 1 loop each)\n"
     ]
    }
   ],
   "source": [
    "spark.conf.set(\"spark.sql.execution.arrow.pyspark.enabled\", True)\n",
    "%timeit ps.range(300000).to_pandas()"
   ]
  },
  {
   "cell_type": "code",
   "execution_count": 45,
   "id": "5b026527-0a6c-4cc1-9f39-e5390972d0f6",
   "metadata": {},
   "outputs": [
    {
     "name": "stdout",
     "output_type": "stream",
     "text": [
      "702 ms ± 67.9 ms per loop (mean ± std. dev. of 7 runs, 1 loop each)\n"
     ]
    }
   ],
   "source": [
    "spark.conf.set(\"spark.sql.execution.arrow.pyspark.enabled\", False)\n",
    "%timeit ps.range(300000).to_pandas()"
   ]
  },
  {
   "cell_type": "code",
   "execution_count": 46,
   "id": "5ce2a8e6-2218-4ce4-9fee-3d0e67a950ec",
   "metadata": {},
   "outputs": [],
   "source": [
    "ps.reset_option(\"compute.default_index_type\")\n",
    "spark.conf.set(\"spark.sql.execution.arrow.pyspark.enabled\", prev)  # Set its default value back."
   ]
  },
  {
   "cell_type": "markdown",
   "id": "b75e6928-43c0-47fa-be49-25cf0188a4f2",
   "metadata": {},
   "source": [
    "## Grouping"
   ]
  },
  {
   "cell_type": "code",
   "execution_count": 47,
   "id": "23bad562-3ed4-4d34-8c8a-8b55621a7993",
   "metadata": {},
   "outputs": [],
   "source": [
    "psdf = ps.DataFrame({'A': ['foo', 'bar', 'foo', 'bar',\n",
    "                          'foo', 'bar', 'foo', 'foo'],\n",
    "                    'B': ['one', 'one', 'two', 'three',\n",
    "                          'two', 'two', 'one', 'three'],\n",
    "                    'C': np.random.randn(8),\n",
    "                    'D': np.random.randn(8)})"
   ]
  },
  {
   "cell_type": "code",
   "execution_count": 48,
   "id": "9a59d4e2-18a7-418f-922c-9714d6e54af9",
   "metadata": {},
   "outputs": [
    {
     "data": {
      "text/html": [
       "<div>\n",
       "<style scoped>\n",
       "    .dataframe tbody tr th:only-of-type {\n",
       "        vertical-align: middle;\n",
       "    }\n",
       "\n",
       "    .dataframe tbody tr th {\n",
       "        vertical-align: top;\n",
       "    }\n",
       "\n",
       "    .dataframe thead th {\n",
       "        text-align: right;\n",
       "    }\n",
       "</style>\n",
       "<table border=\"1\" class=\"dataframe\">\n",
       "  <thead>\n",
       "    <tr style=\"text-align: right;\">\n",
       "      <th></th>\n",
       "      <th>A</th>\n",
       "      <th>B</th>\n",
       "      <th>C</th>\n",
       "      <th>D</th>\n",
       "    </tr>\n",
       "  </thead>\n",
       "  <tbody>\n",
       "    <tr>\n",
       "      <th>0</th>\n",
       "      <td>foo</td>\n",
       "      <td>one</td>\n",
       "      <td>0.437018</td>\n",
       "      <td>2.192919</td>\n",
       "    </tr>\n",
       "    <tr>\n",
       "      <th>1</th>\n",
       "      <td>bar</td>\n",
       "      <td>one</td>\n",
       "      <td>0.429485</td>\n",
       "      <td>-0.560230</td>\n",
       "    </tr>\n",
       "    <tr>\n",
       "      <th>2</th>\n",
       "      <td>foo</td>\n",
       "      <td>two</td>\n",
       "      <td>-0.171649</td>\n",
       "      <td>0.048277</td>\n",
       "    </tr>\n",
       "    <tr>\n",
       "      <th>3</th>\n",
       "      <td>bar</td>\n",
       "      <td>three</td>\n",
       "      <td>-0.506166</td>\n",
       "      <td>-2.782998</td>\n",
       "    </tr>\n",
       "    <tr>\n",
       "      <th>4</th>\n",
       "      <td>foo</td>\n",
       "      <td>two</td>\n",
       "      <td>-0.038123</td>\n",
       "      <td>1.601338</td>\n",
       "    </tr>\n",
       "    <tr>\n",
       "      <th>5</th>\n",
       "      <td>bar</td>\n",
       "      <td>two</td>\n",
       "      <td>0.438333</td>\n",
       "      <td>-0.525144</td>\n",
       "    </tr>\n",
       "    <tr>\n",
       "      <th>6</th>\n",
       "      <td>foo</td>\n",
       "      <td>one</td>\n",
       "      <td>0.885746</td>\n",
       "      <td>0.038302</td>\n",
       "    </tr>\n",
       "    <tr>\n",
       "      <th>7</th>\n",
       "      <td>foo</td>\n",
       "      <td>three</td>\n",
       "      <td>-0.135220</td>\n",
       "      <td>-0.495829</td>\n",
       "    </tr>\n",
       "  </tbody>\n",
       "</table>\n",
       "</div>"
      ],
      "text/plain": [
       "     A      B         C         D\n",
       "0  foo    one  0.437018  2.192919\n",
       "1  bar    one  0.429485 -0.560230\n",
       "2  foo    two -0.171649  0.048277\n",
       "3  bar  three -0.506166 -2.782998\n",
       "4  foo    two -0.038123  1.601338\n",
       "5  bar    two  0.438333 -0.525144\n",
       "6  foo    one  0.885746  0.038302\n",
       "7  foo  three -0.135220 -0.495829"
      ]
     },
     "execution_count": 48,
     "metadata": {},
     "output_type": "execute_result"
    }
   ],
   "source": [
    "psdf"
   ]
  },
  {
   "cell_type": "code",
   "execution_count": 49,
   "id": "f6179551-6590-48e3-81e6-c301dea38569",
   "metadata": {},
   "outputs": [
    {
     "data": {
      "text/html": [
       "<div>\n",
       "<style scoped>\n",
       "    .dataframe tbody tr th:only-of-type {\n",
       "        vertical-align: middle;\n",
       "    }\n",
       "\n",
       "    .dataframe tbody tr th {\n",
       "        vertical-align: top;\n",
       "    }\n",
       "\n",
       "    .dataframe thead th {\n",
       "        text-align: right;\n",
       "    }\n",
       "</style>\n",
       "<table border=\"1\" class=\"dataframe\">\n",
       "  <thead>\n",
       "    <tr style=\"text-align: right;\">\n",
       "      <th></th>\n",
       "      <th>C</th>\n",
       "      <th>D</th>\n",
       "    </tr>\n",
       "    <tr>\n",
       "      <th>A</th>\n",
       "      <th></th>\n",
       "      <th></th>\n",
       "    </tr>\n",
       "  </thead>\n",
       "  <tbody>\n",
       "    <tr>\n",
       "      <th>foo</th>\n",
       "      <td>0.977771</td>\n",
       "      <td>3.385007</td>\n",
       "    </tr>\n",
       "    <tr>\n",
       "      <th>bar</th>\n",
       "      <td>0.361653</td>\n",
       "      <td>-3.868372</td>\n",
       "    </tr>\n",
       "  </tbody>\n",
       "</table>\n",
       "</div>"
      ],
      "text/plain": [
       "            C         D\n",
       "A                      \n",
       "foo  0.977771  3.385007\n",
       "bar  0.361653 -3.868372"
      ]
     },
     "execution_count": 49,
     "metadata": {},
     "output_type": "execute_result"
    }
   ],
   "source": [
    "psdf.groupby('A').sum()"
   ]
  },
  {
   "cell_type": "code",
   "execution_count": 50,
   "id": "5c89b681-7f5c-414b-b07a-ef249169721d",
   "metadata": {},
   "outputs": [
    {
     "data": {
      "text/html": [
       "<div>\n",
       "<style scoped>\n",
       "    .dataframe tbody tr th:only-of-type {\n",
       "        vertical-align: middle;\n",
       "    }\n",
       "\n",
       "    .dataframe tbody tr th {\n",
       "        vertical-align: top;\n",
       "    }\n",
       "\n",
       "    .dataframe thead th {\n",
       "        text-align: right;\n",
       "    }\n",
       "</style>\n",
       "<table border=\"1\" class=\"dataframe\">\n",
       "  <thead>\n",
       "    <tr style=\"text-align: right;\">\n",
       "      <th></th>\n",
       "      <th></th>\n",
       "      <th>C</th>\n",
       "      <th>D</th>\n",
       "    </tr>\n",
       "    <tr>\n",
       "      <th>A</th>\n",
       "      <th>B</th>\n",
       "      <th></th>\n",
       "      <th></th>\n",
       "    </tr>\n",
       "  </thead>\n",
       "  <tbody>\n",
       "    <tr>\n",
       "      <th>foo</th>\n",
       "      <th>two</th>\n",
       "      <td>-0.209772</td>\n",
       "      <td>1.649615</td>\n",
       "    </tr>\n",
       "    <tr>\n",
       "      <th>bar</th>\n",
       "      <th>two</th>\n",
       "      <td>0.438333</td>\n",
       "      <td>-0.525144</td>\n",
       "    </tr>\n",
       "    <tr>\n",
       "      <th>foo</th>\n",
       "      <th>one</th>\n",
       "      <td>1.322764</td>\n",
       "      <td>2.231221</td>\n",
       "    </tr>\n",
       "    <tr>\n",
       "      <th rowspan=\"2\" valign=\"top\">bar</th>\n",
       "      <th>one</th>\n",
       "      <td>0.429485</td>\n",
       "      <td>-0.560230</td>\n",
       "    </tr>\n",
       "    <tr>\n",
       "      <th>three</th>\n",
       "      <td>-0.506166</td>\n",
       "      <td>-2.782998</td>\n",
       "    </tr>\n",
       "    <tr>\n",
       "      <th>foo</th>\n",
       "      <th>three</th>\n",
       "      <td>-0.135220</td>\n",
       "      <td>-0.495829</td>\n",
       "    </tr>\n",
       "  </tbody>\n",
       "</table>\n",
       "</div>"
      ],
      "text/plain": [
       "                  C         D\n",
       "A   B                        \n",
       "foo two   -0.209772  1.649615\n",
       "bar two    0.438333 -0.525144\n",
       "foo one    1.322764  2.231221\n",
       "bar one    0.429485 -0.560230\n",
       "    three -0.506166 -2.782998\n",
       "foo three -0.135220 -0.495829"
      ]
     },
     "execution_count": 50,
     "metadata": {},
     "output_type": "execute_result"
    }
   ],
   "source": [
    "psdf.groupby(['A', 'B']).sum()"
   ]
  },
  {
   "cell_type": "markdown",
   "id": "108c13b8-058e-4005-aca0-a2113521dbae",
   "metadata": {},
   "source": [
    "## Plotting"
   ]
  },
  {
   "cell_type": "code",
   "execution_count": 51,
   "id": "799d5448-bd11-4e6b-813f-43ff735cbd5e",
   "metadata": {},
   "outputs": [],
   "source": [
    "pser = pd.Series(np.random.randn(1000),\n",
    "                 index=pd.date_range('1/1/2000', periods=1000))"
   ]
  },
  {
   "cell_type": "code",
   "execution_count": 52,
   "id": "ce1f04a3-7dc3-4e63-bdae-d34e6b5f4a49",
   "metadata": {},
   "outputs": [],
   "source": [
    "psser = pd.Series(pser)"
   ]
  },
  {
   "cell_type": "code",
   "execution_count": 53,
   "id": "d9f6bf36-9bc9-4884-84c3-65aa79b29f88",
   "metadata": {},
   "outputs": [],
   "source": [
    "psser = psser.cummax()"
   ]
  },
  {
   "cell_type": "code",
   "execution_count": 55,
   "id": "f772171d-b150-4725-92e9-32e4a5d37db2",
   "metadata": {},
   "outputs": [
    {
     "data": {
      "text/plain": [
       "<AxesSubplot:>"
      ]
     },
     "execution_count": 55,
     "metadata": {},
     "output_type": "execute_result"
    },
    {
     "data": {
      "image/png": "[encoded data removed]",
      "text/plain": [
       "<Figure size 432x288 with 1 Axes>"
      ]
     },
     "metadata": {
      "needs_background": "light"
     },
     "output_type": "display_data"
    }
   ],
   "source": [
    "psser.plot()"
   ]
  }
 ],
 "metadata": {
  "kernelspec": {
   "display_name": "Python 3",
   "language": "python",
   "name": "python3"
  },
  "language_info": {
   "codemirror_mode": {
    "name": "ipython",
    "version": 3
   },
   "file_extension": ".py",
   "mimetype": "text/x-python",
   "name": "python",
   "nbconvert_exporter": "python",
   "pygments_lexer": "ipython3",
   "version": "3.6.9"
  }
 },
 "nbformat": 4,
 "nbformat_minor": 5
}
