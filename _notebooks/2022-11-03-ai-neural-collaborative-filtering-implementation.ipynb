{
 "cells": [
  {
   "cell_type": "markdown",
   "id": "5671ffcd-3428-4fc9-862a-095cbabc0c24",
   "metadata": {},
   "source": [
    "# \"[Recommender System] Neural Collaborative Filtering Paper Implementation\"\n",
    "> 2017, Neural Collaborative Filtering Paper Implementation\n",
    "\n",
    "- toc: true\n",
    "- badges: true\n",
    "- comments: true\n",
    "- categories: [AI]\n",
    "- tags: [paper, recommender system, neural, collaborative filtering, Implementation]"
   ]
  },
  {
   "cell_type": "markdown",
   "id": "57d5430a-6d4a-493b-98d6-e73d6402a3a6",
   "metadata": {},
   "source": [
    "# Neural Collaborative Filtering Paper Implementation"
   ]
  },
  {
   "cell_type": "markdown",
   "id": "b0bfe992-b88b-4e5e-82d3-eb5ac92e0dd9",
   "metadata": {},
   "source": [
    "## Configuration"
   ]
  },
  {
   "cell_type": "code",
   "execution_count": 4,
   "id": "65fc5a88-863b-491c-ac70-f0837684348f",
   "metadata": {},
   "outputs": [],
   "source": [
    "import os\n",
    "import pandas as pd\n",
    "import numpy as np\n",
    "from matplotlib import pyplot as plt\n",
    "from sklearn.model_selection import train_test_split\n",
    "\n",
    "import math\n",
    "import torch\n",
    "from torch import nn, optim\n",
    "import torch.nn.functional as F\n",
    "from torch.autograd import Variable\n",
    "\n",
    "from tqdm import tqdm\n",
    "import warnings\n",
    "warnings.filterwarnings(\"ignore\")"
   ]
  },
  {
   "cell_type": "markdown",
   "id": "26323a7d-ec53-4416-b33c-988682a1af73",
   "metadata": {},
   "source": [
    "## Load Dataset"
   ]
  },
  {
   "cell_type": "markdown",
   "id": "49a1c072-2547-44bc-b9f5-8980eef2711b",
   "metadata": {},
   "source": [
    "- KMRD 데이터셋 활용"
   ]
  },
  {
   "cell_type": "code",
   "execution_count": 5,
   "id": "5ac74f6d-b062-4d32-832e-7eb1c3e95f42",
   "metadata": {},
   "outputs": [],
   "source": [
    "def read_data(data_dir, data_filename):\n",
    "    df = pd.read_csv(os.path.join(data_dir, data_filename))\n",
    "    train_df, val_df = train_test_split(df, test_size=0.2, random_state=7, shuffle=True)\n",
    "    return train_df, val_df"
   ]
  },
  {
   "cell_type": "code",
   "execution_count": 6,
   "id": "5267a8f1-4c98-4395-990f-a01bb03f480d",
   "metadata": {},
   "outputs": [],
   "source": [
    "data_dir = '../datasets/kmrd/kmr_dataset/datafile/kmrd-small'\n",
    "data_filename = 'rates.csv'"
   ]
  },
  {
   "cell_type": "code",
   "execution_count": 7,
   "id": "e00655a7-a127-4e8f-a8bb-cd2c41a0fa4c",
   "metadata": {},
   "outputs": [],
   "source": [
    "train_df, val_df = read_data(data_dir, data_filename)"
   ]
  },
  {
   "cell_type": "code",
   "execution_count": 8,
   "id": "0f3275cc-22d3-48d2-8f48-e80fccb12028",
   "metadata": {},
   "outputs": [
    {
     "data": {
      "text/plain": [
       "(112568, 4)"
      ]
     },
     "execution_count": 8,
     "metadata": {},
     "output_type": "execute_result"
    }
   ],
   "source": [
    "train_df.shape"
   ]
  },
  {
   "cell_type": "code",
   "execution_count": 9,
   "id": "4f22e6cd-1b1a-41de-8d35-9432c13cfa2e",
   "metadata": {},
   "outputs": [
    {
     "data": {
      "text/html": [
       "<div>\n",
       "<style scoped>\n",
       "    .dataframe tbody tr th:only-of-type {\n",
       "        vertical-align: middle;\n",
       "    }\n",
       "\n",
       "    .dataframe tbody tr th {\n",
       "        vertical-align: top;\n",
       "    }\n",
       "\n",
       "    .dataframe thead th {\n",
       "        text-align: right;\n",
       "    }\n",
       "</style>\n",
       "<table border=\"1\" class=\"dataframe\">\n",
       "  <thead>\n",
       "    <tr style=\"text-align: right;\">\n",
       "      <th></th>\n",
       "      <th>user</th>\n",
       "      <th>movie</th>\n",
       "      <th>rate</th>\n",
       "      <th>time</th>\n",
       "    </tr>\n",
       "  </thead>\n",
       "  <tbody>\n",
       "    <tr>\n",
       "      <th>49270</th>\n",
       "      <td>5022</td>\n",
       "      <td>10048</td>\n",
       "      <td>10</td>\n",
       "      <td>1263194040</td>\n",
       "    </tr>\n",
       "    <tr>\n",
       "      <th>21206</th>\n",
       "      <td>1391</td>\n",
       "      <td>10018</td>\n",
       "      <td>9</td>\n",
       "      <td>1311682500</td>\n",
       "    </tr>\n",
       "    <tr>\n",
       "      <th>103762</th>\n",
       "      <td>23267</td>\n",
       "      <td>10071</td>\n",
       "      <td>10</td>\n",
       "      <td>1274965260</td>\n",
       "    </tr>\n",
       "    <tr>\n",
       "      <th>60013</th>\n",
       "      <td>6952</td>\n",
       "      <td>10200</td>\n",
       "      <td>9</td>\n",
       "      <td>1245919800</td>\n",
       "    </tr>\n",
       "    <tr>\n",
       "      <th>98439</th>\n",
       "      <td>20620</td>\n",
       "      <td>10111</td>\n",
       "      <td>9</td>\n",
       "      <td>1369739760</td>\n",
       "    </tr>\n",
       "  </tbody>\n",
       "</table>\n",
       "</div>"
      ],
      "text/plain": [
       "         user  movie  rate        time\n",
       "49270    5022  10048    10  1263194040\n",
       "21206    1391  10018     9  1311682500\n",
       "103762  23267  10071    10  1274965260\n",
       "60013    6952  10200     9  1245919800\n",
       "98439   20620  10111     9  1369739760"
      ]
     },
     "execution_count": 9,
     "metadata": {},
     "output_type": "execute_result"
    }
   ],
   "source": [
    "train_df.head()"
   ]
  },
  {
   "cell_type": "code",
   "execution_count": 10,
   "id": "7d0a82b9-42cd-4951-9392-1e7def621e54",
   "metadata": {},
   "outputs": [
    {
     "data": {
      "text/plain": [
       "(28142, 4)"
      ]
     },
     "execution_count": 10,
     "metadata": {},
     "output_type": "execute_result"
    }
   ],
   "source": [
    "val_df.shape"
   ]
  },
  {
   "cell_type": "code",
   "execution_count": 11,
   "id": "aa17933b-132c-44c1-a2f1-84daea9f936a",
   "metadata": {},
   "outputs": [
    {
     "data": {
      "image/png": "[encoded data removed]",
      "text/plain": [
       "<Figure size 1152x360 with 2 Axes>"
      ]
     },
     "metadata": {
      "needs_background": "light"
     },
     "output_type": "display_data"
    }
   ],
   "source": [
    "fig, ax = plt.subplots(1, 2, sharex='col', sharey='row', figsize=(16, 5))\n",
    "ax = ax.ravel()\n",
    "\n",
    "train_df['rate'].hist(ax=ax[0])\n",
    "val_df['rate'].hist(ax=ax[1])\n",
    "plt.show()"
   ]
  },
  {
   "cell_type": "code",
   "execution_count": 12,
   "id": "7356039c-a8a3-43d1-baba-ce1566a87848",
   "metadata": {},
   "outputs": [
    {
     "data": {
      "text/plain": [
       "count    112568.000000\n",
       "mean          8.954703\n",
       "std           2.104698\n",
       "min           1.000000\n",
       "25%           9.000000\n",
       "50%          10.000000\n",
       "75%          10.000000\n",
       "max          10.000000\n",
       "Name: rate, dtype: float64"
      ]
     },
     "execution_count": 12,
     "metadata": {},
     "output_type": "execute_result"
    }
   ],
   "source": [
    "train_df['rate'].describe()"
   ]
  },
  {
   "cell_type": "code",
   "execution_count": 13,
   "id": "261e107b-357b-4cb2-80e0-4f9096da62ed",
   "metadata": {},
   "outputs": [
    {
     "data": {
      "text/html": [
       "<div>\n",
       "<style scoped>\n",
       "    .dataframe tbody tr th:only-of-type {\n",
       "        vertical-align: middle;\n",
       "    }\n",
       "\n",
       "    .dataframe tbody tr th {\n",
       "        vertical-align: top;\n",
       "    }\n",
       "\n",
       "    .dataframe thead th {\n",
       "        text-align: right;\n",
       "    }\n",
       "</style>\n",
       "<table border=\"1\" class=\"dataframe\">\n",
       "  <thead>\n",
       "    <tr style=\"text-align: right;\">\n",
       "      <th></th>\n",
       "      <th>title</th>\n",
       "      <th>title_eng</th>\n",
       "      <th>year</th>\n",
       "      <th>grade</th>\n",
       "    </tr>\n",
       "    <tr>\n",
       "      <th>movie</th>\n",
       "      <th></th>\n",
       "      <th></th>\n",
       "      <th></th>\n",
       "      <th></th>\n",
       "    </tr>\n",
       "  </thead>\n",
       "  <tbody>\n",
       "    <tr>\n",
       "      <th>10001</th>\n",
       "      <td>시네마 천국</td>\n",
       "      <td>Cinema Paradiso , 1988</td>\n",
       "      <td>2013.0</td>\n",
       "      <td>전체 관람가</td>\n",
       "    </tr>\n",
       "    <tr>\n",
       "      <th>10002</th>\n",
       "      <td>빽 투 더 퓨쳐</td>\n",
       "      <td>Back To The Future , 1985</td>\n",
       "      <td>2015.0</td>\n",
       "      <td>12세 관람가</td>\n",
       "    </tr>\n",
       "    <tr>\n",
       "      <th>10003</th>\n",
       "      <td>빽 투 더 퓨쳐 2</td>\n",
       "      <td>Back To The Future Part 2 , 1989</td>\n",
       "      <td>2015.0</td>\n",
       "      <td>12세 관람가</td>\n",
       "    </tr>\n",
       "    <tr>\n",
       "      <th>10004</th>\n",
       "      <td>빽 투 더 퓨쳐 3</td>\n",
       "      <td>Back To The Future Part III , 1990</td>\n",
       "      <td>1990.0</td>\n",
       "      <td>전체 관람가</td>\n",
       "    </tr>\n",
       "    <tr>\n",
       "      <th>10005</th>\n",
       "      <td>스타워즈 에피소드 4 - 새로운 희망</td>\n",
       "      <td>Star Wars , 1977</td>\n",
       "      <td>1997.0</td>\n",
       "      <td>PG</td>\n",
       "    </tr>\n",
       "  </tbody>\n",
       "</table>\n",
       "</div>"
      ],
      "text/plain": [
       "                      title                           title_eng    year  \\\n",
       "movie                                                                     \n",
       "10001                시네마 천국              Cinema Paradiso , 1988  2013.0   \n",
       "10002              빽 투 더 퓨쳐           Back To The Future , 1985  2015.0   \n",
       "10003            빽 투 더 퓨쳐 2    Back To The Future Part 2 , 1989  2015.0   \n",
       "10004            빽 투 더 퓨쳐 3  Back To The Future Part III , 1990  1990.0   \n",
       "10005  스타워즈 에피소드 4 - 새로운 희망                    Star Wars , 1977  1997.0   \n",
       "\n",
       "         grade  \n",
       "movie           \n",
       "10001   전체 관람가  \n",
       "10002  12세 관람가  \n",
       "10003  12세 관람가  \n",
       "10004   전체 관람가  \n",
       "10005       PG  "
      ]
     },
     "execution_count": 13,
     "metadata": {},
     "output_type": "execute_result"
    }
   ],
   "source": [
    "movies_df = pd.read_csv(os.path.join(data_dir, 'movies.txt'), sep='\\t', encoding='utf-8')\n",
    "movies_df = movies_df.set_index('movie')\n",
    "movies_df.head()"
   ]
  },
  {
   "cell_type": "code",
   "execution_count": 14,
   "id": "24ccdf29-9447-4fec-bf98-24410d2927da",
   "metadata": {},
   "outputs": [
    {
     "data": {
      "text/html": [
       "<div>\n",
       "<style scoped>\n",
       "    .dataframe tbody tr th:only-of-type {\n",
       "        vertical-align: middle;\n",
       "    }\n",
       "\n",
       "    .dataframe tbody tr th {\n",
       "        vertical-align: top;\n",
       "    }\n",
       "\n",
       "    .dataframe thead th {\n",
       "        text-align: right;\n",
       "    }\n",
       "</style>\n",
       "<table border=\"1\" class=\"dataframe\">\n",
       "  <thead>\n",
       "    <tr style=\"text-align: right;\">\n",
       "      <th></th>\n",
       "      <th>movie</th>\n",
       "      <th>people</th>\n",
       "      <th>order</th>\n",
       "      <th>leading</th>\n",
       "    </tr>\n",
       "  </thead>\n",
       "  <tbody>\n",
       "    <tr>\n",
       "      <th>0</th>\n",
       "      <td>10001</td>\n",
       "      <td>4374</td>\n",
       "      <td>1</td>\n",
       "      <td>1</td>\n",
       "    </tr>\n",
       "    <tr>\n",
       "      <th>1</th>\n",
       "      <td>10001</td>\n",
       "      <td>178</td>\n",
       "      <td>2</td>\n",
       "      <td>1</td>\n",
       "    </tr>\n",
       "    <tr>\n",
       "      <th>2</th>\n",
       "      <td>10001</td>\n",
       "      <td>3241</td>\n",
       "      <td>3</td>\n",
       "      <td>1</td>\n",
       "    </tr>\n",
       "    <tr>\n",
       "      <th>3</th>\n",
       "      <td>10001</td>\n",
       "      <td>47952</td>\n",
       "      <td>4</td>\n",
       "      <td>1</td>\n",
       "    </tr>\n",
       "    <tr>\n",
       "      <th>4</th>\n",
       "      <td>10001</td>\n",
       "      <td>47953</td>\n",
       "      <td>5</td>\n",
       "      <td>0</td>\n",
       "    </tr>\n",
       "  </tbody>\n",
       "</table>\n",
       "</div>"
      ],
      "text/plain": [
       "   movie  people  order  leading\n",
       "0  10001    4374      1        1\n",
       "1  10001     178      2        1\n",
       "2  10001    3241      3        1\n",
       "3  10001   47952      4        1\n",
       "4  10001   47953      5        0"
      ]
     },
     "execution_count": 14,
     "metadata": {},
     "output_type": "execute_result"
    }
   ],
   "source": [
    "castings_df = pd.read_csv(os.path.join(data_dir, 'castings.csv'), encoding='utf-8')\n",
    "castings_df.head()"
   ]
  },
  {
   "cell_type": "code",
   "execution_count": 15,
   "id": "2629d51b-1cbc-4dd1-83c7-de8424a3d62b",
   "metadata": {},
   "outputs": [
    {
     "data": {
      "text/html": [
       "<div>\n",
       "<style scoped>\n",
       "    .dataframe tbody tr th:only-of-type {\n",
       "        vertical-align: middle;\n",
       "    }\n",
       "\n",
       "    .dataframe tbody tr th {\n",
       "        vertical-align: top;\n",
       "    }\n",
       "\n",
       "    .dataframe thead th {\n",
       "        text-align: right;\n",
       "    }\n",
       "</style>\n",
       "<table border=\"1\" class=\"dataframe\">\n",
       "  <thead>\n",
       "    <tr style=\"text-align: right;\">\n",
       "      <th></th>\n",
       "      <th>movie</th>\n",
       "      <th>country</th>\n",
       "    </tr>\n",
       "  </thead>\n",
       "  <tbody>\n",
       "    <tr>\n",
       "      <th>0</th>\n",
       "      <td>10001</td>\n",
       "      <td>이탈리아</td>\n",
       "    </tr>\n",
       "    <tr>\n",
       "      <th>1</th>\n",
       "      <td>10001</td>\n",
       "      <td>프랑스</td>\n",
       "    </tr>\n",
       "    <tr>\n",
       "      <th>2</th>\n",
       "      <td>10002</td>\n",
       "      <td>미국</td>\n",
       "    </tr>\n",
       "    <tr>\n",
       "      <th>3</th>\n",
       "      <td>10003</td>\n",
       "      <td>미국</td>\n",
       "    </tr>\n",
       "    <tr>\n",
       "      <th>4</th>\n",
       "      <td>10004</td>\n",
       "      <td>미국</td>\n",
       "    </tr>\n",
       "  </tbody>\n",
       "</table>\n",
       "</div>"
      ],
      "text/plain": [
       "   movie country\n",
       "0  10001    이탈리아\n",
       "1  10001     프랑스\n",
       "2  10002      미국\n",
       "3  10003      미국\n",
       "4  10004      미국"
      ]
     },
     "execution_count": 15,
     "metadata": {},
     "output_type": "execute_result"
    }
   ],
   "source": [
    "countries_df = pd.read_csv(os.path.join(data_dir, 'countries.csv'), encoding='utf-8')\n",
    "countries_df.head()"
   ]
  },
  {
   "cell_type": "code",
   "execution_count": 16,
   "id": "3160564e-ff88-43d5-990c-71fd3a946557",
   "metadata": {},
   "outputs": [
    {
     "data": {
      "text/html": [
       "<div>\n",
       "<style scoped>\n",
       "    .dataframe tbody tr th:only-of-type {\n",
       "        vertical-align: middle;\n",
       "    }\n",
       "\n",
       "    .dataframe tbody tr th {\n",
       "        vertical-align: top;\n",
       "    }\n",
       "\n",
       "    .dataframe thead th {\n",
       "        text-align: right;\n",
       "    }\n",
       "</style>\n",
       "<table border=\"1\" class=\"dataframe\">\n",
       "  <thead>\n",
       "    <tr style=\"text-align: right;\">\n",
       "      <th></th>\n",
       "      <th>movie</th>\n",
       "      <th>genre</th>\n",
       "    </tr>\n",
       "  </thead>\n",
       "  <tbody>\n",
       "    <tr>\n",
       "      <th>0</th>\n",
       "      <td>10001</td>\n",
       "      <td>드라마</td>\n",
       "    </tr>\n",
       "    <tr>\n",
       "      <th>1</th>\n",
       "      <td>10001</td>\n",
       "      <td>멜로/로맨스</td>\n",
       "    </tr>\n",
       "    <tr>\n",
       "      <th>2</th>\n",
       "      <td>10002</td>\n",
       "      <td>SF</td>\n",
       "    </tr>\n",
       "    <tr>\n",
       "      <th>3</th>\n",
       "      <td>10002</td>\n",
       "      <td>코미디</td>\n",
       "    </tr>\n",
       "    <tr>\n",
       "      <th>4</th>\n",
       "      <td>10003</td>\n",
       "      <td>SF</td>\n",
       "    </tr>\n",
       "  </tbody>\n",
       "</table>\n",
       "</div>"
      ],
      "text/plain": [
       "   movie   genre\n",
       "0  10001     드라마\n",
       "1  10001  멜로/로맨스\n",
       "2  10002      SF\n",
       "3  10002     코미디\n",
       "4  10003      SF"
      ]
     },
     "execution_count": 16,
     "metadata": {},
     "output_type": "execute_result"
    }
   ],
   "source": [
    "genres_df = pd.read_csv(os.path.join(data_dir, 'genres.csv'), encoding='utf-8')\n",
    "genres_df.head()"
   ]
  },
  {
   "cell_type": "code",
   "execution_count": 17,
   "id": "f0ca9251-8b2b-4547-8c5b-9f6e47398c9b",
   "metadata": {},
   "outputs": [
    {
     "data": {
      "text/html": [
       "<div>\n",
       "<style scoped>\n",
       "    .dataframe tbody tr th:only-of-type {\n",
       "        vertical-align: middle;\n",
       "    }\n",
       "\n",
       "    .dataframe tbody tr th {\n",
       "        vertical-align: top;\n",
       "    }\n",
       "\n",
       "    .dataframe thead th {\n",
       "        text-align: right;\n",
       "    }\n",
       "</style>\n",
       "<table border=\"1\" class=\"dataframe\">\n",
       "  <thead>\n",
       "    <tr style=\"text-align: right;\">\n",
       "      <th></th>\n",
       "      <th>genres</th>\n",
       "    </tr>\n",
       "    <tr>\n",
       "      <th>movie</th>\n",
       "      <th></th>\n",
       "    </tr>\n",
       "  </thead>\n",
       "  <tbody>\n",
       "    <tr>\n",
       "      <th>10001</th>\n",
       "      <td>드라마/멜로/로맨스</td>\n",
       "    </tr>\n",
       "    <tr>\n",
       "      <th>10002</th>\n",
       "      <td>SF/코미디</td>\n",
       "    </tr>\n",
       "    <tr>\n",
       "      <th>10003</th>\n",
       "      <td>SF/코미디</td>\n",
       "    </tr>\n",
       "    <tr>\n",
       "      <th>10004</th>\n",
       "      <td>서부/SF/판타지/코미디</td>\n",
       "    </tr>\n",
       "    <tr>\n",
       "      <th>10005</th>\n",
       "      <td>판타지/모험/SF/액션</td>\n",
       "    </tr>\n",
       "  </tbody>\n",
       "</table>\n",
       "</div>"
      ],
      "text/plain": [
       "              genres\n",
       "movie               \n",
       "10001     드라마/멜로/로맨스\n",
       "10002         SF/코미디\n",
       "10003         SF/코미디\n",
       "10004  서부/SF/판타지/코미디\n",
       "10005   판타지/모험/SF/액션"
      ]
     },
     "execution_count": 17,
     "metadata": {},
     "output_type": "execute_result"
    }
   ],
   "source": [
    "combined_genres_df = pd.DataFrame(genres_df.groupby('movie').apply(lambda x: '/'.join(x['genre'])), columns=['genres'])\n",
    "combined_genres_df.head()"
   ]
  },
  {
   "cell_type": "code",
   "execution_count": 18,
   "id": "b3ee6122-a93f-401c-9bc4-92d9e3cd675b",
   "metadata": {},
   "outputs": [
    {
     "data": {
      "text/html": [
       "<div>\n",
       "<style scoped>\n",
       "    .dataframe tbody tr th:only-of-type {\n",
       "        vertical-align: middle;\n",
       "    }\n",
       "\n",
       "    .dataframe tbody tr th {\n",
       "        vertical-align: top;\n",
       "    }\n",
       "\n",
       "    .dataframe thead th {\n",
       "        text-align: right;\n",
       "    }\n",
       "</style>\n",
       "<table border=\"1\" class=\"dataframe\">\n",
       "  <thead>\n",
       "    <tr style=\"text-align: right;\">\n",
       "      <th></th>\n",
       "      <th>people</th>\n",
       "    </tr>\n",
       "    <tr>\n",
       "      <th>movie</th>\n",
       "      <th></th>\n",
       "    </tr>\n",
       "  </thead>\n",
       "  <tbody>\n",
       "    <tr>\n",
       "      <th>10001</th>\n",
       "      <td>[4374, 178, 3241, 47952, 47953, 19538, 18991, ...</td>\n",
       "    </tr>\n",
       "    <tr>\n",
       "      <th>10002</th>\n",
       "      <td>[1076, 4603, 917, 8637, 5104, 9986, 7470, 9987]</td>\n",
       "    </tr>\n",
       "    <tr>\n",
       "      <th>10003</th>\n",
       "      <td>[1076, 4603, 917, 5104, 391, 5106, 5105, 5107,...</td>\n",
       "    </tr>\n",
       "    <tr>\n",
       "      <th>10004</th>\n",
       "      <td>[1076, 4603, 1031, 5104, 10001, 5984, 10002, 1...</td>\n",
       "    </tr>\n",
       "    <tr>\n",
       "      <th>10005</th>\n",
       "      <td>[1007, 535, 215, 1236, 35]</td>\n",
       "    </tr>\n",
       "  </tbody>\n",
       "</table>\n",
       "</div>"
      ],
      "text/plain": [
       "                                                  people\n",
       "movie                                                   \n",
       "10001  [4374, 178, 3241, 47952, 47953, 19538, 18991, ...\n",
       "10002    [1076, 4603, 917, 8637, 5104, 9986, 7470, 9987]\n",
       "10003  [1076, 4603, 917, 5104, 391, 5106, 5105, 5107,...\n",
       "10004  [1076, 4603, 1031, 5104, 10001, 5984, 10002, 1...\n",
       "10005                         [1007, 535, 215, 1236, 35]"
      ]
     },
     "execution_count": 18,
     "metadata": {},
     "output_type": "execute_result"
    }
   ],
   "source": [
    "combined_castings_df = pd.DataFrame(castings_df.groupby('movie').apply(lambda x: list(x['people'])), columns=['people'])\n",
    "combined_castings_df.head()"
   ]
  },
  {
   "cell_type": "code",
   "execution_count": 19,
   "id": "e3643ec2-ac5c-40de-be60-cb1c1d675c8e",
   "metadata": {},
   "outputs": [
    {
     "data": {
      "text/html": [
       "<div>\n",
       "<style scoped>\n",
       "    .dataframe tbody tr th:only-of-type {\n",
       "        vertical-align: middle;\n",
       "    }\n",
       "\n",
       "    .dataframe tbody tr th {\n",
       "        vertical-align: top;\n",
       "    }\n",
       "\n",
       "    .dataframe thead th {\n",
       "        text-align: right;\n",
       "    }\n",
       "</style>\n",
       "<table border=\"1\" class=\"dataframe\">\n",
       "  <thead>\n",
       "    <tr style=\"text-align: right;\">\n",
       "      <th></th>\n",
       "      <th>countries</th>\n",
       "    </tr>\n",
       "    <tr>\n",
       "      <th>movie</th>\n",
       "      <th></th>\n",
       "    </tr>\n",
       "  </thead>\n",
       "  <tbody>\n",
       "    <tr>\n",
       "      <th>10001</th>\n",
       "      <td>이탈리아,프랑스</td>\n",
       "    </tr>\n",
       "    <tr>\n",
       "      <th>10002</th>\n",
       "      <td>미국</td>\n",
       "    </tr>\n",
       "    <tr>\n",
       "      <th>10003</th>\n",
       "      <td>미국</td>\n",
       "    </tr>\n",
       "    <tr>\n",
       "      <th>10004</th>\n",
       "      <td>미국</td>\n",
       "    </tr>\n",
       "    <tr>\n",
       "      <th>10005</th>\n",
       "      <td>미국</td>\n",
       "    </tr>\n",
       "  </tbody>\n",
       "</table>\n",
       "</div>"
      ],
      "text/plain": [
       "      countries\n",
       "movie          \n",
       "10001  이탈리아,프랑스\n",
       "10002        미국\n",
       "10003        미국\n",
       "10004        미국\n",
       "10005        미국"
      ]
     },
     "execution_count": 19,
     "metadata": {},
     "output_type": "execute_result"
    }
   ],
   "source": [
    "combined_countries_df = pd.DataFrame(countries_df.groupby('movie').apply(lambda x: ','.join(x['country'])), columns=['countries'])\n",
    "combined_countries_df.head()"
   ]
  },
  {
   "cell_type": "code",
   "execution_count": 20,
   "id": "c42cba82-5c5e-4c8a-9441-e71fb6731ebf",
   "metadata": {},
   "outputs": [
    {
     "data": {
      "text/html": [
       "<div>\n",
       "<style scoped>\n",
       "    .dataframe tbody tr th:only-of-type {\n",
       "        vertical-align: middle;\n",
       "    }\n",
       "\n",
       "    .dataframe tbody tr th {\n",
       "        vertical-align: top;\n",
       "    }\n",
       "\n",
       "    .dataframe thead th {\n",
       "        text-align: right;\n",
       "    }\n",
       "</style>\n",
       "<table border=\"1\" class=\"dataframe\">\n",
       "  <thead>\n",
       "    <tr style=\"text-align: right;\">\n",
       "      <th></th>\n",
       "      <th>title</th>\n",
       "      <th>title_eng</th>\n",
       "      <th>year</th>\n",
       "      <th>grade</th>\n",
       "      <th>genres</th>\n",
       "      <th>people</th>\n",
       "      <th>countries</th>\n",
       "    </tr>\n",
       "    <tr>\n",
       "      <th>movie</th>\n",
       "      <th></th>\n",
       "      <th></th>\n",
       "      <th></th>\n",
       "      <th></th>\n",
       "      <th></th>\n",
       "      <th></th>\n",
       "      <th></th>\n",
       "    </tr>\n",
       "  </thead>\n",
       "  <tbody>\n",
       "    <tr>\n",
       "      <th>10001</th>\n",
       "      <td>시네마 천국</td>\n",
       "      <td>Cinema Paradiso , 1988</td>\n",
       "      <td>2013.0</td>\n",
       "      <td>전체 관람가</td>\n",
       "      <td>드라마/멜로/로맨스</td>\n",
       "      <td>[4374, 178, 3241, 47952, 47953, 19538, 18991, ...</td>\n",
       "      <td>이탈리아,프랑스</td>\n",
       "    </tr>\n",
       "    <tr>\n",
       "      <th>10002</th>\n",
       "      <td>빽 투 더 퓨쳐</td>\n",
       "      <td>Back To The Future , 1985</td>\n",
       "      <td>2015.0</td>\n",
       "      <td>12세 관람가</td>\n",
       "      <td>SF/코미디</td>\n",
       "      <td>[1076, 4603, 917, 8637, 5104, 9986, 7470, 9987]</td>\n",
       "      <td>미국</td>\n",
       "    </tr>\n",
       "    <tr>\n",
       "      <th>10003</th>\n",
       "      <td>빽 투 더 퓨쳐 2</td>\n",
       "      <td>Back To The Future Part 2 , 1989</td>\n",
       "      <td>2015.0</td>\n",
       "      <td>12세 관람가</td>\n",
       "      <td>SF/코미디</td>\n",
       "      <td>[1076, 4603, 917, 5104, 391, 5106, 5105, 5107,...</td>\n",
       "      <td>미국</td>\n",
       "    </tr>\n",
       "    <tr>\n",
       "      <th>10004</th>\n",
       "      <td>빽 투 더 퓨쳐 3</td>\n",
       "      <td>Back To The Future Part III , 1990</td>\n",
       "      <td>1990.0</td>\n",
       "      <td>전체 관람가</td>\n",
       "      <td>서부/SF/판타지/코미디</td>\n",
       "      <td>[1076, 4603, 1031, 5104, 10001, 5984, 10002, 1...</td>\n",
       "      <td>미국</td>\n",
       "    </tr>\n",
       "    <tr>\n",
       "      <th>10005</th>\n",
       "      <td>스타워즈 에피소드 4 - 새로운 희망</td>\n",
       "      <td>Star Wars , 1977</td>\n",
       "      <td>1997.0</td>\n",
       "      <td>PG</td>\n",
       "      <td>판타지/모험/SF/액션</td>\n",
       "      <td>[1007, 535, 215, 1236, 35]</td>\n",
       "      <td>미국</td>\n",
       "    </tr>\n",
       "  </tbody>\n",
       "</table>\n",
       "</div>"
      ],
      "text/plain": [
       "                      title                           title_eng    year  \\\n",
       "movie                                                                     \n",
       "10001                시네마 천국              Cinema Paradiso , 1988  2013.0   \n",
       "10002              빽 투 더 퓨쳐           Back To The Future , 1985  2015.0   \n",
       "10003            빽 투 더 퓨쳐 2    Back To The Future Part 2 , 1989  2015.0   \n",
       "10004            빽 투 더 퓨쳐 3  Back To The Future Part III , 1990  1990.0   \n",
       "10005  스타워즈 에피소드 4 - 새로운 희망                    Star Wars , 1977  1997.0   \n",
       "\n",
       "         grade         genres  \\\n",
       "movie                           \n",
       "10001   전체 관람가     드라마/멜로/로맨스   \n",
       "10002  12세 관람가         SF/코미디   \n",
       "10003  12세 관람가         SF/코미디   \n",
       "10004   전체 관람가  서부/SF/판타지/코미디   \n",
       "10005       PG   판타지/모험/SF/액션   \n",
       "\n",
       "                                                  people countries  \n",
       "movie                                                               \n",
       "10001  [4374, 178, 3241, 47952, 47953, 19538, 18991, ...  이탈리아,프랑스  \n",
       "10002    [1076, 4603, 917, 8637, 5104, 9986, 7470, 9987]        미국  \n",
       "10003  [1076, 4603, 917, 5104, 391, 5106, 5105, 5107,...        미국  \n",
       "10004  [1076, 4603, 1031, 5104, 10001, 5984, 10002, 1...        미국  \n",
       "10005                         [1007, 535, 215, 1236, 35]        미국  "
      ]
     },
     "execution_count": 20,
     "metadata": {},
     "output_type": "execute_result"
    }
   ],
   "source": [
    "movies_df = pd.concat([movies_df, combined_genres_df, combined_castings_df, combined_countries_df], axis=1)\n",
    "movies_df.head()"
   ]
  },
  {
   "cell_type": "markdown",
   "id": "8e1a4230-8f13-4000-9d0d-c84ea6a263f5",
   "metadata": {},
   "source": [
    "## Dataset Loader"
   ]
  },
  {
   "cell_type": "code",
   "execution_count": 21,
   "id": "4d8db430-30f4-4f92-be6b-1e16d92cbdd9",
   "metadata": {},
   "outputs": [],
   "source": [
    "import pandas as pd\n",
    "from sklearn.model_selection import train_test_split\n",
    "\n",
    "class DatasetLoader:\n",
    "    \n",
    "    def __init__(self, data_path):\n",
    "        self.train_df, val_temp_df = train_test_split(pd.read_csv(data_path),\n",
    "                                                      test_size=0.2, random_state=7, shuffle=True)\n",
    "        self.min_rating = self.train_df.rate.min()\n",
    "        self.max_rating = self.train_df.rate.max()\n",
    "        self.unique_users = self.train_df.user.unique()\n",
    "        self.num_users = len(self.unique_users)\n",
    "        self.user_to_index = {original: idx for idx, original in enumerate(self.unique_users)}\n",
    "        self.unique_movies = self.train_df.movie.unique()\n",
    "        self.num_movies = len(self.unique_movies)\n",
    "        self.movie_to_index = {original: idx for idx, original in enumerate(self.unique_movies)}\n",
    "        self.val_df = val_temp_df[val_temp_df.user.isin(self.unique_users) \\\n",
    "                                  & val_temp_df.movie.isin(self.unique_movies)]\n",
    "        \n",
    "    def generate_trainset(self):\n",
    "        X_train = pd.DataFrame({'user': self.train_df.user.map(self.user_to_index),\n",
    "                                'movie': self.train_df.movie.map(self.movie_to_index)})\n",
    "        y_train = self.train_df['rate'].astype(np.float32)\n",
    "\n",
    "        return X_train, y_train\n",
    "\n",
    "    def generate_valset(self):\n",
    "        X_val = pd.DataFrame({'user': self.val_df.user.map(self.user_to_index),\n",
    "                              'movie': self.val_df.movie.map(self.movie_to_index)})\n",
    "        y_val = self.val_df['rate'].astype(np.float32)\n",
    "        return X_val, y_val"
   ]
  },
  {
   "cell_type": "markdown",
   "id": "a7248f10-358b-4778-af62-30a9f4181969",
   "metadata": {},
   "source": [
    "## Model Structure"
   ]
  },
  {
   "cell_type": "code",
   "execution_count": 22,
   "id": "e2c86bc0-a1f9-4172-9740-1bc68fbafa96",
   "metadata": {},
   "outputs": [],
   "source": [
    "from torch import nn, optim\n",
    "\n",
    "class FeedForwardEmbedNN(nn.Module):\n",
    "    \n",
    "    def __init__(self, n_users, n_movies, hidden, dropouts, n_factors, embedding_dropout):\n",
    "        super().__init__()\n",
    "        self.user_emb = nn.Embedding(n_users, n_factors)\n",
    "        self.movie_emb = nn.Embedding(n_movies, n_factors)\n",
    "        self.drop = nn.Dropout(embedding_dropout)\n",
    "        self.hidden_layers = nn.Sequential(*list(self.generate_layers(n_factors*2, hidden, dropouts)))\n",
    "        self.fc = nn.Linear(hidden[-1], 1)\n",
    "                                           \n",
    "    def generate_layers(self, n_factors, hidden, dropouts):\n",
    "        assert len(dropouts) == len(hidden)\n",
    "        idx = 0\n",
    "        while idx < len(hidden):\n",
    "            if idx == 0:\n",
    "                yield nn.Linear(n_factors, hidden[idx])\n",
    "            else:\n",
    "                yield nn.Linear(hidden[idx-1], hidden[idx])\n",
    "            yield nn.ReLU()\n",
    "            yield nn.Dropout(dropouts[idx])\n",
    "            idx += 1\n",
    "                                         \n",
    "    def forward(self, users, movies, min_rating=0.5, max_rating=5):\n",
    "        concat_features = torch.cat([self.user_emb(users), self.movie_emb(movies)], dim=1)\n",
    "        x = F.relu(self.hidden_layers(concat_features))\n",
    "        out = torch.sigmoid(self.fc(x))\n",
    "        out = (out * (max_rating - min_rating)) + min_rating\n",
    "        return out\n",
    "    \n",
    "    def predict(self, users, movies):\n",
    "        output_scores = self.forward(users, movies)\n",
    "        return output_scores"
   ]
  },
  {
   "cell_type": "code",
   "execution_count": 23,
   "id": "0270aae8-f3d7-4468-9a37-9c7db838fa9d",
   "metadata": {},
   "outputs": [],
   "source": [
    "class BatchIterator:\n",
    "\n",
    "    def __init__(self, X, y, batch_size=32, shuffle=True):\n",
    "        X, y = np.asarray(X), np.asarray(y)\n",
    "\n",
    "        if shuffle:\n",
    "            index = np.random.permutation(X.shape[0])\n",
    "            X, y = X[index], y[index]\n",
    "\n",
    "        self.X = X\n",
    "        self.y = y\n",
    "        self.batch_size = batch_size\n",
    "        self.shuffle = shuffle\n",
    "        self.n_batches = int(math.ceil(X.shape[0] // batch_size))\n",
    "        self._current = 0\n",
    "\n",
    "    def __iter__(self):\n",
    "        return self\n",
    "\n",
    "    def __next__(self):\n",
    "        return self.next()\n",
    "\n",
    "    def next(self):\n",
    "        if self._current >= self.n_batches:\n",
    "            raise StopIteration()\n",
    "        k = self._current\n",
    "        self._current += 1\n",
    "        bs = self.batch_size\n",
    "        return self.X[k * bs:(k + 1) * bs], self.y[k * bs:(k + 1) * bs]"
   ]
  },
  {
   "cell_type": "code",
   "execution_count": 24,
   "id": "c5ca4c58-9ec7-4e5f-9b88-91287b7e5ebe",
   "metadata": {},
   "outputs": [],
   "source": [
    "def batches(X, y, bs=32, shuffle=True):\n",
    "    for x_batch, y_batch in BatchIterator(X, y, bs, shuffle):\n",
    "        x_batch = torch.LongTensor(x_batch)\n",
    "        y_batch = torch.FloatTensor(y_batch)\n",
    "        yield x_batch, y_batch.view(-1, 1)"
   ]
  },
  {
   "cell_type": "markdown",
   "id": "b540ebe8-deaf-4776-b770-a8014b5ddf36",
   "metadata": {},
   "source": [
    "## Train model"
   ]
  },
  {
   "cell_type": "code",
   "execution_count": 25,
   "id": "3b7da669-b326-4978-9a6e-8b764d482044",
   "metadata": {},
   "outputs": [],
   "source": [
    "def model_train(ds, config):\n",
    "    device = torch.device('cuda:0' if torch.cuda.is_available() else 'cpu')\n",
    "\n",
    "    X_train, y_train = ds.generate_trainset()\n",
    "    X_valid, y_valid = ds.generate_valset()\n",
    "    print(f'TrainSet Info: {ds.num_users} users, {ds.num_movies} movies')\n",
    "\n",
    "    model = FeedForwardEmbedNN(\n",
    "        n_users=ds.num_users, n_movies=ds.num_movies,\n",
    "        n_factors=config['num_factors'], hidden=config['hidden_layers'],\n",
    "        embedding_dropout=config['embedding_dropout'], dropouts=config['dropouts']\n",
    "    )\n",
    "    model.to(device)\n",
    "\n",
    "    batch_size = config['batch_size']\n",
    "    num_epochs = config['num_epochs']\n",
    "    max_patience = config['total_patience']\n",
    "    num_patience = 0\n",
    "    best_loss = np.inf\n",
    "\n",
    "    criterion = nn.MSELoss(reduction='sum')\n",
    "    criterion.to(device)\n",
    "    optimizer = optim.Adam(model.parameters(), lr=config['learning_rate'],\n",
    "                           weight_decay=config['weight_decay'])\n",
    "\n",
    "    result = dict()\n",
    "    for epoch in tqdm(range(num_epochs)):\n",
    "        training_loss = 0.0\n",
    "        for batch in batches(X_train, y_train, shuffle=True, bs=batch_size):\n",
    "            x_batch, y_batch = [b.to(device) for b in batch]\n",
    "            optimizer.zero_grad()\n",
    "            # with torch.no_grad() 와 동일한 syntax 입니다\n",
    "            with torch.set_grad_enabled(True):\n",
    "                outputs = model(x_batch[:, 0], x_batch[:, 1], ds.min_rating, ds.max_rating)\n",
    "                loss = criterion(outputs, y_batch)\n",
    "                loss.backward()\n",
    "                optimizer.step()\n",
    "            training_loss += loss.item()\n",
    "        result['train'] = training_loss / len(X_train)\n",
    "\n",
    "        # Apply Early Stopping criteria and save best model params\n",
    "        val_outputs = model(torch.LongTensor(X_valid.user.values).to(device),\n",
    "                            torch.LongTensor(X_valid.movie.values).to(device), ds.min_rating, ds.max_rating)\n",
    "        val_loss = criterion(val_outputs.to(device), torch.FloatTensor(y_valid.values).view(-1, 1).to(device))\n",
    "        result['val'] = float((val_loss / len(X_valid)).data)\n",
    "\n",
    "        if val_loss < best_loss:\n",
    "            print('Save new model on epoch: %d' % (epoch + 1))\n",
    "            best_loss = val_loss\n",
    "            result['best_loss'] = val_loss\n",
    "            torch.save(model.state_dict(), config['save_path'])\n",
    "            num_patience = 0\n",
    "        else:\n",
    "            num_patience += 1\n",
    "\n",
    "        print(f'[epoch: {epoch+1}] train: {result[\"train\"]} - val: {result[\"val\"]}')\n",
    "\n",
    "        if num_patience >= max_patience:\n",
    "            print(f\"Early Stopped after epoch {epoch+1}\")\n",
    "            break\n",
    "\n",
    "    return result"
   ]
  },
  {
   "cell_type": "code",
   "execution_count": 26,
   "id": "0f04a595-2599-439c-8c7a-b6ce0bef589e",
   "metadata": {},
   "outputs": [],
   "source": [
    "data_dir = '../datasets/kmrd/kmr_dataset/datafile/kmrd-small'\n",
    "data_filename = 'rates.csv'\n",
    "data_path = os.path.join(data_dir, data_filename)\n",
    "dataset = DatasetLoader(data_path)"
   ]
  },
  {
   "cell_type": "code",
   "execution_count": 27,
   "id": "5c1ca086-591b-4f4f-8546-e52b36464d28",
   "metadata": {},
   "outputs": [],
   "source": [
    "config = {\n",
    "    \"num_factors\": 16,\n",
    "    \"hidden_layers\": [64, 32, 16],\n",
    "    \"embedding_dropout\": 0.05,\n",
    "    \"dropouts\": [0.3, 0.3, 0.3],\n",
    "    \"learning_rate\": 1e-3,\n",
    "    \"weight_decay\": 1e-5,\n",
    "    \"batch_size\": 8,\n",
    "    \"num_epochs\": 3,\n",
    "    \"total_patience\": 30,\n",
    "    \"save_path\": \"params.data\"\n",
    "}"
   ]
  },
  {
   "cell_type": "code",
   "execution_count": 28,
   "id": "ca5769bb-1107-430d-84ff-5a88b78776e2",
   "metadata": {},
   "outputs": [
    {
     "name": "stdout",
     "output_type": "stream",
     "text": [
      "TrainSet Info: 44554 users, 594 movies\n"
     ]
    },
    {
     "name": "stderr",
     "output_type": "stream",
     "text": [
      " 33%|███▎      | 1/3 [00:22<00:44, 22.32s/it]"
     ]
    },
    {
     "name": "stdout",
     "output_type": "stream",
     "text": [
      "Save new model on epoch: 1\n",
      "[epoch: 1] train: 4.282606438265097 - val: 4.0021843910217285\n"
     ]
    },
    {
     "name": "stderr",
     "output_type": "stream",
     "text": [
      " 67%|██████▋   | 2/3 [00:43<00:21, 21.93s/it]"
     ]
    },
    {
     "name": "stdout",
     "output_type": "stream",
     "text": [
      "Save new model on epoch: 2\n",
      "[epoch: 2] train: 3.695007214637341 - val: 3.7426116466522217\n"
     ]
    },
    {
     "name": "stderr",
     "output_type": "stream",
     "text": [
      "100%|██████████| 3/3 [01:06<00:00, 22.07s/it]"
     ]
    },
    {
     "name": "stdout",
     "output_type": "stream",
     "text": [
      "Save new model on epoch: 3\n",
      "[epoch: 3] train: 3.2749883148887515 - val: 3.700655937194824\n"
     ]
    },
    {
     "name": "stderr",
     "output_type": "stream",
     "text": [
      "\n"
     ]
    },
    {
     "data": {
      "text/plain": [
       "{'train': 3.2749883148887515,\n",
       " 'val': 3.700655937194824,\n",
       " 'best_loss': tensor(75152.9219, device='cuda:0', grad_fn=<MseLossBackward0>)}"
      ]
     },
     "execution_count": 28,
     "metadata": {},
     "output_type": "execute_result"
    }
   ],
   "source": [
    "model_train(dataset, config)"
   ]
  },
  {
   "cell_type": "markdown",
   "id": "198307ff-02a7-4e37-bcb2-11cc59c25320",
   "metadata": {},
   "source": [
    "## Test"
   ]
  },
  {
   "cell_type": "code",
   "execution_count": 29,
   "id": "c6d0b255-1aab-4cb1-9433-09ae145ec6f8",
   "metadata": {},
   "outputs": [],
   "source": [
    "def model_valid(user_id_list, movie_id_list, data_path):\n",
    "    dataset = DatasetLoader(data_path)\n",
    "    processed_test_input_df = pd.DataFrame({\n",
    "        'user_id': [dataset.user_to_index[x] for x in user_id_list],\n",
    "        'movie_id': [dataset.movie_to_index[x] for x in movie_id_list]\n",
    "    })\n",
    "\n",
    "    # 학습한 모델 load하기 \n",
    "    my_model = FeedForwardEmbedNN(dataset.num_users, dataset.num_movies,\n",
    "                       config['hidden_layers'], config['dropouts'], config['num_factors'], config['embedding_dropout'])\n",
    "    my_model.load_state_dict(torch.load('params.data'))\n",
    "    prediction_outputs = my_model.predict(users=torch.LongTensor(processed_test_input_df.user_id.values),\n",
    "                     movies=torch.LongTensor(processed_test_input_df.movie_id.values))\n",
    "\n",
    "    return prediction_outputs"
   ]
  },
  {
   "cell_type": "code",
   "execution_count": 30,
   "id": "141b6571-06c2-4fcb-9033-20849727ec44",
   "metadata": {},
   "outputs": [
    {
     "data": {
      "text/html": [
       "<div>\n",
       "<style scoped>\n",
       "    .dataframe tbody tr th:only-of-type {\n",
       "        vertical-align: middle;\n",
       "    }\n",
       "\n",
       "    .dataframe tbody tr th {\n",
       "        vertical-align: top;\n",
       "    }\n",
       "\n",
       "    .dataframe thead th {\n",
       "        text-align: right;\n",
       "    }\n",
       "</style>\n",
       "<table border=\"1\" class=\"dataframe\">\n",
       "  <thead>\n",
       "    <tr style=\"text-align: right;\">\n",
       "      <th></th>\n",
       "      <th>userId</th>\n",
       "      <th>movieId</th>\n",
       "      <th>pred_ratings</th>\n",
       "    </tr>\n",
       "  </thead>\n",
       "  <tbody>\n",
       "    <tr>\n",
       "      <th>1</th>\n",
       "      <td>11242</td>\n",
       "      <td>10102</td>\n",
       "      <td>4.948718</td>\n",
       "    </tr>\n",
       "    <tr>\n",
       "      <th>2</th>\n",
       "      <td>11242</td>\n",
       "      <td>10007</td>\n",
       "      <td>4.815145</td>\n",
       "    </tr>\n",
       "    <tr>\n",
       "      <th>0</th>\n",
       "      <td>11242</td>\n",
       "      <td>10253</td>\n",
       "      <td>4.800036</td>\n",
       "    </tr>\n",
       "  </tbody>\n",
       "</table>\n",
       "</div>"
      ],
      "text/plain": [
       "   userId  movieId  pred_ratings\n",
       "1   11242    10102      4.948718\n",
       "2   11242    10007      4.815145\n",
       "0   11242    10253      4.800036"
      ]
     },
     "execution_count": 30,
     "metadata": {},
     "output_type": "execute_result"
    }
   ],
   "source": [
    "movie_id_list = [10253, 10102, 10007]\n",
    "user_id = 11242\n",
    "user_id_list = [user_id] * len(movie_id_list)\n",
    "pred_results = [float(x) for x in model_valid(user_id_list, movie_id_list, data_path)]\n",
    "\n",
    "result_df = pd.DataFrame({\n",
    "    'userId': user_id_list,\n",
    "    'movieId': movie_id_list,\n",
    "    # 'movieName': [movieName_dict[x] for x in movie_id_list],\n",
    "    # 'genres': [genres_dict[x] for x in movie_id_list],\n",
    "    'pred_ratings': pred_results\n",
    "})\n",
    "\n",
    "result_df.sort_values(by='pred_ratings', ascending=False)"
   ]
  }
 ],
 "metadata": {
  "kernelspec": {
   "display_name": "Python 3",
   "language": "python",
   "name": "python3"
  },
  "language_info": {
   "codemirror_mode": {
    "name": "ipython",
    "version": 3
   },
   "file_extension": ".py",
   "mimetype": "text/x-python",
   "name": "python",
   "nbconvert_exporter": "python",
   "pygments_lexer": "ipython3",
   "version": "3.6.9"
  }
 },
 "nbformat": 4,
 "nbformat_minor": 5
}
