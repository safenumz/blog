{
 "cells": [
  {
   "cell_type": "markdown",
   "id": "2d87c0c1-0f9c-47d4-a697-6503a50ad9d1",
   "metadata": {},
   "source": [
    "# \"[Recommender System] Deep Neural Networks for YouTube Recommendations\"\n",
    "> 2016, Google, 딥러닝 기반 YouTube 추천 시스템\n",
    "\n",
    "- toc: true\n",
    "- badges: true\n",
    "- comments: true\n",
    "- categories: [Paper]\n",
    "- tags: [paper, recommender system, deep, youtube]"
   ]
  },
  {
   "cell_type": "markdown",
   "id": "5883cb46-80d6-4dea-8b19-e1a264a25090",
   "metadata": {},
   "source": [
    "# Deep Neural Networks for YouTube Recommendations"
   ]
  },
  {
   "cell_type": "markdown",
   "id": "4e69159d-7e30-4aac-8f07-748a4fe9e19f",
   "metadata": {},
   "source": [
    "![](../images/paper/recommendation/dub/dub-001.png)"
   ]
  },
  {
   "cell_type": "markdown",
   "id": "740e2d95-ab6e-4125-92b6-3f6b0663799c",
   "metadata": {},
   "source": [
    "## Abstract"
   ]
  },
  {
   "cell_type": "markdown",
   "id": "f83e8131-5505-441c-938a-0823c76f085e",
   "metadata": {},
   "source": [
    "![](../images/paper/recommendation/dub/dub-002.png)"
   ]
  },
  {
   "cell_type": "markdown",
   "id": "0457f962-12ed-4a57-a1cd-461438af8b9f",
   "metadata": {},
   "source": [
    "- YouTube는 가장 크고 정교한 상업 추천시스템\n",
    "- 딥러닝을 적용하고 성능이 dramatic하게 향상됨\n",
    "- Two-stage information retrieval dichotomy를 소개\n",
    "    - Deep candidate generation model\n",
    "    - Deep ranking model\n",
    "- 거대한 추천 시스템을 구축할 때의 인사이트도 함께 제시"
   ]
  },
  {
   "cell_type": "markdown",
   "id": "45b73257-4d47-4247-8840-62597c0bd446",
   "metadata": {},
   "source": [
    "## Introduction"
   ]
  },
  {
   "cell_type": "markdown",
   "id": "f55d5627-85a9-4175-ae23-b32f6cf0a716",
   "metadata": {},
   "source": [
    "- YouTube 추천은 수많은 사용자에게 개인화된 컨텐츠 추천을 해야될 책임이 있음\n",
    "- 추천시스템 구현시 고민 사항\n",
    "   - Scale\n",
    "       - YouTube의 수많은 사용자와 코퍼스를 다루기 위해서 효율적인 서빙과 특화된 추천알고리즘이 필요\n",
    "   - Freshness\n",
    "       - YouTube에는 매분매초 수많은 영상이 업로드 되고, 추천시스템은 새롭게 올라오는 컨텐츠와 사용자의 행동에 적절하게 대응해야 함\n",
    "       - 잘 만들어진 영상과 새로운 컨텐츠 사이에서 적절하게 적용 및 반영할 수 있어야 함\n",
    "   - Noise\n",
    "       - Sparsity와 수많은 외부요인으로 사용자 행동을 예측하기 어려움\n",
    "       - Implicit feedback을 적절히 사용하고, poorly structured metadata도 활용할 수 있어야 함"
   ]
  },
  {
   "cell_type": "markdown",
   "id": "14d6d04a-29f2-4e8d-a606-8ab6839f69bc",
   "metadata": {},
   "source": [
    "## System Overview"
   ]
  },
  {
   "cell_type": "markdown",
   "id": "e1641d2e-c6de-4802-ba5e-e5d260fa96bf",
   "metadata": {},
   "source": [
    "![](../images/paper/recommendation/dub/dub-003.png)"
   ]
  },
  {
   "cell_type": "markdown",
   "id": "60e52694-8d1e-4674-acf3-7b2f14446b3c",
   "metadata": {},
   "source": [
    "- Candidate Generation과 Ranking 부분으로 나눌 수 있음\n",
    "- Candidate Generation\n",
    "    - Input: 사용자의 YouTube 히스토리\n",
    "    - Output: 사용자와 관련 있을만한 영상 집합\n",
    "    - 협업필터링을 사용하고, 시청기록, 검색키워드, demographics 정보를 활용\n",
    "- Ranking Model\n",
    "    - 영상과 사용자 features로 각 영상에 대해 점수를 매김\n",
    "- 학습할 때, offline metirc(precision, recall, ranking loss 등) 활용\n",
    "- (라이브) A/B 테스트를 통해 최종 알고리즘을 선택"
   ]
  },
  {
   "cell_type": "markdown",
   "id": "c55460b7-3fed-458e-bb3b-bfe236da0d1d",
   "metadata": {},
   "source": [
    "## Candidate Generation"
   ]
  },
  {
   "cell_type": "markdown",
   "id": "837a4604-f50c-4310-b764-dac0b0e8806b",
   "metadata": {},
   "source": [
    "- Non-linear generation of factorization technique"
   ]
  },
  {
   "cell_type": "markdown",
   "id": "c749107b-8891-4012-bbda-ab5aebfdafa4",
   "metadata": {},
   "source": [
    "### Recommendation as Classification"
   ]
  },
  {
   "cell_type": "markdown",
   "id": "ef8c4d4d-6dff-4723-814c-4af7933a17be",
   "metadata": {},
   "source": [
    "$ \\large P(w_t = i \\, | \\, U, C ) = \\displaystyle {e^{v_{i}u} \\over \\sum_{j \\in V}e^{v_{j}u}} $  "
   ]
  },
  {
   "cell_type": "markdown",
   "id": "4ff7d9e8-47f7-435a-a287-6cd2d1046060",
   "metadata": {},
   "source": [
    "- $u \\in \\mathbb{R}^N$: high-dimensional user-embedding\n",
    "- $v_j \\in \\mathbb{R}^N$: 개별 video의 embedding\n",
    "- $C$: context\n",
    "- 사용자와 context의 vector u를 학습하여 영상을 시청할 확률을 학습하는 Softmax Classifier\n",
    "- Sparse한 Explicit feedback과 많은 implicit feedback을 활용\n",
    "- Negative Sampling을 통해 효율적인 학습을 함"
   ]
  },
  {
   "cell_type": "markdown",
   "id": "d448fda7-37a1-42e9-a6f4-b4c602bb34b8",
   "metadata": {},
   "source": [
    "![](../images/paper/recommendation/dub/dub-004.png)"
   ]
  },
  {
   "cell_type": "markdown",
   "id": "37c7341f-62d0-45bd-800c-95dc47745471",
   "metadata": {},
   "source": [
    "### Model Architecture"
   ]
  },
  {
   "cell_type": "markdown",
   "id": "e2a402cd-03ad-44e9-b54f-7b6b12a3612b",
   "metadata": {},
   "source": [
    "- 다음의 embedding을 모두 concat\n",
    "- 사용자의 시청기록 (embedded video watches)\n",
    "- 사용자의 검색기록 (embedded search token)\n",
    "- geographic embedding\n",
    "- 추가 meta 정보 (age, gender 등)"
   ]
  },
  {
   "cell_type": "markdown",
   "id": "c04aeddb-fd61-45d0-9904-5c2ee379c926",
   "metadata": {},
   "source": [
    "### Heterogeneous Signals"
   ]
  },
  {
   "cell_type": "markdown",
   "id": "25d63b59-e2b2-4476-b5a4-fdf6c40bf759",
   "metadata": {},
   "source": [
    "- Continuous와 categorical features를 deep neural network에 사용할 수 있음\n",
    "- 보통 새로운 영상은 사용자가 선호하는 경향을 보임\n",
    "- Age feature는 영상 콘텐츠의 시간 정보"
   ]
  },
  {
   "cell_type": "markdown",
   "id": "635bf361-5199-4879-8536-c7e55b2432a1",
   "metadata": {},
   "source": [
    "### Label and Context Selection"
   ]
  },
  {
   "cell_type": "markdown",
   "id": "14067ef9-e5db-4e38-8eb9-dde639a05eae",
   "metadata": {},
   "source": [
    "![](../images/paper/recommendation/dub/dub-005.png)"
   ]
  },
  {
   "cell_type": "markdown",
   "id": "2e94e84b-caa7-4599-8a0a-061642011822",
   "metadata": {},
   "source": [
    "- 추천시스템은 surrogate problem(실제 상황과 evaluation metric 차이)를 항상 고려해야 함\n",
    "- 유튜브 이외 데이터도 학습데이터에 포함해야 함\n",
    "- 사용자의 가중치를 동일하게 하기 위해 사용자의 학습데이터 수를 고정\n",
    "- 무작위로 아이템을 선정하여 예측하는 것보다 특정 시점 기준으로 예측하는 것이 더 효과적"
   ]
  },
  {
   "cell_type": "markdown",
   "id": "b2143390-256e-403e-94fd-4b2fe90a5f8e",
   "metadata": {},
   "source": [
    "### Experiments"
   ]
  },
  {
   "cell_type": "markdown",
   "id": "7ec1240b-e603-4480-83c8-3460a2d275f3",
   "metadata": {},
   "source": [
    "![](../images/paper/recommendation/dub/dub-006.png)"
   ]
  },
  {
   "cell_type": "markdown",
   "id": "a7b0024b-712c-4bf1-802c-f0c579f07e03",
   "metadata": {},
   "source": [
    "- Features 수와 depth에 따라 달라지는 성능을 비교"
   ]
  },
  {
   "cell_type": "markdown",
   "id": "bb4744f3-b969-4b97-873e-2be539644498",
   "metadata": {},
   "source": [
    "## Ranking"
   ]
  },
  {
   "cell_type": "markdown",
   "id": "88c1acfd-0d12-4435-99ac-1a3518bc33c7",
   "metadata": {},
   "source": [
    "- Ranking에서는 영상과 사용자 사이의 관계를 표현하는 features를 많이 사용해야 함\n",
    "- Candidate generation과 비슷한 모델 구조를 사용\n",
    "- Categorial과 continuous features를 사용\n",
    "- 사용자의 이전 행동을 고려하여 이이템과의 interaction을 모델링 해야 함\n",
    "- 각 features에 대한 feature engineering이 필요\n",
    "    - Embedding Categorical features\n",
    "    - Normailizing Continous features\n",
    "- 사용자가 선택한 아이템과 그렇지 않은 아이템의 expected watch time을 예측하는 것이 목표"
   ]
  },
  {
   "cell_type": "markdown",
   "id": "0700aa57-aa15-4b16-acb7-c19103157eaa",
   "metadata": {},
   "source": [
    "![](../images/paper/recommendation/dub/dub-007.png)"
   ]
  },
  {
   "cell_type": "markdown",
   "id": "8c03712c-457f-4004-ace1-8c189408e898",
   "metadata": {},
   "source": [
    "## Conclusions"
   ]
  },
  {
   "cell_type": "markdown",
   "id": "e067ad78-7446-4855-be39-a0069cfb9858",
   "metadata": {},
   "source": [
    "- YouTube 영상 추천시스템은 candidate generation과 ranking 부분으로 나눠져 있음\n",
    "- Deep collaborative filtering 모델은 더 많은 특징과 interaction을 반영할 수 있음\n",
    "- Age feature를 추가하여 time-dependent한 부분을 반영하고 watch time이 증가함을 확인\n",
    "- Embedding categorical features와 normalized continuous features을 활용\n",
    "- 여러 층의 신경망은 수많은 features 사이의 non-linear interactions를 효과적으로 모델링 할 수 있음"
   ]
  }
 ],
 "metadata": {
  "kernelspec": {
   "display_name": "Python 3",
   "language": "python",
   "name": "python3"
  },
  "language_info": {
   "codemirror_mode": {
    "name": "ipython",
    "version": 3
   },
   "file_extension": ".py",
   "mimetype": "text/x-python",
   "name": "python",
   "nbconvert_exporter": "python",
   "pygments_lexer": "ipython3",
   "version": "3.6.9"
  }
 },
 "nbformat": 4,
 "nbformat_minor": 5
}
