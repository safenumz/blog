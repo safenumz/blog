{
 "cells": [
  {
   "cell_type": "markdown",
   "id": "ca5f459c-d773-40c8-b72d-2c0c144535f6",
   "metadata": {},
   "source": [
    "# \"[알고리즘] 정렬 알고리즘 (Sort Algorithm)\"\n",
    "> 버블 정렬, 삽입 정렬, 선택 정렬 등\n",
    "\n",
    "- toc: true \n",
    "- badges: true\n",
    "- comments: true\n",
    "- categories: [Algorithm]"
   ]
  },
  {
   "cell_type": "markdown",
   "id": "62a9d12b-ee89-499f-b7be-3aeb020e0cc2",
   "metadata": {},
   "source": [
    "# 정렬 알고리즘 "
   ]
  },
  {
   "cell_type": "markdown",
   "id": "8a435856-7af5-4731-8eef-fd4834e105dc",
   "metadata": {},
   "source": [
    "## 버블 정렬 (bubble sort)\n",
    "- 두 인접한 데이터를 비교해서, 앞에 있는 데이터가 뒤에 있는 데이터보다 크면, 자리를 바꾸는 정렬 알고리즘\n",
    "* 반복문이 두 개 O($n^2$)\n",
    "  - 최악의 경우, <font size=5em>$\\frac { n * (n - 1)}{ 2 }$</font>\n",
    "* 완전 정렬이 되어 있는 상태라면 최선은 O(n)\n",
    "\n",
    "![](https://upload.wikimedia.org/wikipedia/commons/c/c8/Bubble-sort-example-300px.gif)"
   ]
  },
  {
   "cell_type": "code",
   "execution_count": 12,
   "id": "587f5347-778e-442a-9d6b-840359f6d193",
   "metadata": {},
   "outputs": [
    {
     "name": "stdout",
     "output_type": "stream",
     "text": [
      "[0, 1, 2, 3, 4, 8, 9, 14, 17, 18, 19, 20, 23, 25, 27, 31, 36, 37, 39, 42, 43, 44, 46, 47, 49, 50, 51, 54, 56, 57, 58, 59, 60, 64, 66, 69, 71, 73, 75, 76, 77, 78, 82, 84, 86, 87, 95, 96, 97, 98]\n"
     ]
    }
   ],
   "source": [
    "def bubble_sort(data):\n",
    "    for i in range(len(data) - 1):\n",
    "        swap = False\n",
    "        for j in range(len(data) - 1 - i):\n",
    "            if data[j] > data[j + 1]:\n",
    "                data[j], data[j + 1] = data[j + 1], data[j]\n",
    "                swap = True\n",
    "        if not swap:\n",
    "            break\n",
    "    return data\n",
    "\n",
    "import random\n",
    "data_list = random.sample(range(100), 50)\n",
    "print(bubble_sort(data_list))"
   ]
  },
  {
   "cell_type": "markdown",
   "id": "e414fc0d-7d46-4a6d-bf10-ce6c37bf03af",
   "metadata": {},
   "source": [
    "## 삽입 정렬 (insertion sort)\n",
    "* 삽입 정렬은 두 번째 인덱스부터 시작\n",
    "* 해당 인덱스(key 값) 앞에 있는 데이터(B)부터 비교해서 key 값이 더 작으면, B값을 뒤 인덱스로 복사\n",
    "* 이를 key 값이 더 큰 데이터를 만날때까지 반복, 그리고 큰 데이터를 만난 위치 바로 뒤에 key 값을 이동\n",
    "* 반복문이 두 개 O($n^2$)\n",
    "  - 최악의 경우, <font size=5em>$\\frac { n * (n - 1)}{ 2 }$</font>\n",
    "* 완전 정렬이 되어 있는 상태라면 최선은 O(n)\n",
    "\n",
    "![](https://upload.wikimedia.org/wikipedia/commons/9/9c/Insertion-sort-example.gif)"
   ]
  },
  {
   "cell_type": "code",
   "execution_count": 15,
   "id": "8e46e6e4-aad1-436d-8013-33213fdffef2",
   "metadata": {},
   "outputs": [
    {
     "name": "stdout",
     "output_type": "stream",
     "text": [
      "[2, 3, 5, 6, 7, 8, 9, 10, 11, 13, 14, 17, 18, 19, 21, 26, 27, 29, 30, 32, 33, 34, 36, 37, 38, 39, 40, 45, 46, 47, 49, 51, 57, 65, 66, 69, 71, 77, 78, 79, 80, 82, 83, 84, 90, 91, 92, 96, 98, 99]\n"
     ]
    }
   ],
   "source": [
    "def insertion_sort(data):\n",
    "    for i in range(len(data) - 1):\n",
    "        for j in range(i + 1, 0, -1):\n",
    "            if data[j] < data[j -1]:\n",
    "                data[j] , data[j - 1] = data[j - 1], data[j]\n",
    "            else:\n",
    "                break\n",
    "    return data\n",
    "\n",
    "import random\n",
    "data_list = random.sample(range(100), 50)\n",
    "print(insertion_sort(data_list))"
   ]
  },
  {
   "cell_type": "markdown",
   "id": "8f12b72b-de06-44a0-a88b-8d8b166f9929",
   "metadata": {},
   "source": [
    "## 선택 정렬 (selection sort)\n",
    "* 주어진 데이터 중, 최소값을 찾고, 해당 최소값을 데이터 맨 앞에 위치한 값과 교체함, 그리고 맨 앞의 위치를 뺀 나머지 데이터를 동일한 방법으로 반복하는 정렬 알고리즘\n",
    "* 반복문이 두 개 O($n^2$)\n",
    "  - 실제로 상세하게 계산하면, <font size=5em>$\\frac { n * (n - 1)}{ 2 }$</font>\n",
    "\n",
    "![](https://upload.wikimedia.org/wikipedia/commons/9/94/Selection-Sort-Animation.gif)"
   ]
  },
  {
   "cell_type": "code",
   "execution_count": 19,
   "id": "7a1fe910-a70e-47ce-b74f-9ac876a0f877",
   "metadata": {},
   "outputs": [
    {
     "data": {
      "text/plain": [
       "[0, 2, 8, 14, 18, 26, 37, 62, 74, 79]"
      ]
     },
     "execution_count": 19,
     "metadata": {},
     "output_type": "execute_result"
    }
   ],
   "source": [
    "def selection_sort(data):\n",
    "    for i in range(len(data) - 1):\n",
    "        lowest = i\n",
    "        for j in range(i + 1, len(data)):\n",
    "            if data[lowest] > data[j]:\n",
    "                lowest = j\n",
    "        data[lowest], data[i] = data[i], data[lowest]\n",
    "    return data\n",
    "\n",
    "import random\n",
    "data_list = random.sample(range(100), 10)\n",
    "selection_sort(data_list)"
   ]
  },
  {
   "cell_type": "code",
   "execution_count": null,
   "id": "8ace0cc0-8a07-4398-96fc-109942aa0ce7",
   "metadata": {},
   "outputs": [],
   "source": []
  }
 ],
 "metadata": {
  "kernelspec": {
   "display_name": "Python 3",
   "language": "python",
   "name": "python3"
  },
  "language_info": {
   "codemirror_mode": {
    "name": "ipython",
    "version": 3
   },
   "file_extension": ".py",
   "mimetype": "text/x-python",
   "name": "python",
   "nbconvert_exporter": "python",
   "pygments_lexer": "ipython3",
   "version": "3.6.9"
  }
 },
 "nbformat": 4,
 "nbformat_minor": 5
}
