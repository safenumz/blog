{
 "cells": [
  {
   "cell_type": "markdown",
   "id": "1c149338-8c13-4c5c-b183-df0ea72ba05a",
   "metadata": {},
   "source": [
    "# \"[Project] ELK Stack 활용 신문 기사 분류 웹 서비스 구축\"\n",
    "> \"2019년 8월 ELK Stack 활용 신문 기사 분류 웹 서비스 구축\"\n",
    "\n",
    "\n",
    "- badges: true\n",
    "- comments: true\n",
    "- sticky_rank: 2\n",
    "- image: images/portfolio/paper/0.jpg\n",
    "- categories: [Project]"
   ]
  },
  {
   "cell_type": "markdown",
   "id": "32a19b5a-4a33-4ef3-903a-8e9bab385746",
   "metadata": {},
   "source": [
    "<script>\n",
    "var pagenum = 40\n",
    "var img_dir = \"{{ site.baseurl }}\" + \"/images/portfolio/paper\"\n",
    "var img_ext = \"png\"\n",
    "\n",
    "var img_array = []\n",
    "for (i = 1; i < pagenum+1; i++)  {\n",
    "    img_array.push(img_dir + \"/\" + i + \".\" + img_ext);\n",
    "}\n",
    "img_array.forEach( element => {\n",
    "    var h = `<img src=\"${element}\" alt=\"img\"><br>`;\n",
    "    document.write(h);\n",
    "});\n",
    "\n",
    "</script>"
   ]
  }
 ],
 "metadata": {
  "kernelspec": {
   "display_name": "Python 3",
   "language": "python",
   "name": "python3"
  },
  "language_info": {
   "codemirror_mode": {
    "name": "ipython",
    "version": 3
   },
   "file_extension": ".py",
   "mimetype": "text/x-python",
   "name": "python",
   "nbconvert_exporter": "python",
   "pygments_lexer": "ipython3",
   "version": "3.6.9"
  }
 },
 "nbformat": 4,
 "nbformat_minor": 5
}
