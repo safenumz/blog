{
 "cells": [
  {
   "cell_type": "markdown",
   "id": "dfb02d3c-00d3-47e3-b7a5-aabdf1f71bba",
   "metadata": {},
   "source": [
    "# \"[Recommender System] BPR: Bayesian Personalized Ranking from Implicit Feedback\"\n",
    "> 2009, Bayesian Personalized Ranking from Implicit Feedback\n",
    "\n",
    "- toc: true\n",
    "- badges: true\n",
    "- comments: true\n",
    "- categories: [Paper]\n",
    "- tags: [paper, recommender system, bayesian ranking, implicit feedback]"
   ]
  },
  {
   "cell_type": "markdown",
   "id": "e0588792-6ddc-4d30-a5b5-ecfe2a2bc05f",
   "metadata": {},
   "source": [
    "# BPR: Bayesian Personalized Ranking from Implicit Feedback"
   ]
  },
  {
   "cell_type": "markdown",
   "id": "4fb31702-2f9d-4565-abf0-f3d4b33dc5cb",
   "metadata": {},
   "source": [
    "![](../images/paper/recommendation/bpr/bpr-001.png)"
   ]
  },
  {
   "cell_type": "markdown",
   "id": "1b3d49a5-bded-41cd-9f41-0d4759b45360",
   "metadata": {},
   "source": [
    "## Abstract"
   ]
  },
  {
   "cell_type": "markdown",
   "id": "7ee1b118-d239-4703-8616-0c51a6198eed",
   "metadata": {},
   "source": [
    "<img src=\"../images/paper/recommendation/bpr/bpr-002.png\" width=\"35%\" height=\"35%\"/>"
   ]
  },
  {
   "cell_type": "markdown",
   "id": "c77eeec7-a14a-41cc-a8ff-021f0efeb0cc",
   "metadata": {},
   "source": [
    "- **Implicit Feedback**으로 추천 알고리즘을 다루는 논문\n",
    "- **Matrix Factorization**과 **(adaptive) k-nearest-neighbor** (**kNN**)으로 personalized ranking 실험\n",
    "- Bayesian을 활용한 최적화 기법(**BPR-Opt**)을 제시\n",
    "- 위의 최적화 기법을 적용하여 기존의 **MF**, **kNN** 보다 더 우수한 성능을 증명"
   ]
  },
  {
   "cell_type": "markdown",
   "id": "c893422b-49ee-4fe2-bf22-36ee8d080e7a",
   "metadata": {},
   "source": [
    "## Contribution"
   ]
  },
  {
   "cell_type": "markdown",
   "id": "6fb2ef49-aff5-46ee-b457-91667ff67a66",
   "metadata": {},
   "source": [
    "<img src=\"../images/paper/recommendation/bpr/bpr-003.png\" width=\"40%\" height=\"40%\"/>"
   ]
  },
  {
   "cell_type": "markdown",
   "id": "4330c9be-9cb2-494d-9d71-c70121b4026f",
   "metadata": {},
   "source": [
    "- **Maximum Posterior Estimator**에 기반한 최적화 기법인 **BPR-Opt**를 제안\n",
    "- **BPR-Opt**를 위한 **LearnBPR**를 제안, 기존 성능보다 우수\n",
    "- **LearnBPR**을 그 당시 최신 모델에 적용\n",
    "- **BPR-Opt**가 다른 방법보다 우수함을 실험적으로 증명"
   ]
  },
  {
   "cell_type": "markdown",
   "id": "8ec45301-ee1a-413b-96a7-7df6766e086c",
   "metadata": {},
   "source": [
    "## Introduction & Related Work\n",
    "- 추천 시스템을 구현하기 위해 2가지 형태가 일반적; Explicit과 Implicit 데이터\n",
    "- 보통 Implicit 데이터가 더 많은 비중을 차지하고, 더 어려운 문제\n",
    "- Implicit 데이터로 User의 선호도 또는 취향을 파악해야 함\n",
    "- **Implicit feedback**으로 ranking을 추천할 수 있는 알고리즘을 제시\n",
    "- 저자가 정의한 ranking을 추천하기 위한 Optimization 알고리즘\n",
    "    - item $i$와 $j$가 있고, item $i$보다 item $j$를 더 선호 함 &rarr; $item\\;i > item\\;j$\n",
    "    - 이 때, 학습할 파라미터를 최적화하는 것이 목적"
   ]
  },
  {
   "cell_type": "markdown",
   "id": "b09f64f8-a4bc-48a9-a5c9-c7558f955851",
   "metadata": {},
   "source": [
    "## Personalized Ranking"
   ]
  },
  {
   "cell_type": "markdown",
   "id": "221fe62b-fb42-443b-9fe7-8e99a19e2ff6",
   "metadata": {},
   "source": [
    "- Personalized Ranking이란 User에게 ranked list of items를 제안(또는 추천) 하는 것\n",
    "- Item Recommendation이라고도 함\n",
    "- 본 논문은 Implicit Feedback으로 user의 취향을 고려\n",
    "- implicit feedback은 주로 positive feedback이 대부분\n",
    "- Non-observed Item을 다루는 것이 중요한 포인트\n",
    "> **Non-observed Item = real negative feedback + missing values**"
   ]
  },
  {
   "cell_type": "markdown",
   "id": "739287a1-55e5-4183-ba9c-31ebf6af8e80",
   "metadata": {
    "tags": []
   },
   "source": [
    "## Formalization"
   ]
  },
  {
   "cell_type": "markdown",
   "id": "96cb505c-b228-4963-bed2-5f426cb46f6b",
   "metadata": {},
   "source": [
    "- $U$는 모든 users의 집합, $I$는 모든 items의 집합\n",
    "- 이 때, 각 user별 personalized total ranking(${>}_{u} \\subset I^2$)를 구하는 것\n",
    "- ${>}_{u}$는 다음과 같은 특성을 지님\n",
    "> $\\forall i, j \\in I : i \\neq j \\Rightarrow i \\, {>}_{u} \\, j \\lor j \\, {>}_{u} \\, i \\quad (totality)$  \n",
    "> $\\forall i, j \\in I : i \\, {>}_{u} \\, j \\land j \\, {>}_{u} \\, i \\Rightarrow i = j \\quad (antisymmetry)$  \n",
    "> $\\forall i, j, k \\in I : i \\, {>}_{u} \\, j \\land j \\, {>}_{u} \\, k \\Rightarrow i \\, {>}_{u} \\, k \\quad (transitivity)$  "
   ]
  },
  {
   "cell_type": "markdown",
   "id": "20608b00-7a5b-4ef2-9db1-eae79fca0258",
   "metadata": {},
   "source": [
    "<img src=\"../images/paper/recommendation/bpr/bpr-004.png\" width=\"50%\" height=\"50%\"/>"
   ]
  },
  {
   "cell_type": "markdown",
   "id": "5c954dc0-4b04-4602-8e87-e0a59726abd5",
   "metadata": {},
   "source": [
    "- 기존에 많이 사용하던 데이터 처리 방법\n",
    "- **?** 는 관측되지 않은 데이터, **+** 는 관측된 데이터\n",
    "- **0** 은 관측되지 않은 데이터 = 선호하지 않음\n",
    "- **1** 은 관측된 데이터 = 선호함\n",
    "- **Implicit data**를 다루는 중요한 문제점이 있음"
   ]
  },
  {
   "cell_type": "markdown",
   "id": "21505e53-ca4b-4e5b-8cf3-4016af1c7675",
   "metadata": {},
   "source": [
    "<img src=\"../images/paper/recommendation/bpr/bpr-005.png\" width=\"50%\" height=\"50%\"/>"
   ]
  },
  {
   "cell_type": "markdown",
   "id": "bdc677e1-1cda-44ee-b6e3-72f085fe5862",
   "metadata": {},
   "source": [
    "### 저자가 제안하는 방법\n",
    "- 전체 데이터를 pairwise preference $i {>}_{u} i$로 나타냄\n",
    "- **+** 는 user가 $item \\, j$에 비해 $item \\, i$를 선호\n",
    "- **-** 는 user가 $item \\, i$에 비해 $item \\, j$를 선호\n",
    "- User가 보지 못한 $item \\, j$에 비해 관측한 $item \\, i$를 더 선호한다고 가정\n",
    "- 유저가 $(i, j)$ 모두 관측했거나, 관측하지 않았다면 어떤 선호도도 추론할 수 없음\n",
    "> $ {D}_{s} := \\{(u, i, j) \\, | \\, i \\in {I}_{u}^{+} \\land j \\in I \\setminus {I}_{u}^{+} \\}$  \n",
    "\n",
    "- User u는 $item \\, j$ 보다 $item \\, i$를 더 선호\n",
    "- ${>}_{u}$는 antisymmetric이기 때문에 negative는 implicit이라고 가정"
   ]
  },
  {
   "cell_type": "markdown",
   "id": "f16b711d-ca26-4994-ae3e-4cf699a530e1",
   "metadata": {},
   "source": [
    "### 저자가 제안하는 방법의 장점\n",
    "- 학습셋 ${D}_{s}$은 positive, negative, missing value로 구성\n",
    "- 아이템쌍 $(i, j)$에서 관측되지 않은 결측값은 테스트셋\n",
    "- 학습셋과 테스트셋은 disjoint\n",
    "- 학습셋은 실제 랭킹 목적에 맞게 만들어짐\n",
    "- 관측된 데이터의 부분집합인 ${D}_{s}$을 학습 데이터로 사용"
   ]
  },
  {
   "cell_type": "markdown",
   "id": "cddc7364-1760-45b1-88f8-3b80f7529820",
   "metadata": {},
   "source": [
    "## Bayesian Personalized Ranking (BPR)"
   ]
  },
  {
   "cell_type": "markdown",
   "id": "87588f88-1f20-4c12-82ae-63dad5625a2a",
   "metadata": {},
   "source": [
    "- 주어진 학습 데이터 ${D}_{s}$로 **Bayesian Personalized Ranking** 구하는 방법을 설명\n",
    "- $p(i \\, {>}_{u} \\, j | \\Theta )$에 대한 **likelihood function** 과 model parameter $p(\\Theta)$에 대한 **prior probability**를 사용한 베이지안 문제로 볼 수 있음\n",
    "- 다음과 같은 순서로 selection 구성\n",
    "    - 4.1 BPR Optimization Criterion\n",
    "        - 4.1.1 Analogies to AUC optimization\n",
    "    - 4.2 BPR Learning Algorithm\n",
    "    - 4.3 Learning models with BPR\n",
    "        - 4.3.1 Matrix Factorization\n",
    "        - 4.3.2 Adaptive K-Nearest Neighbor"
   ]
  },
  {
   "cell_type": "markdown",
   "id": "a7d9292c-e7f0-4560-b29e-dae9d358253c",
   "metadata": {},
   "source": [
    "### BPR Optimization Criterion"
   ]
  },
  {
   "cell_type": "markdown",
   "id": "aac88cf5-056a-41ed-a297-2fe80bdcb19a",
   "metadata": {},
   "source": [
    "- Totality와 Antisymmetry에 따라 다음과 같이 정리할 수 있음"
   ]
  },
  {
   "cell_type": "markdown",
   "id": "e17964dc-dc4b-48af-8ad4-3c2bfe01f51f",
   "metadata": {},
   "source": [
    " $$\n",
    "{\\Large P(\\Theta | \\, {>}_{u}) \\propto p({>}_{u} | \\, \\Theta)p(\\Theta)}\n",
    "$$  \n",
    "  \n",
    "  "
   ]
  },
  {
   "cell_type": "markdown",
   "id": "3b19a8f4-31a2-41f5-96f8-9df7d4fcdef9",
   "metadata": {},
   "source": [
    "  \n",
    "$ \\displaystyle\\prod_{u \\in U} p({>}_{u} | \\, \\Theta) = \\displaystyle\\prod_{(u,i,j) \\in U \\times I \\times J)}{p(i \\, {>}_{u} \\, j | \\, \\Theta )}^{\\delta((u,i,j) \\in {D}_{s})} \\cdot {(1 - p(i \\, {>}_{u} \\, j| \\Theta))}^{\\delta((u,i,j) \\notin {D}_{s}} $  \n",
    "  \n",
    "이 때, $\\delta$ 는 \n",
    "$ \\delta(b) := \\begin{cases} 1, & \\mbox{if b is true} \\\\ 0, & \\mbox{else} \\end{cases} $\n",
    "  "
   ]
  },
  {
   "cell_type": "markdown",
   "id": "0cc999f1-d357-4ecc-b9e1-f646963e4a4d",
   "metadata": {},
   "source": [
    "$ \\displaystyle\\prod_{u \\in U} p(>_{u} \\, | \\Theta) = \\displaystyle\\prod_{u,i,j \\in D_{s}} p(i \\, >_{u} \\, j|\\Theta)$"
   ]
  },
  {
   "cell_type": "markdown",
   "id": "46c36218-0163-4c4a-b259-68b9acfd4e00",
   "metadata": {},
   "source": [
    "$$\n",
    "{\\Large p(i \\, >_{u} \\, j|\\Theta) := \\sigma(\\widehat{x_{uij}}(\\Theta))}\n",
    "$$"
   ]
  },
  {
   "cell_type": "markdown",
   "id": "10864898-31a1-4364-bf80-07ed51bd6331",
   "metadata": {},
   "source": [
    "$\\widehat{x_{uij}}(\\Theta)$는 $user \\, u$와 $item \\, i, j$의 관계를 나타내는 모델 파라미터 벡터의 실제 함수\n",
    "- 즉, $\\widehat{x_{uij}}(\\Theta)$를 추정하면서 $u,i,j$ 사이의 관계를 모델링\n",
    "- 전체 순서를 모델링하는 것이 비교적 간단해 짐"
   ]
  },
  {
   "cell_type": "markdown",
   "id": "a55e1be6-35ee-4fb5-b365-85944ed53a0a",
   "metadata": {},
   "source": [
    "$$\n",
    "\\Large { p(\\Theta | \\, >_{u} ) \\propto p(>_{u} |\\Theta)p(\\Theta) } \n",
    "$$"
   ]
  },
  {
   "cell_type": "markdown",
   "id": "c2786381-cc1d-45b2-b3ba-8917ef6621d4",
   "metadata": {},
   "source": [
    "- 사전확률분포 $p(\\Theta) \\sim N(0, \\Sigma_{\\Theta})$로 나타내고, $\\Sigma_{\\Theta} = \\lambda_{\\Theta}I$로 정함\n",
    "- **Likelihood**와 **prior** 모두 정의했으므로, **posterior**를 공식에 따라 구할 수 있음"
   ]
  },
  {
   "cell_type": "markdown",
   "id": "763aa68a-c4a4-40ae-9c56-9b15f23b23be",
   "metadata": {},
   "source": [
    "<img src=\"../images/paper/recommendation/bpr/bpr-006.png\" width=\"50%\" height=\"50%\"/>\n",
    "<img src=\"../images/paper/recommendation/bpr/bpr-007.png\" width=\"50%\" height=\"50%\"/>\n",
    "<img src=\"../images/paper/recommendation/bpr/bpr-008.png\" width=\"50%\" height=\"50%\"/>"
   ]
  },
  {
   "cell_type": "markdown",
   "id": "00ec864d-da73-4f2f-bf82-f5de391409cf",
   "metadata": {},
   "source": [
    "- 미분가능하기 때문에 **gradient descent**로 **optimization** 함\n",
    "- **SGD**가 적절한 선택지가 아니기 때문에 **LEARN-BPR**을 제안\n",
    "    - Triples를 학습하는 Bootstrap 기반 **Stochatic Gradient-descent** 알고리즘\n",
    "- 랜덤하게 triples를 선택하는 **SGD** 알고리즘을 사용\n",
    "    - 동일한 쌍의 데이터 선택할 확률이 적음\n",
    "    - 데이터 전수가 아닌 **bootstrap sampling**만 해도 데이터가 많기 때문에 충분"
   ]
  },
  {
   "cell_type": "markdown",
   "id": "f5fcfe46-53c3-464a-b7a6-90d424fd11e1",
   "metadata": {},
   "source": [
    "- Matrix Factorization"
   ]
  },
  {
   "cell_type": "markdown",
   "id": "e7bf95ad-5881-4464-beda-609a09714c12",
   "metadata": {},
   "source": [
    "<img src=\"../images/paper/recommendation/bpr/bpr-009.png\" width=\"50%\" height=\"50%\"/>"
   ]
  },
  {
   "cell_type": "markdown",
   "id": "298640c5-6f58-4217-8186-672b76b74c33",
   "metadata": {},
   "source": [
    "- Adaptive k-Nearest Neighbor"
   ]
  },
  {
   "cell_type": "markdown",
   "id": "e4e20d35-35f8-4b9b-8340-f22e5770c3a4",
   "metadata": {},
   "source": [
    "<img src=\"../images/paper/recommendation/bpr/bpr-010.png\" width=\"50%\" height=\"50%\"/>"
   ]
  },
  {
   "cell_type": "markdown",
   "id": "7dbfbac3-f98e-41dd-862b-4e797294ac85",
   "metadata": {},
   "source": [
    "- **LearnBPR** 최적화를 위해 모든 모델 파라미터 $\\Theta$에 대한 $\\widehat{x_{uij}}$ 의 **gradient**를 알면 됨"
   ]
  },
  {
   "cell_type": "markdown",
   "id": "4f2e50f1-8386-410f-a32c-3fd1e954dc77",
   "metadata": {},
   "source": [
    "## Evaluation"
   ]
  },
  {
   "cell_type": "markdown",
   "id": "f5c6a73c-a324-40b5-9ce8-ab6073d5b57e",
   "metadata": {},
   "source": [
    "![](../images/paper/recommendation/bpr/bpr-011.png)"
   ]
  },
  {
   "cell_type": "markdown",
   "id": "d2ccc1b0-cab5-47b8-b5ce-ce1ccd2a6e15",
   "metadata": {},
   "source": [
    "## Conclusion"
   ]
  },
  {
   "cell_type": "markdown",
   "id": "bdc2fa25-6cde-4153-b0d2-5d845505db0f",
   "metadata": {},
   "source": [
    "- 사후확률을 최대화하려는 베이지안에 의한 새로운 방법을 제안\n",
    "- **Personalized Ranking**을 위한 optimization 기법(**BPR-OPT**)을 제안\n",
    "- **Bootstrap Sampling**을 통한 **Stochastic Gradient Descent**를 사용하여 모델 파라미터를 업데이트 함\n",
    "- 기존 **Matrix Factorization**, **k-Nearest Neighbor** 모두 적용했으며 성능이 우수"
   ]
  }
 ],
 "metadata": {
  "kernelspec": {
   "display_name": "Python 3",
   "language": "python",
   "name": "python3"
  },
  "language_info": {
   "codemirror_mode": {
    "name": "ipython",
    "version": 3
   },
   "file_extension": ".py",
   "mimetype": "text/x-python",
   "name": "python",
   "nbconvert_exporter": "python",
   "pygments_lexer": "ipython3",
   "version": "3.6.9"
  }
 },
 "nbformat": 4,
 "nbformat_minor": 5
}
