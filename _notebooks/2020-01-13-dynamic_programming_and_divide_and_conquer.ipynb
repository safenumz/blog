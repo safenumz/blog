{
 "cells": [
  {
   "cell_type": "markdown",
   "id": "cb18f581-a6b5-4512-88ec-a7dd1e33c21f",
   "metadata": {},
   "source": [
    "# \"[알고리즘] 동적 계획법 (Dynamic Programming)과 분할 정복 (Divide and Conquer)\"\n",
    "> 문제를 잘게 쪼개서 해결\n",
    "\n",
    "- toc: false\n",
    "- badges: true\n",
    "- comments: true\n",
    "- categories: [Algorithm]"
   ]
  },
  {
   "cell_type": "markdown",
   "id": "98ae5258-0914-4b47-9097-77e0cffc2a6b",
   "metadata": {},
   "source": [
    "# 동적 계획법 (Dynamic Programming)과 분할 정복 (Divide and Conquer)"
   ]
  },
  {
   "cell_type": "markdown",
   "id": "2dd586f0-2015-4bc3-83a4-07057f114a53",
   "metadata": {},
   "source": [
    "### 1. 정의\n",
    "- 동적계획법 (DP 라고 많이 부름)\n",
    "  - 입력 크기가 작은 부분 문제들을 해결한 후, 해당 부분 문제의 해를 활용해서, 보다 큰 크기의 부분 문제를 해결, 최종적으로 전체 문제를 해결하는 알고리즘\n",
    "  - 상향식 접근법으로, 가장 최하위 해답을 구한 후, 이를 저장하고, 해당 결과값을 이용해서 상위 문제를 풀어가는 방식 \n",
    "  - Memoization 기법을 사용함\n",
    "    - Memoization (메모이제이션) 이란: 프로그램 실행 시 이전에 계산한 값을 저장하여, 다시 계산하지 않도록 하여 전체 실행 속도를 빠르게 하는 기술\n",
    "  - 문제를 잘게 쪼갤 때, 부분 문제는 중복되어, 재활용됨\n",
    "    - 예: 피보나치 수열\n",
    "- 분할 정복\n",
    "  - 문제를 나눌 수 없을 때까지 나누어서 각각을 풀면서 다시 합병하여 문제의 답을 얻는 알고리즘\n",
    "  - 하향식 접근법으로, 상위의 해답을 구하기 위해, 아래로 내려가면서 하위의 해답을 구하는 방식\n",
    "    - 일반적으로 재귀함수로 구현\n",
    "  - 문제를 잘게 쪼갤 때, 부분 문제는 서로 중복되지 않음\n",
    "    - 예: 병합 정렬, 퀵 정렬 등"
   ]
  },
  {
   "cell_type": "markdown",
   "id": "0e0ea14b-d537-416c-9f3a-6e141bb6db8a",
   "metadata": {},
   "source": [
    "### 2. 공통점과 차이점\n",
    "- 공통점\n",
    "  - 문제를 잘게 쪼개서, 가장 작은 단위로 분할\n",
    "- 차이점\n",
    "  - 동적 계획법\n",
    "    - 부분 문제는 중복되어, 상위 문제 해결 시 재활용됨\n",
    "    - Memoization 기법 사용 (부분 문제의 해답을 저장해서 재활용하는 최적화 기법으로 사용)\n",
    "  - 분할 정복\n",
    "    - 부분 문제는 서로 중복되지 않음\n",
    "    - Memoization 기법 사용 안함"
   ]
  },
  {
   "cell_type": "markdown",
   "id": "664201a1-c01c-4e1f-a06f-f9354b36d13e",
   "metadata": {},
   "source": [
    "### 3. 동적 계획법 알고리즘 이해\n",
    "- 피보나치 수열: n 을 입력받아서 다음과 같이 계산됨\n",
    "\n",
    "![](https://www.fun-coding.org/00_Images/Fibonacci.png)\n",
    "\n",
    "![](https://www.fun-coding.org/00_Images/dp.png)"
   ]
  },
  {
   "cell_type": "markdown",
   "id": "d6e7a642-9d5b-4297-a1b5-02f4f3ca3c5c",
   "metadata": {},
   "source": [
    "#### Recursive call을 활용한 피보나치 수열\n",
    "- stack에 쌓였다가 해소되는 과정에서 시간이 많이 소요됨"
   ]
  },
  {
   "cell_type": "code",
   "execution_count": 4,
   "id": "d7c3ec77-6671-41d9-ab41-9b02b0576924",
   "metadata": {},
   "outputs": [
    {
     "data": {
      "text/plain": [
       "55"
      ]
     },
     "execution_count": 4,
     "metadata": {},
     "output_type": "execute_result"
    }
   ],
   "source": [
    "def fibo(num):\n",
    "    if num <= 1:\n",
    "        return num\n",
    "    return fibo(num - 1) + fibo(num - 2)\n",
    "fibo(10)"
   ]
  },
  {
   "cell_type": "markdown",
   "id": "8725c57e-b251-4484-bab7-0500e9770599",
   "metadata": {},
   "source": [
    "#### 동적 계획법을 활용한 피보나치 수열"
   ]
  },
  {
   "cell_type": "code",
   "execution_count": 3,
   "id": "7d065c64-cdb8-4be1-909a-d7dde050912e",
   "metadata": {},
   "outputs": [
    {
     "data": {
      "text/plain": [
       "55"
      ]
     },
     "execution_count": 3,
     "metadata": {},
     "output_type": "execute_result"
    }
   ],
   "source": [
    "def fibo_dp(num):\n",
    "    cache = [0 for i in range(num + 1)]\n",
    "    cache[0] = 0\n",
    "    cache[1] = 1\n",
    "    for i in range(2, num + 1):\n",
    "        cache[i] = cache[i - 1] + cache[i - 2]\n",
    "    return cache[num]\n",
    "fibo_dp(10)"
   ]
  },
  {
   "cell_type": "code",
   "execution_count": null,
   "id": "aa846758-9536-4bb0-8038-1662686b8e6e",
   "metadata": {},
   "outputs": [],
   "source": []
  }
 ],
 "metadata": {
  "kernelspec": {
   "display_name": "Python 3",
   "language": "python",
   "name": "python3"
  },
  "language_info": {
   "codemirror_mode": {
    "name": "ipython",
    "version": 3
   },
   "file_extension": ".py",
   "mimetype": "text/x-python",
   "name": "python",
   "nbconvert_exporter": "python",
   "pygments_lexer": "ipython3",
   "version": "3.6.9"
  }
 },
 "nbformat": 4,
 "nbformat_minor": 5
}
