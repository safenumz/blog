{
 "cells": [
  {
   "cell_type": "markdown",
   "metadata": {},
   "source": [
    "# \"[Spark] PySpark 비지도 학습 모델\"\n",
    "> pyspark 비지도 학습\n",
    "\n",
    "- toc: true \n",
    "- badges: true\n",
    "- comments: true\n",
    "- categories: [Spark]\n",
    "- tags: [spark, pyspark, unsupervised, kmeans]"
   ]
  },
  {
   "cell_type": "markdown",
   "metadata": {},
   "source": [
    "# 비지도 학습"
   ]
  },
  {
   "cell_type": "code",
   "execution_count": 1,
   "metadata": {},
   "outputs": [],
   "source": [
    "import os\n",
    "MINIO_ACCESS_KEY = os.environ['MINIO_ACCESS_KEY']\n",
    "MINIO_SECRET_KEY = os.environ['MINIO_SECRET_KEY']\n",
    "\n",
    "spark.sparkContext._jsc.hadoopConfiguration()\\\n",
    "    .set(\"fs.s3a.access.key\", MINIO_ACCESS_KEY)\n",
    "spark.sparkContext._jsc.hadoopConfiguration()\\\n",
    "    .set(\"fs.s3a.secret.key\", MINIO_SECRET_KEY)\n",
    "spark.sparkContext._jsc.hadoopConfiguration()\\\n",
    "    .set(\"fs.s3a.endpoint\", \"http://lab101:10170\")\n",
    "spark.sparkContext._jsc.hadoopConfiguration()\\\n",
    "    .set(\"fs.s3a.impl\", \"org.apache.hadoop.fs.s3a.S3AFileSystem\")\n",
    "spark.sparkContext._jsc.hadoopConfiguration()\\\n",
    "    .set(\"fs.s3a.connection.ssl.enabled\", \"false\")\n",
    "spark.sparkContext._jsc.hadoopConfiguration()\\\n",
    "    .set(\"fs.s3a.path.style.access\", \"true\")\n",
    "spark.sparkContext._jsc.hadoopConfiguration()\\\n",
    "    .set(\"com.amazonaws.services.s3.enableV2\", \"true\")\n",
    "spark.sparkContext._jsc.hadoopConfiguration()\\\n",
    "    .set(\"fs.s3a.aws.credentials.provider\", \"org.apache.hadoop.fs.s3a.SimpleAWSCredentialsProvider\")"
   ]
  },
  {
   "cell_type": "code",
   "execution_count": 2,
   "metadata": {},
   "outputs": [
    {
     "name": "stdout",
     "output_type": "stream",
     "text": [
      "+---------+---------+--------------------+--------+-------------------+---------+----------+--------------+\n",
      "|InvoiceNo|StockCode|         Description|Quantity|        InvoiceDate|UnitPrice|CustomerID|       Country|\n",
      "+---------+---------+--------------------+--------+-------------------+---------+----------+--------------+\n",
      "|   580538|    23084|  RABBIT NIGHT LIGHT|      48|2011-12-05 08:38:00|     1.79|   14075.0|United Kingdom|\n",
      "|   580538|    23077| DOUGHNUT LIP GLOSS |      20|2011-12-05 08:38:00|     1.25|   14075.0|United Kingdom|\n",
      "|   580538|    22906|12 MESSAGE CARDS ...|      24|2011-12-05 08:38:00|     1.65|   14075.0|United Kingdom|\n",
      "|   580538|    21914|BLUE HARMONICA IN...|      24|2011-12-05 08:38:00|     1.25|   14075.0|United Kingdom|\n",
      "|   580538|    22467|   GUMBALL COAT RACK|       6|2011-12-05 08:38:00|     2.55|   14075.0|United Kingdom|\n",
      "+---------+---------+--------------------+--------+-------------------+---------+----------+--------------+\n",
      "only showing top 5 rows\n",
      "\n"
     ]
    }
   ],
   "source": [
    "from pyspark.ml.feature import VectorAssembler\n",
    "\n",
    "va = VectorAssembler()\\\n",
    "    .setInputCols([\"Quantity\", \"UnitPrice\"])\\\n",
    "    .setOutputCol(\"features\")\n",
    "sales_raw = spark.read.format(\"csv\")\\\n",
    "    .option(\"header\", \"true\")\\\n",
    "    .option(\"inferSchema\", \"true\")\\\n",
    "    .load(\"s3a://data/retail-data/by-day/*.csv\")\\\n",
    "    .limit(50)\\\n",
    "    .coalesce(1)\\\n",
    "    .where(\"Description IS NOT NULL\")\n",
    "sales_raw.show(5)"
   ]
  },
  {
   "cell_type": "code",
   "execution_count": 3,
   "metadata": {},
   "outputs": [
    {
     "data": {
      "text/plain": [
       "DataFrame[InvoiceNo: string, StockCode: string, Description: string, Quantity: int, InvoiceDate: string, UnitPrice: double, CustomerID: double, Country: string, features: vector]"
      ]
     },
     "execution_count": 3,
     "metadata": {},
     "output_type": "execute_result"
    }
   ],
   "source": [
    "sales = va.transform(sales_raw)\n",
    "sales.cache()"
   ]
  },
  {
   "cell_type": "code",
   "execution_count": 4,
   "metadata": {},
   "outputs": [
    {
     "name": "stdout",
     "output_type": "stream",
     "text": [
      "+---------+---------+--------------------+--------+-------------------+---------+----------+--------------+-----------+\n",
      "|InvoiceNo|StockCode|         Description|Quantity|        InvoiceDate|UnitPrice|CustomerID|       Country|   features|\n",
      "+---------+---------+--------------------+--------+-------------------+---------+----------+--------------+-----------+\n",
      "|   580538|    23084|  RABBIT NIGHT LIGHT|      48|2011-12-05 08:38:00|     1.79|   14075.0|United Kingdom|[48.0,1.79]|\n",
      "|   580538|    23077| DOUGHNUT LIP GLOSS |      20|2011-12-05 08:38:00|     1.25|   14075.0|United Kingdom|[20.0,1.25]|\n",
      "|   580538|    22906|12 MESSAGE CARDS ...|      24|2011-12-05 08:38:00|     1.65|   14075.0|United Kingdom|[24.0,1.65]|\n",
      "|   580538|    21914|BLUE HARMONICA IN...|      24|2011-12-05 08:38:00|     1.25|   14075.0|United Kingdom|[24.0,1.25]|\n",
      "|   580538|    22467|   GUMBALL COAT RACK|       6|2011-12-05 08:38:00|     2.55|   14075.0|United Kingdom| [6.0,2.55]|\n",
      "+---------+---------+--------------------+--------+-------------------+---------+----------+--------------+-----------+\n",
      "only showing top 5 rows\n",
      "\n"
     ]
    }
   ],
   "source": [
    "sales.show(5)"
   ]
  },
  {
   "cell_type": "markdown",
   "metadata": {},
   "source": [
    "# K-평균\n",
    "- 사용자가 지정한 군집 수인 k가 데이터셋 내 서로 다른 포인트에 무작위로 할당\n",
    "- 할당되지 않은 포인트들은 직전에 할당된 포인트와의 거리, 즉 유클리드 거리를 계산하여 가장 가까이에 위치한 군집으로 할당\n",
    "- 이렇게 각 포인트를 사전에 정의된 군집(k개의 군집)으로 모두 할당하는 작업이 끝나면 센트로이드라는 각 군집의 중심이 계산되고, 프로세스가 반복\n",
    "- 모든 포인트가 특정 중심에 할당되면 새로운 중심값이 계산\n",
    "- 이과정은 지정한 횟수만큼 반복되거나 중심값이 변경되지 않는 수렴<sup>convergence</sup> 에 도달할 때 까지 반복"
   ]
  },
  {
   "cell_type": "code",
   "execution_count": 5,
   "metadata": {},
   "outputs": [
    {
     "name": "stdout",
     "output_type": "stream",
     "text": [
      "distanceMeasure: the distance measure. Supported options: 'euclidean' and 'cosine'. (default: euclidean)\n",
      "featuresCol: features column name. (default: features)\n",
      "initMode: The initialization algorithm. This can be either \"random\" to choose random points as initial cluster centers, or \"k-means||\" to use a parallel variant of k-means++ (default: k-means||)\n",
      "initSteps: The number of steps for k-means|| initialization mode. Must be > 0. (default: 2)\n",
      "k: The number of clusters to create. Must be > 1. (default: 2, current: 5)\n",
      "maxIter: max number of iterations (>= 0). (default: 20)\n",
      "predictionCol: prediction column name. (default: prediction)\n",
      "seed: random seed. (default: 2732625111183068529)\n",
      "tol: the convergence tolerance for iterative algorithms (>= 0). (default: 0.0001)\n",
      "weightCol: weight column name. If this is not set or empty, we treat all instance weights as 1.0. (undefined)\n"
     ]
    }
   ],
   "source": [
    "from pyspark.ml.clustering import KMeans\n",
    "\n",
    "km = KMeans().setK(5)\n",
    "print(km.explainParams())\n",
    "kmModel = km.fit(sales)"
   ]
  },
  {
   "cell_type": "code",
   "execution_count": 6,
   "metadata": {},
   "outputs": [
    {
     "name": "stdout",
     "output_type": "stream",
     "text": [
      "[10, 3, 10, 19, 8]\n"
     ]
    }
   ],
   "source": [
    "summary = kmModel.summary\n",
    "print(summary.clusterSizes)"
   ]
  },
  {
   "cell_type": "code",
   "execution_count": 7,
   "metadata": {},
   "outputs": [
    {
     "name": "stdout",
     "output_type": "stream",
     "text": [
      "Cluster Centers: \n",
      "[12.    0.93]\n",
      "[44.          1.16333333]\n",
      "[23.2    0.956]\n",
      "[5.21052632 3.74105263]\n",
      "[ 2.5     11.24375]\n"
     ]
    }
   ],
   "source": [
    "centers = kmModel.clusterCenters()\n",
    "print(\"Cluster Centers: \")\n",
    "for center in centers:\n",
    "    print(center)"
   ]
  },
  {
   "cell_type": "markdown",
   "metadata": {},
   "source": [
    "# 이분법 $k-$평균\n",
    "- 이분법<sup>Bisecting</sup> $k-$평균은 $k-$평균에서 변형된 알고리즘\n",
    "- $k-$평균은 초기 데이터에 여러 그룹을 할당함으로써 데이터 포인트들을 군집화하는 상향식<sup>bottom-up</sup> 군집화 방법인 반면, 이분법 $k-$평균은 이와는 반대로 하향식<sup>top-down</sup> 군집화 방법\n",
    "- 최초에 단일 그룹을 생성한 다음 해당 그룹을 더 작은 그룹으로 나누고 마지막에는 사용자가 지정한 수의 군집으로 끝나게 됨\n",
    "- 일반적으로 $k-$평균보다 빠르며 군집결과도 차이가 있음"
   ]
  },
  {
   "cell_type": "code",
   "execution_count": 8,
   "metadata": {},
   "outputs": [],
   "source": [
    "from pyspark.ml.clustering import BisectingKMeans\n",
    "\n",
    "bkm = BisectingKMeans().setK(5).setMaxIter(5)\n",
    "bkmModel = bkm.fit(sales)"
   ]
  },
  {
   "cell_type": "code",
   "execution_count": 9,
   "metadata": {},
   "outputs": [
    {
     "name": "stdout",
     "output_type": "stream",
     "text": [
      "[8, 16, 13, 10, 3]\n"
     ]
    }
   ],
   "source": [
    "summary = bkmModel.summary\n",
    "print(summary.clusterSizes)"
   ]
  },
  {
   "cell_type": "code",
   "execution_count": 11,
   "metadata": {},
   "outputs": [
    {
     "name": "stdout",
     "output_type": "stream",
     "text": [
      "Cluster Centers: \n",
      "[ 2.5     11.24375]\n",
      "[4.8125   4.095625]\n",
      "[10.92307692  1.14230769]\n",
      "[23.2    0.956]\n",
      "[44.          1.16333333]\n"
     ]
    },
    {
     "name": "stderr",
     "output_type": "stream",
     "text": [
      "/Users/a/spark/python/pyspark/ml/clustering.py:822: FutureWarning: Deprecated in 3.0.0. It will be removed in future versions. Use ClusteringEvaluator instead. You can also get the cost on the training dataset in the summary.\n",
      "  \"dataset in the summary.\", FutureWarning)\n"
     ]
    }
   ],
   "source": [
    "bkmModel.computeCost(sales)\n",
    "centers = bkmModel.clusterCenters()\n",
    "print(\"Cluster Centers: \")\n",
    "for center in centers:\n",
    "    print(center)"
   ]
  },
  {
   "cell_type": "markdown",
   "metadata": {},
   "source": [
    "# 가우시안 혼합 모델\n",
    "- 가우시안 혼합 모델<sup>Gaussian Mixture Model GMM</sup> 은 이분법 **k-** 평균이나 **k-** 평균과는 다른 가정\n",
    "- **k-** 평균 알고리즘이 군집의 중심으로부터 거리제곱합을 줄임으로써 데이터를 그룹화하는 반면 가우시안 혼합 모델은 각 군집이 가우시안 분포<sup>Gaussian distribution</sup> 으로부터 무작위 추출을 하여 데이터를 생성한다고 가정\n",
    "- 생성된 군집 가장자리에는 데이터가 포함될 확률이 낮아야 하며(가우시안 분포에 반영), 군집 중앙에는 데이터가 포함될 확률이 훨씬 높아야 함"
   ]
  },
  {
   "cell_type": "code",
   "execution_count": 12,
   "metadata": {},
   "outputs": [
    {
     "name": "stdout",
     "output_type": "stream",
     "text": [
      "aggregationDepth: suggested depth for treeAggregate (>= 2). (default: 2)\n",
      "featuresCol: features column name. (default: features)\n",
      "k: Number of independent Gaussians in the mixture model. Must be > 1. (default: 2, current: 5)\n",
      "maxIter: max number of iterations (>= 0). (default: 100)\n",
      "predictionCol: prediction column name. (default: prediction)\n",
      "probabilityCol: Column name for predicted class conditional probabilities. Note: Not all models output well-calibrated probability estimates! These probabilities should be treated as confidences, not precise probabilities. (default: probability)\n",
      "seed: random seed. (default: 1554811416070000952)\n",
      "tol: the convergence tolerance for iterative algorithms (>= 0). (default: 0.01)\n",
      "weightCol: weight column name. If this is not set or empty, we treat all instance weights as 1.0. (undefined)\n"
     ]
    }
   ],
   "source": [
    "from pyspark.ml.clustering import GaussianMixture\n",
    "\n",
    "gmm = GaussianMixture().setK(5)\n",
    "print(gmm.explainParams())"
   ]
  },
  {
   "cell_type": "code",
   "execution_count": 13,
   "metadata": {},
   "outputs": [],
   "source": [
    "model = gmm.fit(sales)"
   ]
  },
  {
   "cell_type": "code",
   "execution_count": 14,
   "metadata": {},
   "outputs": [
    {
     "name": "stdout",
     "output_type": "stream",
     "text": [
      "[0.19996361501436077, 0.2650758391757304, 0.4549241736967528, 0.0600363721131339, 0.02000000000002211]\n"
     ]
    }
   ],
   "source": [
    "summary = model.summary\n",
    "print(model.weights)"
   ]
  },
  {
   "cell_type": "code",
   "execution_count": 15,
   "metadata": {},
   "outputs": [
    {
     "name": "stderr",
     "output_type": "stream",
     "text": [
      "/Users/a/spark/python/pyspark/sql/context.py:127: FutureWarning: Deprecated in 3.0.0. Use SparkSession.builder.getOrCreate() instead.\n",
      "  FutureWarning\n"
     ]
    },
    {
     "name": "stdout",
     "output_type": "stream",
     "text": [
      "+--------------------+--------------------+\n",
      "|                mean|                 cov|\n",
      "+--------------------+--------------------+\n",
      "|[23.1998838713342...|2.560278699114912...|\n",
      "|[3.12998187641630...|1.222198686648849...|\n",
      "|[8.33175706727699...|11.78027654132310...|\n",
      "|[43.9877858780125...|32.22708770259816...|\n",
      "|[8.00000000001486...|6.062776947139928...|\n",
      "+--------------------+--------------------+\n",
      "\n"
     ]
    }
   ],
   "source": [
    "model.gaussiansDF.show()"
   ]
  },
  {
   "cell_type": "code",
   "execution_count": 16,
   "metadata": {},
   "outputs": [
    {
     "name": "stdout",
     "output_type": "stream",
     "text": [
      "+----------+\n",
      "|prediction|\n",
      "+----------+\n",
      "|         3|\n",
      "|         0|\n",
      "|         0|\n",
      "|         0|\n",
      "|         2|\n",
      "|         3|\n",
      "|         4|\n",
      "|         0|\n",
      "|         2|\n",
      "|         2|\n",
      "|         1|\n",
      "|         2|\n",
      "|         2|\n",
      "|         2|\n",
      "|         2|\n",
      "|         2|\n",
      "|         3|\n",
      "|         0|\n",
      "|         2|\n",
      "|         2|\n",
      "+----------+\n",
      "only showing top 20 rows\n",
      "\n"
     ]
    }
   ],
   "source": [
    "summary.cluster.show()"
   ]
  },
  {
   "cell_type": "code",
   "execution_count": 18,
   "metadata": {},
   "outputs": [
    {
     "data": {
      "text/plain": [
       "[10, 11, 25, 3, 1]"
      ]
     },
     "execution_count": 18,
     "metadata": {},
     "output_type": "execute_result"
    }
   ],
   "source": [
    "summary.clusterSizes"
   ]
  },
  {
   "cell_type": "code",
   "execution_count": 19,
   "metadata": {},
   "outputs": [
    {
     "name": "stdout",
     "output_type": "stream",
     "text": [
      "+--------------------+\n",
      "|         probability|\n",
      "+--------------------+\n",
      "|[1.37632436456510...|\n",
      "|[0.99999639767391...|\n",
      "|[0.99999717659721...|\n",
      "|[0.99997707446759...|\n",
      "|[1.33915680121729...|\n",
      "|[1.37558540775791...|\n",
      "|[8.24399594549003...|\n",
      "|[0.99999776336008...|\n",
      "|[1.06905010900131...|\n",
      "|[1.06905010900131...|\n",
      "|[1.65702583224003...|\n",
      "|[1.98857135239437...|\n",
      "|[8.70737611462661...|\n",
      "|[8.70737611462661...|\n",
      "|[4.99008297332649...|\n",
      "|[1.08580292118476...|\n",
      "|[4.39868445087168...|\n",
      "|[0.99997707446759...|\n",
      "|[1.06905010900131...|\n",
      "|[1.06905010900131...|\n",
      "+--------------------+\n",
      "only showing top 20 rows\n",
      "\n"
     ]
    }
   ],
   "source": [
    "summary.probability.show()"
   ]
  },
  {
   "cell_type": "markdown",
   "metadata": {},
   "source": [
    "# 잠재 디리클레 할당\n",
    "- 잠재 디리클레 할당<sup>Latent Dirichlet Allocation, LDA</sup>은 일반적으로 텍스트 문서에 대한 토픽 모델링을 수행하는 데 사용되는 계층적 군집화 모델\n",
    "- 주제와 관련된 일련의 문서와 키워드로부터 주제를 추출하고 각 문서가 입력된 여러 주제에 얼마나 기여했는지 횟수를 계산\n",
    "- 스파크에서 **LDA** 모델을 구현하는 방법은 온라인<sup>online</sup> **LDA**와 기댓값 최대화<sup>expectation maximization</sup>\n",
    "- 일반적으로 온라인 **LDA**는 샘플 데이터가 많은 경우에 적합하며, 기댓값 최대화는 어휘수가 많은 경우에 적합\n",
    "- 확장성 관점에서는 수백에서 수천 개의 주제까지 가능"
   ]
  },
  {
   "cell_type": "code",
   "execution_count": 22,
   "metadata": {},
   "outputs": [],
   "source": [
    "from pyspark.ml.feature import Tokenizer, CountVectorizer\n",
    "\n",
    "tkn = Tokenizer().setInputCol(\"Description\").setOutputCol(\"DescOut\")\n",
    "tokenized = tkn.transform(sales.drop(\"features\"))\n",
    "cv = CountVectorizer()\\\n",
    "    .setInputCol(\"DescOut\")\\\n",
    "    .setOutputCol(\"features\")\\\n",
    "    .setVocabSize(500)\\\n",
    "    .setMinTF(0)\\\n",
    "    .setMinDF(0)\\\n",
    "    .setBinary(True)\n",
    "cvFitted = cv.fit(tokenized)\n",
    "prepped = cvFitted.transform(tokenized)"
   ]
  },
  {
   "cell_type": "code",
   "execution_count": 23,
   "metadata": {},
   "outputs": [
    {
     "name": "stdout",
     "output_type": "stream",
     "text": [
      "checkpointInterval: set checkpoint interval (>= 1) or disable checkpoint (-1). E.g. 10 means that the cache will get checkpointed every 10 iterations. Note: this setting will be ignored if the checkpoint directory is not set in the SparkContext. (default: 10)\n",
      "docConcentration: Concentration parameter (commonly named \"alpha\") for the prior placed on documents' distributions over topics (\"theta\"). (undefined)\n",
      "featuresCol: features column name. (default: features)\n",
      "k: The number of topics (clusters) to infer. Must be > 1. (default: 10, current: 10)\n",
      "keepLastCheckpoint: (For EM optimizer) If using checkpointing, this indicates whether to keep the last checkpoint. If false, then the checkpoint will be deleted. Deleting the checkpoint can cause failures if a data partition is lost, so set this bit with care. (default: True)\n",
      "learningDecay: Learning rate, set as anexponential decay rate. This should be between (0.5, 1.0] to guarantee asymptotic convergence. (default: 0.51)\n",
      "learningOffset: A (positive) learning parameter that downweights early iterations. Larger values make early iterations count less (default: 1024.0)\n",
      "maxIter: max number of iterations (>= 0). (default: 20, current: 5)\n",
      "optimizeDocConcentration: Indicates whether the docConcentration (Dirichlet parameter for document-topic distribution) will be optimized during training. (default: True)\n",
      "optimizer: Optimizer or inference algorithm used to estimate the LDA model.  Supported: online, em (default: online)\n",
      "seed: random seed. (default: -9149679861596847839)\n",
      "subsamplingRate: Fraction of the corpus to be sampled and used in each iteration of mini-batch gradient descent, in range (0, 1]. (default: 0.05)\n",
      "topicConcentration: Concentration parameter (commonly named \"beta\" or \"eta\") for the prior placed on topic' distributions over terms. (undefined)\n",
      "topicDistributionCol: Output column with estimates of the topic mixture distribution for each document (often called \"theta\" in the literature). Returns a vector of zeros for an empty document. (default: topicDistribution)\n"
     ]
    }
   ],
   "source": [
    "from pyspark.ml.clustering import LDA\n",
    "lda = LDA().setK(10).setMaxIter(5)\n",
    "print(lda.explainParams())"
   ]
  },
  {
   "cell_type": "code",
   "execution_count": 24,
   "metadata": {},
   "outputs": [],
   "source": [
    "model = lda.fit(prepped)"
   ]
  },
  {
   "cell_type": "code",
   "execution_count": 25,
   "metadata": {},
   "outputs": [
    {
     "name": "stdout",
     "output_type": "stream",
     "text": [
      "+-----+---------------+--------------------+\n",
      "|topic|    termIndices|         termWeights|\n",
      "+-----+---------------+--------------------+\n",
      "|    0| [60, 116, 124]|[0.00913991758035...|\n",
      "|    1|  [114, 11, 92]|[0.01183209974899...|\n",
      "|    2|  [55, 112, 27]|[0.01574372445964...|\n",
      "|    3|  [56, 106, 88]|[0.01117898536785...|\n",
      "|    4|   [7, 40, 102]|[0.01211664967569...|\n",
      "|    5|[112, 139, 121]|[0.00933025066380...|\n",
      "|    6|    [122, 2, 4]|[0.01118652206493...|\n",
      "|    7|    [78, 6, 51]|[0.00880822582151...|\n",
      "|    8|  [23, 48, 100]|[0.01152078111328...|\n",
      "|    9|  [59, 127, 19]|[0.01128129509911...|\n",
      "+-----+---------------+--------------------+\n",
      "\n"
     ]
    }
   ],
   "source": [
    "model.describeTopics(3).show()"
   ]
  },
  {
   "cell_type": "code",
   "execution_count": 26,
   "metadata": {},
   "outputs": [
    {
     "data": {
      "text/plain": [
       "['water',\n",
       " 'hot',\n",
       " 'vintage',\n",
       " 'bottle',\n",
       " 'paperweight',\n",
       " '6',\n",
       " 'home',\n",
       " 'doormat',\n",
       " 'landmark',\n",
       " 'bicycle',\n",
       " 'frame',\n",
       " 'ribbons',\n",
       " '',\n",
       " 'classic',\n",
       " 'rose',\n",
       " 'kit',\n",
       " 'leaf',\n",
       " 'sweet',\n",
       " 'bag',\n",
       " 'airline',\n",
       " 'doorstop',\n",
       " 'light',\n",
       " 'in',\n",
       " 'christmas',\n",
       " 'heart',\n",
       " 'calm',\n",
       " 'set',\n",
       " 'keep',\n",
       " 'balloons',\n",
       " 'night',\n",
       " 'lights',\n",
       " '12',\n",
       " 'tin',\n",
       " 'english',\n",
       " 'caravan',\n",
       " 'stuff',\n",
       " 'tidy',\n",
       " 'oxford',\n",
       " 'full',\n",
       " 'cottage',\n",
       " 'notting',\n",
       " 'drawer',\n",
       " 'mushrooms',\n",
       " 'chrome',\n",
       " 'champion',\n",
       " 'amelie',\n",
       " 'mini',\n",
       " 'the',\n",
       " 'giant',\n",
       " 'design',\n",
       " 'elegant',\n",
       " 'tins',\n",
       " 'jet',\n",
       " 'fairy',\n",
       " \"50's\",\n",
       " 'holder',\n",
       " 'message',\n",
       " 'blue',\n",
       " 'storage',\n",
       " 'tier',\n",
       " 'covent',\n",
       " 'world',\n",
       " 'skulls',\n",
       " 'font',\n",
       " 'hearts',\n",
       " 'skull',\n",
       " 'clips',\n",
       " 'bell',\n",
       " 'red',\n",
       " 'party',\n",
       " 'chalkboard',\n",
       " 'save',\n",
       " '4',\n",
       " 'coloured',\n",
       " 'poppies',\n",
       " 'garden',\n",
       " 'nine',\n",
       " 'girl',\n",
       " 'shimmering',\n",
       " 'doughnut',\n",
       " 'dog',\n",
       " '3',\n",
       " 'tattoos',\n",
       " 'chilli',\n",
       " 'coat',\n",
       " 'torch',\n",
       " 'sunflower',\n",
       " 'tale',\n",
       " 'cards',\n",
       " 'puncture',\n",
       " 'woodland',\n",
       " 'bomb',\n",
       " 'knack',\n",
       " 'lip',\n",
       " 'collage',\n",
       " 'rabbit',\n",
       " 'sex',\n",
       " 'of',\n",
       " 'rack',\n",
       " 'wall',\n",
       " 'cracker',\n",
       " 'scottie',\n",
       " 'hill',\n",
       " 'led',\n",
       " 'black',\n",
       " 'art',\n",
       " 'envelopes',\n",
       " 'flytrap',\n",
       " 'box',\n",
       " 'pinks',\n",
       " 'camouflage',\n",
       " 'gingham',\n",
       " 'popcorn',\n",
       " 'with',\n",
       " 'knick',\n",
       " 'empire',\n",
       " 'grow',\n",
       " 'fancy',\n",
       " 'plate',\n",
       " 'natural',\n",
       " 'feltcraft',\n",
       " 'brown',\n",
       " 'paisley',\n",
       " 'repair',\n",
       " 'gumball',\n",
       " 'white',\n",
       " 'regency',\n",
       " 'cakestand',\n",
       " 'rocket',\n",
       " 'harmonica',\n",
       " 'a',\n",
       " 'or',\n",
       " 'transfer',\n",
       " 'street',\n",
       " 'planet',\n",
       " 'office',\n",
       " 'gloss',\n",
       " 'slate',\n",
       " 'towel',\n",
       " 'tea',\n",
       " 'breakfast']"
      ]
     },
     "execution_count": 26,
     "metadata": {},
     "output_type": "execute_result"
    }
   ],
   "source": [
    "cvFitted.vocabulary"
   ]
  }
 ],
 "metadata": {
  "kernelspec": {
   "display_name": "pyspark",
   "language": "python",
   "name": "python3"
  },
  "language_info": {
   "codemirror_mode": {
    "name": "ipython",
    "version": 3
   },
   "file_extension": ".py",
   "mimetype": "text/x-python",
   "name": "python",
   "nbconvert_exporter": "python",
   "pygments_lexer": "ipython3",
   "version": "3.7.13"
  }
 },
 "nbformat": 4,
 "nbformat_minor": 4
}
