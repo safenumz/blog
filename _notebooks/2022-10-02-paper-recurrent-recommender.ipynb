{
 "cells": [
  {
   "cell_type": "markdown",
   "id": "a643be0c-5992-4acd-ba1a-0f8d1367309b",
   "metadata": {},
   "source": [
    "# \"[Recommender System] Joint Training of Ratings and Reviews With Recurrent Recommender Networks\"\n",
    "> 리뷰 데이터(텍스트)를 활용한 RNN 기반 추천 시스템\n",
    "\n",
    "- toc: true\n",
    "- badges: true\n",
    "- comments: true\n",
    "- categories: [Paper]\n",
    "- tags: [paper, recommender system, text, RNN]"
   ]
  },
  {
   "cell_type": "markdown",
   "id": "8ff518df-6b7e-41c6-ba8a-702f4d2e0005",
   "metadata": {},
   "source": [
    "# Joint Training of Ratings and Reviews With Recurrent Recommender Networks"
   ]
  },
  {
   "cell_type": "markdown",
   "id": "49cc70f4-d5ab-4b77-bc74-37c5081ae325",
   "metadata": {},
   "source": [
    "![](../images/paper/recommendation/rrn/rrn-001.png)"
   ]
  },
  {
   "cell_type": "markdown",
   "id": "a0646d2f-e07c-439c-857d-146ca3a3964b",
   "metadata": {},
   "source": [
    "## Abstract"
   ]
  },
  {
   "cell_type": "markdown",
   "id": "2cbac012-a647-4d7f-b97e-44f9a6a07703",
   "metadata": {},
   "source": [
    "![](../images/paper/recommendation/rrn/rrn-002.png)"
   ]
  },
  {
   "cell_type": "markdown",
   "id": "bdbe5901-c8bd-488d-9a2a-8ead80019911",
   "metadata": {},
   "source": [
    "- 평점과 리뷰 데이터를 모두 활용하여 추천시스템을 만듬\n",
    "- Recurrent 모델 구조를 활용하여 user와 item의 다양한 component를 얻어내고자 함\n",
    "- IMDB 데이터셋을 활용하여 모델 성능에 대한 실험을 진행"
   ]
  },
  {
   "cell_type": "markdown",
   "id": "4dffe8ed-5d98-428e-ba7f-f56b10ca213b",
   "metadata": {},
   "source": [
    "## Introduction"
   ]
  },
  {
   "cell_type": "markdown",
   "id": "fa81caae-8d0e-46e6-ad45-bbc1aa528693",
   "metadata": {},
   "source": [
    "- 현재까지 추천시스템에 대한 연구는 다음과 같은 제한사항이 있음\n",
    "    - 모델 예측 정확도는 실제 평점을 예측하는 것보다 주로 데이터셋을 나누고 테스트셋에 대한 평가가 이루어짐\n",
    "    - **Recurrent Recommender Networks**(**RRN**)은 **RNN** 모델 구조로 user와 item 변화 등을 파악할 수는 있으나 리뷰의 시간적 변화 등을 제대로 포착하지는 못함\n",
    "    - 리뷰 데이터를 활용한 추천시스템은 자연어처리 최신 기술과 훨씬 뒤떨어져 있음\n",
    "    - 이전 연구에서 Bag-of-words 모델은 제한적으로 리뷰를 이해할 수 있게 됨\n",
    "    - 추천시스템에서 리뷰 데이터를 많이 사용하기 어려운 이유는 기존 텍스트 데이터에 비해 unstructured하고 diverse됐기 때문"
   ]
  },
  {
   "cell_type": "markdown",
   "id": "4b5fac98-c3ea-4600-819b-aebbd48c73ef",
   "metadata": {},
   "source": [
    "- Contributions\n",
    "    - Joint Generative Model: 리뷰와 평점을 결합한 Joint 모델 구조를 제안\n",
    "    - Nonlinear nonparametric review model: user와 movie의 state dynamics를 학습하면서 시간 변화에 따른 리뷰의 변화를 파악할 수 있음\n",
    "    - Experiments: 시간 흐름과 함께 평점과 리뷰를 함께 모델링해서 IMDB 데이터셋에 대해 좋은 성능을 얻을 수 있었음"
   ]
  },
  {
   "cell_type": "markdown",
   "id": "ff67dcf3-4915-4585-94da-835000eee1ad",
   "metadata": {},
   "source": [
    "## Recurrent Recommender Network"
   ]
  },
  {
   "cell_type": "markdown",
   "id": "63a1a2a0-c274-49a4-b6b0-74495e73cca4",
   "metadata": {},
   "source": [
    "![](../images/paper/recommendation/rrn/rrn-003.png)"
   ]
  },
  {
   "cell_type": "markdown",
   "id": "63f46fc2-a48b-42aa-bf6d-41b64628c3eb",
   "metadata": {},
   "source": [
    "- Left: Time-independent recommendation model\n",
    "- Right: Time-dependent recommendation model"
   ]
  },
  {
   "cell_type": "markdown",
   "id": "71cf8850-d3f3-46d8-a1d4-9523aaf8592e",
   "metadata": {},
   "source": [
    "![](../images/paper/recommendation/rrn/rrn-004.png)"
   ]
  },
  {
   "cell_type": "markdown",
   "id": "98a7e84d-2d99-4288-93d0-743910b50712",
   "metadata": {},
   "source": [
    "- **Recurrent Recommender Networks**\n",
    "- User에 대한 state evolution은 user가 이전에 평점을 준 영화와 관련 있음\n",
    "- Movie의 파라미터는 이전 시간에서 평가한 사용자와 영화의 인기도에 따라 다름"
   ]
  },
  {
   "cell_type": "markdown",
   "id": "3ef4b3a9-c8d3-4a6e-afc9-04b609adb9e4",
   "metadata": {},
   "source": [
    "![](../images/paper/recommendation/rrn/rrn-005.png)"
   ]
  },
  {
   "cell_type": "markdown",
   "id": "ddb71308-cd79-4e17-9131-dbee20bfca40",
   "metadata": {},
   "source": [
    "- Dynamic User and Movie State\n",
    "    - user/item 평점 과거 데이터를 input으로 사용해서 state를 update 함\n",
    "    - 영화를 관람하고 좋아요/싫어요 등으로 인한 User(또는 영화) 상태 변화를 모델링할 수 있음\n",
    "- Rating Emissions\n",
    "    - 시간에 따라 변하는 $u_{it}$ 또는 $m_{jt}$를 각각 고정된 $u_j$ 또는 $m_j$로 보완할 수 있음\n",
    "    - 이는 사용자의 장기적 선호 또는 영화 장르와 같은 시간에 따라 크게 변하지 않는 요소에 대한 내용을 반영\n",
    "    - $r_{ij} = f(u_{it}, m_{jt}, u_i, m_j) := \\, < \\tilde{u_{it}}, \\tilde{m_{jt}}> + < u_i + m_j > $\n",
    "- Review Text Model\n",
    "    - Character 단위 LSTM 네트워크를 활용\n",
    "    - 이 네트워크는 평점 모델과 동일한 user/item의 latent 상태를 반영\n",
    "    - Bottleneck 층 $x_{joint,i,j}(=x_{ij})$에서 user/movie의 정적인 정보와 동적인 상태 모두 합치게 됨"
   ]
  },
  {
   "cell_type": "markdown",
   "id": "0f325466-b132-4a04-8270-a1da4f8d4ae2",
   "metadata": {},
   "source": [
    "![](../images/paper/recommendation/rrn/rrn-005-1.png)"
   ]
  },
  {
   "cell_type": "markdown",
   "id": "31bd532a-2828-4435-8578-34b8da4e3a45",
   "metadata": {},
   "source": [
    "### Training and Prediction"
   ]
  },
  {
   "cell_type": "markdown",
   "id": "2bba48df-b8d5-4f06-bd31-b9a7aab9c15b",
   "metadata": {},
   "source": [
    "- 학습 (Training)\n",
    "    - Accurate ratings와 Accurate review를 예측하는 것이 목적\n",
    "    - Minimize $L := \\displaystyle\\sum_{(i,j) \\in D_{train}}[(\\hat{r_{ij}}(\\theta) - r_{ij})^2 -\\lambda \\sum_{k=1}^{n_{ij}}log(Pr(o_{i,j,k}|\\theta))]$\n",
    "    - $D$는 (i, j) 쌍의 학습데이터, $\\theta$는 모든 모델 파라미터, $n_{ij}$는 user i가 movie j에 쓴 리뷰 글자 수, $\\lambda$는 accurate rating과 accurate review를 예측하기 위한 가중치로 사용됨\n",
    "- 예측 (Prediction)\n",
    "    - 예측된 미래 상태에 따라 평점을 예측\n",
    "    - 최근 평점을 input으로 사용하여 상태를 업데이트하고 새롭게 예측된 상태를 통해 평점을 예측"
   ]
  },
  {
   "cell_type": "markdown",
   "id": "c8feb0e2-d4bc-4e27-b75c-9e4b1c913ccc",
   "metadata": {},
   "source": [
    "## Experiments"
   ]
  },
  {
   "cell_type": "markdown",
   "id": "8d58b7bc-08a8-4201-b4ad-b600ac999b5e",
   "metadata": {},
   "source": [
    "![](../images/paper/recommendation/rrn/rrn-006.png)"
   ]
  },
  {
   "cell_type": "markdown",
   "id": "f52ac7d7-8b69-413b-ba46-49223bfffc04",
   "metadata": {},
   "source": [
    "- k-core of IMDB 데이터셋에 대해 평가를 진행한 결과\n",
    "- **RRN**이 다른 baseline 모델보다 더 좋은 성능을 나타내고, RRN(rating+text)이 성능을 더욱 향상 시킴\n",
    "- 이는 평점과 리뷰의 통계적인 내용을 공유하는 것이 latent factor를 모델링하는데 더 많은 정보를 제공한다는 것을 뜻함\n",
    "- User/item 요소를 사용하거나, 사용하지 않았을 때 text modeling perplexity를 비교했으며, 3.3442에서 3.3362로 향상됨을 알 수 있음"
   ]
  }
 ],
 "metadata": {
  "kernelspec": {
   "display_name": "Python 3",
   "language": "python",
   "name": "python3"
  },
  "language_info": {
   "codemirror_mode": {
    "name": "ipython",
    "version": 3
   },
   "file_extension": ".py",
   "mimetype": "text/x-python",
   "name": "python",
   "nbconvert_exporter": "python",
   "pygments_lexer": "ipython3",
   "version": "3.6.9"
  }
 },
 "nbformat": 4,
 "nbformat_minor": 5
}
