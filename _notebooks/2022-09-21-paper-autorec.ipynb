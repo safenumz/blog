{
 "cells": [
  {
   "cell_type": "markdown",
   "id": "5b1d3d9f-c6a2-49ad-a4f2-61c2eeca13f7",
   "metadata": {},
   "source": [
    "# \"[Recommender System] AutoRec: AutoEncoder Meets Collaborative Filtering\"\n",
    "> Autoencoder를 Collaborative Filtering에 적용\n",
    "\n",
    "- toc: true\n",
    "- badges: true\n",
    "- comments: true\n",
    "- categories: [Paper]\n",
    "- tags: [paper, recommender system, autoencoder, collaborative filtering]"
   ]
  },
  {
   "cell_type": "markdown",
   "id": "294ece4f-ea78-44f6-9663-ee2c55065059",
   "metadata": {},
   "source": [
    "# AutoRec: AutoEncoder Meets Collaborative Filtering"
   ]
  },
  {
   "cell_type": "markdown",
   "id": "ccb55cbc-3140-47b8-b203-50cf0ebb7fe2",
   "metadata": {},
   "source": [
    "![](../images/paper/recommendation/aecf/aecf-001.png)"
   ]
  },
  {
   "cell_type": "markdown",
   "id": "136e3133-4789-4cfc-8f90-954ce2cf66ff",
   "metadata": {},
   "source": [
    "## Abstract"
   ]
  },
  {
   "cell_type": "markdown",
   "id": "81252420-c0c3-4442-b63b-a1f4b3a82f97",
   "metadata": {},
   "source": [
    "![](../images/paper/recommendation/aecf/aecf-002.png)"
   ]
  },
  {
   "cell_type": "markdown",
   "id": "29de07f2-12a7-4148-b8a5-0fdf969ed582",
   "metadata": {},
   "source": [
    "- Autoencoder를 Collaborative Filtering에 적용\n",
    "- MovieLens와 Netflix 데이터셋에 대해서 좋은 성능을 입증"
   ]
  },
  {
   "cell_type": "markdown",
   "id": "9262a367-90a1-40b8-be95-fc6cf00bb0b3",
   "metadata": {},
   "source": [
    "## Introduction"
   ]
  },
  {
   "cell_type": "markdown",
   "id": "f1e409cc-75da-41d3-a686-3375c9f7e6e0",
   "metadata": {},
   "source": [
    "![](../images/paper/recommendation/aecf/aecf-003.png)"
   ]
  },
  {
   "cell_type": "markdown",
   "id": "3b1288d6-21db-49e5-ab9b-38b99bd4a6e0",
   "metadata": {},
   "source": [
    "- Autoencoder를 Collaborative Filtering에 적용한 논문\n",
    "- 최근 Vision과 Speech 분야에서 성공을 거둔 neural network를 적용한 논문\n",
    "- Representation과 computation에서 모두 장점이 있음"
   ]
  },
  {
   "cell_type": "markdown",
   "id": "fa24aef7-b625-4058-9b94-6b518f6b83a7",
   "metadata": {},
   "source": [
    "## The AutoRec Model"
   ]
  },
  {
   "cell_type": "markdown",
   "id": "d7c06a13-17d1-4e34-b56a-7b84a3df1634",
   "metadata": {},
   "source": [
    "![](../images/paper/recommendation/aecf/aecf-004.png)"
   ]
  },
  {
   "cell_type": "markdown",
   "id": "9a6959ef-f1d2-429f-afe5-8cdf54368332",
   "metadata": {},
   "source": [
    "- $u \\in U = {1, ..., m} \\to r^{(u)} = (R_{u1}, ..., R_{un}) \\in \\mathbb{R}^n$\n",
    "- $i \\in I = {1, ..., n} \\to r^{(i)} = (R_{1i}, ..., Rmi) \\in \\mathbb{R}^m$"
   ]
  },
  {
   "cell_type": "markdown",
   "id": "f6722755-4725-47a5-8ab5-e5e728fbe53d",
   "metadata": {},
   "source": [
    "![](../images/paper/recommendation/aecf/aecf-005.png)"
   ]
  },
  {
   "cell_type": "markdown",
   "id": "59059ebd-5099-4a41-b846-6f15fc053532",
   "metadata": {},
   "source": [
    "- Reconstruction error of input $r \\in \\mathbb{R}^d$"
   ]
  },
  {
   "cell_type": "markdown",
   "id": "80c595c3-a201-4053-b8e1-3f33f6856c45",
   "metadata": {},
   "source": [
    "![](../images/paper/recommendation/aecf/aecf-006.png)"
   ]
  },
  {
   "cell_type": "markdown",
   "id": "12e09573-e9a4-4c45-9571-4091ce9f10d7",
   "metadata": {},
   "source": [
    "- Observed rating만 학습에 사용\n",
    "- Regularization term을 통해 overfitting을 방지\n",
    "- 각 $r^{(i)}$는 Backpropagation에서만 observed inputs에 대해서 가중치를 업데이트"
   ]
  },
  {
   "cell_type": "markdown",
   "id": "6f79d6c6-db57-462b-9a2b-d3091870639c",
   "metadata": {},
   "source": [
    "![](../images/paper/recommendation/aecf/aecf-007.png)"
   ]
  },
  {
   "cell_type": "markdown",
   "id": "0092b863-2377-466a-a71f-b3c5dc1d1ad3",
   "metadata": {},
   "source": [
    "- Predicted rating을 구함"
   ]
  },
  {
   "cell_type": "markdown",
   "id": "5938f834-d77d-45b9-848f-beca1b138c81",
   "metadata": {},
   "source": [
    "- **RBM-CF**와 비교\n",
    "    - **RBM-CF**는 restricted Boltzmann machine을 사용한 일반화된 확률 모델이지만, **AutoRec**은 discriminative하고 autoencoder를 활용한 모델\n",
    "    - **RBM-CF**는 log likelihood를 최대화하고, **AutoRec**은 RMSE를 최소화함\n",
    "    - 학습할 때, **RBM-CF**는 대조발산(Boltzmann machine), **AutoRec**은 비교적 빠른 gradient-based 역전파를 사용\n",
    "    - **RBM-CF**는 discrete rating에 적합하고 각 rating 값에 대해 파라미터를 추정하지만, **AutoRec**은 더 적은 parameter가 필요하고, overfitting될 확률이 낮음\n",
    "- **MF**와 비교\n",
    "    - **MF**는 linear representation이지만, **AutoRec**은 non-linear\n",
    "    - **MF**는 user, item 모두 latent space에 두지만, (item-based) AutoRec은 item만 embed 함"
   ]
  },
  {
   "cell_type": "markdown",
   "id": "c71eccd8-f500-46db-8f35-e0e3b3c99558",
   "metadata": {},
   "source": [
    "## Experiments"
   ]
  },
  {
   "cell_type": "markdown",
   "id": "3768452b-cfdc-46d8-abd3-4706f8be9bd0",
   "metadata": {},
   "source": [
    "![](../images/paper/recommendation/aecf/aecf-008.png)"
   ]
  },
  {
   "cell_type": "markdown",
   "id": "1554f4ed-d5ad-4958-85ce-fe5c601a9bbf",
   "metadata": {},
   "source": [
    "- Item-based가 user-based 보다 성능이 우수함, Item 데이터가 더 많기 때문\n",
    "- Hidden layer의 non-linearity가 효과가 있음\n",
    "- AutoRec이 모든 baseline에 대해서 더 우수한 성능을 보여줌"
   ]
  }
 ],
 "metadata": {
  "kernelspec": {
   "display_name": "Python 3",
   "language": "python",
   "name": "python3"
  },
  "language_info": {
   "codemirror_mode": {
    "name": "ipython",
    "version": 3
   },
   "file_extension": ".py",
   "mimetype": "text/x-python",
   "name": "python",
   "nbconvert_exporter": "python",
   "pygments_lexer": "ipython3",
   "version": "3.6.9"
  }
 },
 "nbformat": 4,
 "nbformat_minor": 5
}
