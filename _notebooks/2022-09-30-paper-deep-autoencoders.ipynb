{
 "cells": [
  {
   "cell_type": "markdown",
   "id": "91b617f8-a23e-47a4-8b9e-016ff3361379",
   "metadata": {},
   "source": [
    "# \"[Recommender System] Training Deep AutoEncoder for Collaborative Filtering\"\n",
    "> 2017, Autoencoder를 Collaborative Filtering에 적용\n",
    "\n",
    "- toc: true\n",
    "- badges: true\n",
    "- comments: true\n",
    "- categories: [Paper]\n",
    "- tags: [paper, recommender system, autoencoder, collaborative filtering]"
   ]
  },
  {
   "cell_type": "markdown",
   "id": "07953016-4f43-4520-88aa-a3c1b42d247b",
   "metadata": {
    "tags": []
   },
   "source": [
    "![](../images/paper/recommendation/dae/dae-001.png)"
   ]
  },
  {
   "cell_type": "markdown",
   "id": "6f08b2ce-2365-421f-9ebd-e4531947a3a2",
   "metadata": {},
   "source": [
    "## Abstract"
   ]
  },
  {
   "cell_type": "markdown",
   "id": "7ab0151a-4d4b-4af6-adcd-282a74292ae4",
   "metadata": {},
   "source": [
    "![](../images/paper/recommendation/dae/dae-002.png)"
   ]
  },
  {
   "cell_type": "markdown",
   "id": "005acda0-1211-43b1-bbd0-f45f6489f261",
   "metadata": {},
   "source": [
    "- AutoEncoder는 deep할수록 일반화하는 성능이 더 우수\n",
    "- Negative 부분을 포함한 non-linear activation fuction은 학습에 매우 중요한 부분\n",
    "- Dropout과 같은 Regularization을 사용하여 overfitting을 방지할 수 있음"
   ]
  },
  {
   "cell_type": "markdown",
   "id": "0a9912b4-600b-4b8e-8ad8-409aa9673143",
   "metadata": {},
   "source": [
    "## Model"
   ]
  },
  {
   "cell_type": "markdown",
   "id": "8c22601e-5f8f-41c8-bb1c-2fd4520841fe",
   "metadata": {},
   "source": [
    "![](../images/paper/recommendation/dae/dae-003.png)"
   ]
  },
  {
   "cell_type": "markdown",
   "id": "01219e0a-eb9e-4acb-adb4-7b30092e2f88",
   "metadata": {},
   "source": [
    "- Loss Function\n",
    "    - $MMSE =$ $\\displaystyle{m_i * (r_i -y_j)^2} \\over \\displaystyle\\sum_{i=0}^{i=n}m_i$\n",
    "    - $m_i$는 rating이 0이면 0, 아니면 1\n",
    "    - $y_i$는 predicted rating\n",
    "- Dense re-feeding\n",
    "    - Sparse한 x로 $f(x)$와 loss를 구함 (forward pass)\n",
    "    - Gradient와 weight를 update 함 (backward pass)\n",
    "    - $f(x)$로 $f(f(x))$를 구함, 둘다 dense 함 (second forward pass)\n",
    "    - Gradient와 weight를 다시 update 함 (second backward pass)"
   ]
  },
  {
   "cell_type": "markdown",
   "id": "51d39ba8-718a-465b-a075-7678d72eee0c",
   "metadata": {},
   "source": [
    "## Experiment"
   ]
  },
  {
   "cell_type": "markdown",
   "id": "4dfe9f90-e434-4c44-a6bf-7b52a7190db8",
   "metadata": {},
   "source": [
    "![](../images/paper/recommendation/dae/dae-004.png)"
   ]
  },
  {
   "cell_type": "markdown",
   "id": "80012391-91e0-4e07-b45e-17f97e6f6864",
   "metadata": {},
   "source": [
    "- 여러 종류의 Activation function에 대한 실험"
   ]
  },
  {
   "cell_type": "markdown",
   "id": "ac0f8040-70be-489f-ad50-af2c21a853a5",
   "metadata": {},
   "source": [
    "![](../images/paper/recommendation/dae/dae-005.png)"
   ]
  },
  {
   "cell_type": "markdown",
   "id": "9be69b4e-71a5-4f5f-a666-2eb7f6172b5e",
   "metadata": {},
   "source": [
    "![](../images/paper/recommendation/dae/dae-006.png)"
   ]
  },
  {
   "cell_type": "markdown",
   "id": "18673366-11d9-453f-919f-b6cec4e61b5a",
   "metadata": {},
   "source": [
    "- Dropout 실험 (Regularization 효과 검증)"
   ]
  },
  {
   "cell_type": "markdown",
   "id": "8a2d5e3a-f95c-42b2-aeb6-9dd6e5b1f3d4",
   "metadata": {},
   "source": [
    "![](../images/paper/recommendation/dae/dae-007.png)"
   ]
  },
  {
   "cell_type": "markdown",
   "id": "5a80da47-1d47-4e07-9d7c-849d6ddad0bb",
   "metadata": {},
   "source": [
    "- Re-feeding 효과"
   ]
  }
 ],
 "metadata": {
  "kernelspec": {
   "display_name": "Python 3",
   "language": "python",
   "name": "python3"
  },
  "language_info": {
   "codemirror_mode": {
    "name": "ipython",
    "version": 3
   },
   "file_extension": ".py",
   "mimetype": "text/x-python",
   "name": "python",
   "nbconvert_exporter": "python",
   "pygments_lexer": "ipython3",
   "version": "3.6.9"
  }
 },
 "nbformat": 4,
 "nbformat_minor": 5
}
