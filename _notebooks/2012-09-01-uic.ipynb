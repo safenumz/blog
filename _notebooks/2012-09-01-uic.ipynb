{
 "cells": [
  {
   "cell_type": "markdown",
   "id": "80846ac2-a5d3-4b85-bc8e-76092756938d",
   "metadata": {
    "tags": []
   },
   "source": [
    "# \"[Project] 파라다이스 기업분석\"\n",
    "> \"2012년 UIC 투자콘서트 Research+Portfolio 부문 대상 수상작\"\n",
    "\n",
    "\n",
    "- badges: true\n",
    "- comments: true\n",
    "- sticky_rank: 6\n",
    "- image: images/portfolio/uic/0.jpg\n",
    "- categories: [Project]"
   ]
  },
  {
   "cell_type": "markdown",
   "id": "06a34c40-a6db-451e-a39a-920481a0d82f",
   "metadata": {},
   "source": [
    "<script>\n",
    "var pagenum = 23\n",
    "var img_dir = \"{{ site.baseurl }}\" + \"/images/portfolio/uic\"\n",
    "var img_ext = \"png\"\n",
    "\n",
    "var img_array = []\n",
    "for (i = 1; i < pagenum+1; i++)  {\n",
    "    img_array.push(img_dir + \"/\" + i + \".\" + img_ext);\n",
    "}\n",
    "img_array.forEach( element => {\n",
    "    var h = `<img src=\"${element}\" alt=\"img\"><br>`;\n",
    "    document.write(h);\n",
    "});\n",
    "\n",
    "</script>"
   ]
  }
 ],
 "metadata": {
  "kernelspec": {
   "display_name": "Python 3",
   "language": "python",
   "name": "python3"
  },
  "language_info": {
   "codemirror_mode": {
    "name": "ipython",
    "version": 3
   },
   "file_extension": ".py",
   "mimetype": "text/x-python",
   "name": "python",
   "nbconvert_exporter": "python",
   "pygments_lexer": "ipython3",
   "version": "3.6.9"
  }
 },
 "nbformat": 4,
 "nbformat_minor": 5
}
