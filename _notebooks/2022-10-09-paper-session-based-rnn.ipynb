{
 "cells": [
  {
   "cell_type": "markdown",
   "id": "90c44828-629d-4635-bc99-462fbf52736d",
   "metadata": {},
   "source": [
    "# \"[Recommender System] Session-based Recommendation with RNN\"\n",
    "> 2016, Session 상황에서의 RNN 기반(GRU)의 추천 시스템\n",
    "\n",
    "- toc: true\n",
    "- badges: true\n",
    "- comments: true\n",
    "- categories: [Paper]\n",
    "- tags: [paper, recommender system, RNN, GRU]"
   ]
  },
  {
   "cell_type": "markdown",
   "id": "abfa4d52-a1a2-4f3b-9f5a-d28618a2cda1",
   "metadata": {},
   "source": [
    "# Session-based Recommendation with RNN"
   ]
  },
  {
   "cell_type": "markdown",
   "id": "76581403-4a11-4a3b-adaa-2a57a92a2d29",
   "metadata": {},
   "source": [
    "![](../images/paper/recommendation/srnn/srnn-001.png)"
   ]
  },
  {
   "cell_type": "markdown",
   "id": "46e40192-548b-4d38-9951-1cf11953d5f9",
   "metadata": {},
   "source": [
    "## Abstract"
   ]
  },
  {
   "cell_type": "markdown",
   "id": "f4ddb654-0738-4a20-803d-0f250cc541ce",
   "metadata": {},
   "source": [
    "![](../images/paper/recommendation/srnn/srnn-002.png)"
   ]
  },
  {
   "cell_type": "markdown",
   "id": "858cdbe8-cc8e-46db-bdb0-3c3d88311894",
   "metadata": {},
   "source": [
    "- RNN을 추천시스템에 적용\n",
    "- Short session-based 상황에서 Matrix Factorization은 정확도가 떨어짐\n",
    "- Item-to-item 추천 방식을 short session에서 활용하기도 함\n",
    "- RNN-based 방식을 통해 session-based 추천시스템을 구현할 수 있음\n",
    "- RNN의 ranking loss를 변경하여 Session-based recommendation task에서 좋은 성능을 얻을 수 있음"
   ]
  },
  {
   "cell_type": "markdown",
   "id": "49331e98-0b14-4b9c-a21c-d0e6bcb420c2",
   "metadata": {},
   "source": [
    "## Introduction"
   ]
  },
  {
   "cell_type": "markdown",
   "id": "52bc6920-8d69-4643-9d1f-22309a7e8ce1",
   "metadata": {},
   "source": [
    "- 현재까지 대부분의 session-based 추천은 간단한 방법을 사용할 수 밖에 없었음\n",
    "    - User profile을 사용하지 못하고 item간 유사도, co-occurrence 등을 활용\n",
    "    - E-commerce 분야에서 특히 session-based 추천을 적용하기 어려웠음\n",
    "- 주로 사용되는 모델은 factor model과 neighborhood method 임\n",
    "    - Factor model은 user profile이 없기 때문에 session-based 추천문제를 풀 수 없음\n",
    "    - Neighborhood method는 유사도와 co-occurrnece 기반이기 때문에 session-based 추천에서 적절히 사용할 수 있음"
   ]
  },
  {
   "cell_type": "markdown",
   "id": "1abe1c87-e8d5-4cfa-8e23-31df1472ecbd",
   "metadata": {},
   "source": [
    "- RNN의 sequential한 특징 덕분에 session-based 추천에 활용할 수 있음\n",
    "- Sparse한 sequential 데이터를 모델링하고 추천시스템에 RNN을 적용\n",
    "- 새로운 ranking loss를 task에 맞게 다시 제안\n",
    "- 학습할 때,\n",
    "    - 사용자가 웹사이트에 들어왔을 때 하는 첫번째 클릭 = initial input\n",
    "    - 이전 클릭에 따라 사용자는 다음 클릭을 연이어서 진행함 = output\n",
    "- 위의 click-stream 데이터셋을 활용하는데, 데이터 사이즈와 scalability가 매우 중요"
   ]
  },
  {
   "cell_type": "markdown",
   "id": "d329389d-c924-41c1-8d74-a039265a2303",
   "metadata": {},
   "source": [
    "## Recommendations with RNNs"
   ]
  },
  {
   "cell_type": "markdown",
   "id": "c50357d3-7c51-4a5a-89a7-2663929feb13",
   "metadata": {},
   "source": [
    "![](../images/paper/recommendation/srnn/srnn-003.png)"
   ]
  },
  {
   "cell_type": "markdown",
   "id": "ef41ae87-3811-41f8-a403-4c7fabbafaf4",
   "metadata": {},
   "source": [
    "### Customizing the GRU Model"
   ]
  },
  {
   "cell_type": "markdown",
   "id": "94a50c7e-c8d2-4b52-b71b-b7044c4494e1",
   "metadata": {},
   "source": [
    "![](../images/paper/recommendation/srnn/srnn-004.png)"
   ]
  },
  {
   "cell_type": "markdown",
   "id": "e37cbf12-4c42-4391-b8da-378ab567e771",
   "metadata": {},
   "source": [
    "- Input: Actual state of the session\n",
    "- Output: item of the thext event in the session\n",
    "- State of the session의 정의\n",
    "    - Item of the actual event: one-hot vector\n",
    "    - Events in the session: weighted sum of these representations"
   ]
  },
  {
   "cell_type": "markdown",
   "id": "843cbd9e-50b6-4281-8586-b854646d408d",
   "metadata": {},
   "source": [
    "## Session-Parallel Mini-batches"
   ]
  },
  {
   "cell_type": "markdown",
   "id": "648402d8-9fdf-4e74-801b-8b91f71660fc",
   "metadata": {},
   "source": [
    "![](../images/paper/recommendation/srnn/srnn-005.png)"
   ]
  },
  {
   "cell_type": "markdown",
   "id": "a78c91f6-3ecd-42b5-b8b8-d11bb87e46fa",
   "metadata": {},
   "source": [
    "- 기존 RNN batch 방식을 적용할 수 없음\n",
    "    - Session 길이가 매우 다름\n",
    "    - 시간 변화에 따라 session이 어떻게 생겨나는지를 학습하는 것이 목적\n",
    "- Session-parallel mini-batchs 방법을 선택\n",
    "- Session은 모두 독립이며, hidden state를 reset 함"
   ]
  },
  {
   "cell_type": "markdown",
   "id": "4d100f49-05cb-443d-a0b8-97829899add1",
   "metadata": {},
   "source": [
    "### Sampling on the output"
   ]
  },
  {
   "cell_type": "markdown",
   "id": "1917367c-94b1-4fbc-b02d-1e9148abcd11",
   "metadata": {},
   "source": [
    "- 매 step 마다 모든 item에 대해서 점수를 계산하는 것은 비효율적임\n",
    "- 아이템 중 subset만 뽑아서 점수를 계산하는 것이 좋음\n",
    "- 다음과 같이 sampling할 때는 popularity를 고려해야 함\n",
    "    - 아이템이 존재하는지 몰랐기 때문에 관심 갖지 않음\n",
    "    - 유명한데도 안봤다면 좋아하지 않을 가능성이 높음\n",
    "- 따라서 mini-batch에서 다른 학습데이터를 negative example로 활용\n",
    "- 이는, mini-batch에서 다른 학습 데이터에 아이템이 존재할 likelihood는 popularity와 비례함"
   ]
  },
  {
   "cell_type": "markdown",
   "id": "1ccbed00-eb08-46c9-9474-4f33bedd77fc",
   "metadata": {},
   "source": [
    "### Ranking Loss"
   ]
  },
  {
   "cell_type": "markdown",
   "id": "265311a7-7a8f-4563-bad6-ce377bcf8412",
   "metadata": {},
   "source": [
    "- Pointwise: 각 아이템에 점수를 매김\n",
    "- Pairwise: 유저가 선택한 아이템과 그렇지 않은 아이템을 고르고, 유저가 선택한 아이템을 선택하지 않은 아이템보다 더 선호할 확률을 최대화 함\n",
    "- Listwise: 모든 아이템에 점수와 랭킹을 부여하고 랭킹을 바탕으로 정답과 비교\n",
    "- 그러나 논문에서는 Pairwise Loss가 가장 성능이 좋다고 함\n",
    "    - **BPR**(**Bayesian Personalized Ranking**)\n",
    "    - TOP1: relative rank of the relevant item"
   ]
  },
  {
   "cell_type": "markdown",
   "id": "bd6039c6-9f7d-4c9a-ab68-c3af3a110f11",
   "metadata": {},
   "source": [
    "## Experiments"
   ]
  },
  {
   "cell_type": "markdown",
   "id": "0d5c583a-f26b-497d-9207-08a40d6889cc",
   "metadata": {},
   "source": [
    "- Dataset\n",
    "    - RSC15: e-commerce 사이트의 click-stream 데이터\n",
    "    - YouTube-like OTT: 특정 시간 이상 비디오를 시청한 이벤트 데이터\n",
    "- Evaluation\n",
    "    - RSC15sms 매 event마다 모든 item에 대해 ranking 측정. 반면 OTT는 상위 30,000개만 ranking 측정\n",
    "    - Recall과 MRR(Mean Reciprocal Rank)을 측정\n",
    "- Baseline\n",
    "    - POP: Poularity-based\n",
    "    - S-POP: Most popular items on current session\n",
    "    - Item-KNN\n",
    "    - BPR-MF"
   ]
  },
  {
   "cell_type": "markdown",
   "id": "fcac787f-bfee-4075-9ee7-3de4fc45142e",
   "metadata": {},
   "source": [
    "![](../images/paper/recommendation/srnn/srnn-006.png)"
   ]
  },
  {
   "cell_type": "markdown",
   "id": "1617b92e-ab37-4c39-85b0-b73cbadcad9a",
   "metadata": {},
   "source": [
    "- Best Parameters for GRU4Rec"
   ]
  },
  {
   "cell_type": "markdown",
   "id": "030b2333-e8bd-43c4-8869-721b0acca51c",
   "metadata": {},
   "source": [
    "- **AdaGrad** > **RMSProp**\n",
    "- **LSTM**, **RNN** 보다 **GRU**가 더 우수\n",
    "- Session이 그렇게 길지 않기 때문에 single layer GRU도 충분\n",
    "- GRU의 사이즈를 키우는 것은 도움됨\n",
    "- 세션의 모든 이전 이벤트를 input으로 사용하는 것은 이전 하나만 넣는 것에 비해 성능향상 없음, **GRU** 역시 long short term memory 이슈가 있기 때문"
   ]
  },
  {
   "cell_type": "markdown",
   "id": "1329a93c-59da-4a7b-ba08-fe12f71417d3",
   "metadata": {},
   "source": [
    "![](../images/paper/recommendation/srnn/srnn-007.png)"
   ]
  },
  {
   "cell_type": "markdown",
   "id": "9dae339e-a8d9-4d37-ae81-51bef90fb365",
   "metadata": {},
   "source": [
    "- Baseline method 결과"
   ]
  },
  {
   "cell_type": "markdown",
   "id": "133d40df-3e6e-4317-832e-d3c6722c0a38",
   "metadata": {},
   "source": [
    "![](../images/paper/recommendation/srnn/srnn-008.png)"
   ]
  },
  {
   "cell_type": "markdown",
   "id": "c59dc9a1-d1be-4920-982a-dcd70c765ad6",
   "metadata": {},
   "source": [
    "- GRU4Rec 결과"
   ]
  },
  {
   "cell_type": "markdown",
   "id": "12083463-39cb-4559-8737-f014c482ab17",
   "metadata": {},
   "source": [
    "## Conclusions"
   ]
  },
  {
   "cell_type": "markdown",
   "id": "129748fa-8f87-47b4-a675-4b6867517281",
   "metadata": {},
   "source": [
    "- Session-based Recommendation with Recurrent Neural Network(GRU)를 제안\n",
    "- Session-based Recommendation을 위한 다음과 같은 방법을 제안\n",
    "    - Session-parallel mini-batches\n",
    "    - Mini-batch based output sampling\n",
    "    - Ranking Loss function\n",
    "- 이 task에 대해 다른 baseline보다 성능이 우수함을 확인"
   ]
  }
 ],
 "metadata": {
  "kernelspec": {
   "display_name": "Python 3",
   "language": "python",
   "name": "python3"
  },
  "language_info": {
   "codemirror_mode": {
    "name": "ipython",
    "version": 3
   },
   "file_extension": ".py",
   "mimetype": "text/x-python",
   "name": "python",
   "nbconvert_exporter": "python",
   "pygments_lexer": "ipython3",
   "version": "3.6.9"
  }
 },
 "nbformat": 4,
 "nbformat_minor": 5
}
