{
 "cells": [
  {
   "cell_type": "markdown",
   "id": "d3cfba4b-3ce0-4646-8efe-b52599095c5e",
   "metadata": {},
   "source": [
    "# \"[Recommender System] Wide and Deep Learning for Recommender system\"\n",
    "> 2016, Google, Wide linear 모델과 Deep neural networks를 Joint한 모델\n",
    "\n",
    "- toc: true\n",
    "- badges: true\n",
    "- comments: true\n",
    "- categories: [Paper]\n",
    "- tags: [paper, recommender system, wide and deep]"
   ]
  },
  {
   "cell_type": "markdown",
   "id": "4b107350-aea7-4629-ad8d-5c0a2926c034",
   "metadata": {},
   "source": [
    "# Wide and Deep Learning for Recommender system"
   ]
  },
  {
   "cell_type": "markdown",
   "id": "a99958d6-d308-4542-8161-4bb755b13ff8",
   "metadata": {},
   "source": [
    "![](../images/paper/recommendation/wd/wd-001.png)"
   ]
  },
  {
   "cell_type": "markdown",
   "id": "a8b473ec-177b-425d-ac83-94770339e191",
   "metadata": {},
   "source": [
    "## Abstract"
   ]
  },
  {
   "cell_type": "markdown",
   "id": "c3310389-ab78-4e72-8993-3da77dc130d7",
   "metadata": {},
   "source": [
    "![](../images/paper/recommendation/wd/wd-002.png)"
   ]
  },
  {
   "cell_type": "markdown",
   "id": "93b8f00f-3a23-4233-9db9-8d403dce0c13",
   "metadata": {},
   "source": [
    "- Wide: Memorization\n",
    "    - Cross-product feature transformation\n",
    "    - More feature engineering effort\n",
    "- Deep: Generalization\n",
    "    - Generalize to unseen feature combinations\n",
    "    - Less feature engineering effort\n",
    "    - Over-generalize\n",
    "- Wide & Deep\n",
    "    - Joint wide linear models and deep neural networks"
   ]
  },
  {
   "cell_type": "markdown",
   "id": "6f918d9e-3835-4748-9406-80979ffc4fb1",
   "metadata": {},
   "source": [
    "## Introduction"
   ]
  },
  {
   "cell_type": "markdown",
   "id": "082d5e88-7012-4c13-b3a2-ea7506ba247e",
   "metadata": {},
   "source": [
    "- Memorization의 정의\n",
    "    - Frequent co-occurrence of items or features\n",
    "    - Exploit correlation available in the historical data\n",
    "- Generalization의 정의\n",
    "    - Explore new feature combinations\n",
    "- 추천 시스템에서 Memorization과 Generalization\n",
    "    - Memorization: more topical and directly relevant to the items\n",
    "    - Generalization: improve diversity of the recommendations\n",
    "- Google Play Store의 apps recommendation 실험을 했지만 general하게 적용할 수 있음"
   ]
  },
  {
   "cell_type": "markdown",
   "id": "329458fe-a700-4c19-9f4e-7ac2a3bf30c9",
   "metadata": {},
   "source": [
    "- 기존 추천 모델의 한계\n",
    "    - Generalized Linear Model\n",
    "        - **Logistic Regression**과 같은 모델에 다양한 features를 만들어서 학습\n",
    "        - Memorization(주어진 데이터 기억)에 특화\n",
    "        - 새로운 또는 관측되지 않은 데이터(unseen data)에는 취약\n",
    "        - 오버피팅이 발생할 수 있음\n",
    "    - Embedding based Model\n",
    "        - **Factorization Machine**, **Deep Neural Network** 방법을 활용\n",
    "        - Generalization(unseen data 대응)에 특화\n",
    "        - Non-zero prediction으로 인해 섬세한 추천이 불가"
   ]
  },
  {
   "cell_type": "markdown",
   "id": "858be6c9-a293-4e0e-a6ad-5407c8bd4581",
   "metadata": {},
   "source": [
    "## Contributions\n",
    "- Wide & Deep Learning framework를 제안\n",
    "    - Jointly training feed-forward neural network and linear model\n",
    "- Google Play에 사용화된 Wide & Deep 추천시스템의 평가와 구현내용을 공개\n",
    "    - 모바일 앱스토어에서 App 구매, 다운로드 등 향상\n",
    "    - 학습과 서비스 속도를 충족\n",
    "- Tensorflow 기반의 API를 오픈소스 형태로 제공"
   ]
  },
  {
   "cell_type": "markdown",
   "id": "5b123d1c-f2af-4247-a379-cb67cf82a15e",
   "metadata": {},
   "source": [
    "### Wide & Deep Learning Framework Overview"
   ]
  },
  {
   "cell_type": "markdown",
   "id": "bde91e36-01bc-4561-be38-c199742a655e",
   "metadata": {},
   "source": [
    "![](../images/paper/recommendation/wd/wd-003.png)"
   ]
  },
  {
   "cell_type": "markdown",
   "id": "84afaf6f-0cbe-4a9b-ab5f-fcb1ca9674b0",
   "metadata": {},
   "source": [
    "## Recommender system Overview"
   ]
  },
  {
   "cell_type": "markdown",
   "id": "4e8df307-77b0-4bec-ace8-2d4030ca5a9c",
   "metadata": {},
   "source": [
    "![](../images/paper/recommendation/wd/wd-004.png)"
   ]
  },
  {
   "cell_type": "markdown",
   "id": "4aebb748-8325-4557-9de5-6f11560943d9",
   "metadata": {},
   "source": [
    "- Inference: User가 App Store 방문할 때 query 생성\n",
    "- Train: Log 등 User Actions을 활용하여 모델 학습"
   ]
  },
  {
   "cell_type": "markdown",
   "id": "c48928ec-4a4b-4b7a-a148-a3bb6f3dd672",
   "metadata": {},
   "source": [
    "## Wide & Deep Learning"
   ]
  },
  {
   "cell_type": "markdown",
   "id": "0f5b42a3-6399-4586-9f35-bf9380188270",
   "metadata": {},
   "source": [
    "### The Wide Component"
   ]
  },
  {
   "cell_type": "markdown",
   "id": "8066008c-3f24-4c81-8efc-4596c57b7932",
   "metadata": {},
   "source": [
    "$y = w^Tx + b$"
   ]
  },
  {
   "cell_type": "markdown",
   "id": "5c9a4b93-254e-4d15-a70d-4963161552d1",
   "metadata": {},
   "source": [
    "- Generalized Linear model\n",
    "- y &rarr; prediction (유저 행동여부)\n",
    "- $x = [x_{1}, x_{2}, ..., x_{d}]$\n",
    "    - side d의 feature vector\n",
    "    - Raw input features & cross-product feature\n",
    "- $w = [w_{1}, w_{2}, ..., w_{d}]$ &rarr; model parameters\n",
    "- $b$ &rarr; bias"
   ]
  },
  {
   "cell_type": "markdown",
   "id": "4b0e37a6-2ad1-4d0e-a825-05b14668524f",
   "metadata": {},
   "source": [
    "![](../images/paper/recommendation/wd/wd-005.png)"
   ]
  },
  {
   "cell_type": "markdown",
   "id": "580c4b7b-f0a1-409b-9dad-682d428967a8",
   "metadata": {},
   "source": [
    "$\\phi_{k}(x) = \\displaystyle\\prod_{i=1}^{d}x_{i}^{c_{ki}} \\quad c_{ki} \\in \\{0, 1\\}$"
   ]
  },
  {
   "cell_type": "markdown",
   "id": "d1fc512b-9495-4ece-a3e7-db09f6759b69",
   "metadata": {},
   "source": [
    "- $\\phi_{k}(x)$ &rarr; Cross-product feature의 $k$번째 요소\n",
    "- $c_{ki} \\in \\{0, 1\\}$ &rarr; Raw feature의 $i$번째 요소가 true인지 여부\n",
    "- Feature interaction 반영\n",
    "- 모델에 Non-linearity 적용\n",
    "    - (예시) feature가 (gender, language)로 구성되어 있고 cross-product transformation(feature)의 $k$번째를 AND (female, en)일 때, 모두 만족하면 1 아니면 0"
   ]
  },
  {
   "cell_type": "markdown",
   "id": "6b719c6d-61fb-4f58-a533-ce37525be11e",
   "metadata": {},
   "source": [
    "### The Deep Component"
   ]
  },
  {
   "cell_type": "markdown",
   "id": "f0c80758-af8a-4c10-b116-5b60d3fabf85",
   "metadata": {},
   "source": [
    "![](../images/paper/recommendation/wd/wd-006.png)"
   ]
  },
  {
   "cell_type": "markdown",
   "id": "f84b01ad-7eeb-4784-ac6f-8451294df12c",
   "metadata": {},
   "source": [
    "- Features를 임베딩과 뉴럴넷에 학습\n",
    "    - **Generalization**"
   ]
  },
  {
   "cell_type": "markdown",
   "id": "9f5eb335-77ea-4c78-99d8-6a5732e9f825",
   "metadata": {},
   "source": [
    "$a^{l+1} = f(W^{(l)}a^{(l)} + b^{(l)})$"
   ]
  },
  {
   "cell_type": "markdown",
   "id": "8fb4c580-6455-4653-8708-58a52e0a3726",
   "metadata": {},
   "source": [
    "- $l$은 number of layers\n",
    "- $f$는 activation function(ReLU)\n",
    "- $a^{(l)}, b^{(l)}, W^{(l)}$\n",
    "    - Activation, bias and model weights at $l$-th layer\n",
    "- **Dense Embeddings**\n",
    "    - Normal Feature에 해당하는 임베딩을 랜덤 초기화(random initialize)하고 모델 전체 학습"
   ]
  },
  {
   "cell_type": "markdown",
   "id": "ba884ce9-b6d0-4f3d-807d-362b12519267",
   "metadata": {},
   "source": [
    "### Joint Training of Wide & Deep Model"
   ]
  },
  {
   "cell_type": "markdown",
   "id": "7310f64c-418a-4552-b636-b209c5d3ccde",
   "metadata": {},
   "source": [
    "![](../images/paper/recommendation/wd/wd-007.png)"
   ]
  },
  {
   "cell_type": "markdown",
   "id": "99c76965-b6d4-41c3-95a6-be2fb97aff15",
   "metadata": {},
   "source": [
    "- Continuous와 categorical features를 concat하여 Deep의 input a로 활용\n",
    "- user install app과 impression app을 cross-product하여 Wide의 input x로 활용"
   ]
  },
  {
   "cell_type": "markdown",
   "id": "2b47e937-e0ce-4fda-b87e-d821c5e26b3f",
   "metadata": {},
   "source": [
    "![](../images/paper/recommendation/wd/wd-008-1.png)"
   ]
  },
  {
   "cell_type": "markdown",
   "id": "228ff762-deb5-4c6c-9571-a5f462454ffd",
   "metadata": {},
   "source": [
    "- $P(Y=1|X)$ app을 다운받을 확률\n",
    "- Sigmoid 함수의 input으로 Wide와 Deep을 합한 값을 넣어주고, 그 output이 최종 결과가 됨"
   ]
  },
  {
   "cell_type": "markdown",
   "id": "abb5aed7-7730-4b3d-925b-1429881a1a9a",
   "metadata": {},
   "source": [
    "## System Implementation"
   ]
  },
  {
   "cell_type": "markdown",
   "id": "6ef05425-96a4-42f0-8c1f-53e4b758e528",
   "metadata": {},
   "source": [
    "![](../images/paper/recommendation/wd/wd-010.png)"
   ]
  },
  {
   "cell_type": "markdown",
   "id": "44fb8848-c8e7-4ad5-84fa-725372027424",
   "metadata": {},
   "source": [
    "## Experiment Results"
   ]
  },
  {
   "cell_type": "markdown",
   "id": "2ff82e70-e2fb-4afb-bb7a-3245570325df",
   "metadata": {},
   "source": [
    "![](../images/paper/recommendation/wd/wd-011.png)"
   ]
  },
  {
   "cell_type": "markdown",
   "id": "0cd7c487-e119-45d0-8a8d-692050916375",
   "metadata": {},
   "source": [
    "- Offline AUC\n",
    "    - Test set의 사용자 행동결과로 성능 측정\n",
    "    - AUC는 클수록 좋은 점수를 나타냄 (=ROC 커브의 아래 면적)\n",
    "- Online Acquision Gain\n",
    "    - 실제 사용자들의 action을 추적\n",
    "    - 기존 모델 대비 application 실제 다운로드 수가 증가"
   ]
  },
  {
   "cell_type": "markdown",
   "id": "2a14a4c7-734d-4fca-a73e-528bd640a9d1",
   "metadata": {},
   "source": [
    "![](../images/paper/recommendation/wd/wd-012.png)"
   ]
  },
  {
   "cell_type": "markdown",
   "id": "6b532792-dfac-406c-940b-95a89274f616",
   "metadata": {},
   "source": [
    "- Multithreading, Split each batch into smaller batches &rarr; latency를 14ms 줄일 수 있었음\n",
    "- 추천 알고리즘 성능 뿐만 아니라 Commercial Mobile App Store의 서비스까지 신경 쓴 것을 알 수 있음"
   ]
  },
  {
   "cell_type": "markdown",
   "id": "ad8b2b85-95df-4e74-9fc6-c7f6d4b33ca5",
   "metadata": {},
   "source": [
    "## Conclusion\n",
    "- Memorization의 Wide와 Generalization의 Deep을 결합한 모델을 제안\n",
    "    - Wide & Deep Learning\n",
    "- Linear model과 embedding-based model의 장점을 잘 조합\n",
    "- 좋은 추천 알고리즘을 실제 서비스 환경에서 작동할 수 있도록 구현\n",
    "- Open Source로 Tensorflow API를 구현하여 다양하게 활용"
   ]
  }
 ],
 "metadata": {
  "kernelspec": {
   "display_name": "Python 3",
   "language": "python",
   "name": "python3"
  },
  "language_info": {
   "codemirror_mode": {
    "name": "ipython",
    "version": 3
   },
   "file_extension": ".py",
   "mimetype": "text/x-python",
   "name": "python",
   "nbconvert_exporter": "python",
   "pygments_lexer": "ipython3",
   "version": "3.6.9"
  }
 },
 "nbformat": 4,
 "nbformat_minor": 5
}
