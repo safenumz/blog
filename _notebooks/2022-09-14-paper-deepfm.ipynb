{
 "cells": [
  {
   "cell_type": "markdown",
   "id": "55860bb9-685f-4110-a03c-3facf5ec591e",
   "metadata": {},
   "source": [
    "# \"[Recommender System] DeepFM: A Factorization-Machine based Neural Network for CTR Prediction\"\n",
    "> 2017, Factorization Machine의 장점과 Deep Learning의 장점을 모두 합친 모델\n",
    "\n",
    "- toc: true\n",
    "- badges: true\n",
    "- comments: true\n",
    "- categories: [Paper]\n",
    "- tags: [paper, recommender system, deepfm]"
   ]
  },
  {
   "cell_type": "markdown",
   "id": "4bec3486-c68b-43b2-a8a9-daf06120d20b",
   "metadata": {},
   "source": [
    "# DeepFM: A Factorization-Machine based Neural Network for CTR Prediction"
   ]
  },
  {
   "cell_type": "markdown",
   "id": "0d145ee4-87cc-4e38-8eae-ffead20c58b1",
   "metadata": {},
   "source": [
    "![](../images/paper/recommendation/dfm/dfm-001.png)"
   ]
  },
  {
   "cell_type": "markdown",
   "id": "16834e1d-0fc0-4b75-a512-830824825876",
   "metadata": {},
   "source": [
    "## Abstract"
   ]
  },
  {
   "cell_type": "markdown",
   "id": "63f50f16-272c-4424-926a-f2c634762102",
   "metadata": {},
   "source": [
    "![](../images/paper/recommendation/dfm/dfm-002.png)"
   ]
  },
  {
   "cell_type": "markdown",
   "id": "194ecee4-821c-4c06-b5b9-537905eb1349",
   "metadata": {},
   "source": [
    "- Click Through Rate(CTR)을 예측하는 모델\n",
    "- Low와 High-order interactions 모두 학습할 수 있음\n",
    "- Factorization Machine의 장점과 Deep Learning의 장점을 모두 합친 모델이 DeepFM\n",
    "- 추가 feature engineering 없이 raw feature를 그대로 사용\n",
    "- 벤치마크 데이터와 commercial 데이터에서 모두 실험을 완료"
   ]
  },
  {
   "cell_type": "markdown",
   "id": "aa5401c0-5e10-4ece-bb38-f9daa2c88388",
   "metadata": {},
   "source": [
    "## Introduction"
   ]
  },
  {
   "cell_type": "markdown",
   "id": "97e0a0c0-cd99-4cb6-a9ea-bee48d6fa282",
   "metadata": {},
   "source": [
    "- CTR: user가 추천된 항목을 click할 확률을 예측하는 문제\n",
    "    - CTR(estimated probability)에 의해 user가 선호할 item 랭킹을 부여\n",
    "- Learn Implicit Feature Interaction\n",
    "    - App category와 Timestamp 관계: 음식 배달 어플은 식사시간 근처에 다운로드가 많음\n",
    "    - User gender와 Age 관계: 남자 청소년들은 슈팅과 RPG 게임을 선호\n",
    "    - 숨겨진 관계: 맥주와 기저귀를 구매하는 사람들이 많음\n",
    "> low와 high-order feature interaction을 모두 고려  \n",
    "> Explicit과 Implicit features를 모두 모델링할 수 있음"
   ]
  },
  {
   "cell_type": "markdown",
   "id": "5bddc424-af5c-421e-a8aa-ed17b9cc7f7e",
   "metadata": {},
   "source": [
    "### 선행 연구\n",
    "1. Generalized Linear Model(ex. FTRL)[McMahan et al., 2013]\n",
    "    - 당시 성능은 좋은 모델이었으나, High-order feature interaction을 반영하기 어려움\n",
    "2. Factorization Machine[Rendle, 2010]\n",
    "    - Latent vector간의 내적을 통해 pairwise feature interaction 모델링\n",
    "    - Low와 high-order 모두 모델링이 가능하지만, high-order의 경우 complexity가 증가\n",
    "3. CNN and RNN for CTR Prediction[Liu et al., 2015; Zhang et al., 2014]\n",
    "    - CNN-based는 주변 feature에 집중하지만, RNN-based는 sequential해서 더 적합\n",
    "4. Factorization-machine supported Neural Network(FNN), Product-based Neural Network\n",
    "    - [Qu et al., 2016; Cheng et al., 2016]\n",
    "    - Neural Network 기반으로 high-order 가능하지만 lower-order는 부족\n",
    "    - Pre-trained FM 성능에 의존할 수 있음\n",
    "5. Wide & Deep [Cheng et al., 2016]\n",
    "    - Low와 high-order 모두 가능하지만, wide component에 feature engineering이 필요"
   ]
  },
  {
   "cell_type": "markdown",
   "id": "3ccdcea5-9190-4996-9259-c59393f5d5b4",
   "metadata": {},
   "source": [
    "### Contiributions"
   ]
  },
  {
   "cell_type": "markdown",
   "id": "1d8a7466-8b45-4336-b927-aba14e4fc89c",
   "metadata": {},
   "source": [
    "![](../images/paper/recommendation/dfm/dfm-003.png)"
   ]
  },
  {
   "cell_type": "markdown",
   "id": "5a89c711-d0c2-4ced-9520-924a3fc916eb",
   "metadata": {},
   "source": [
    "- DeepFM이라는 모델 구조를 제안\n",
    "    - Low-order는 FM, High-order DNN\n",
    "    - End-to-end 학습 가능\n",
    "- DeepFM은 다른 비슷한 모델보다 더 효율적으로 학습 가능\n",
    "    - Input과 embedding vector를 share 함\n",
    "- DeepFM은 benchmark와 commercial 데이터의 CTR prediction에서 의미있는 성능 향상을 이룸"
   ]
  },
  {
   "cell_type": "markdown",
   "id": "f0b3a609-0f22-4bb4-9b9d-0adcc961b6a3",
   "metadata": {},
   "source": [
    "## Our Approach"
   ]
  },
  {
   "cell_type": "markdown",
   "id": "a9d1d9ad-bdac-4d0a-87c6-3eaa2d860640",
   "metadata": {},
   "source": [
    "### DeepFM"
   ]
  },
  {
   "cell_type": "markdown",
   "id": "39068d53-fe9b-4f77-be54-66b78c9c96da",
   "metadata": {},
   "source": [
    "![](../images/paper/recommendation/dfm/dfm-004.png)"
   ]
  },
  {
   "cell_type": "markdown",
   "id": "4bce7c37-7b3c-4ab6-8258-e31c8edca94d",
   "metadata": {},
   "source": [
    "- Sparse features의 노란색 부분은 embedding vector($x_{field_{i}}w_{i} = V_{i}$)에 해당"
   ]
  },
  {
   "cell_type": "markdown",
   "id": "fee7e32b-ce4b-490f-bdad-cdca05da1545",
   "metadata": {},
   "source": [
    "$ x = [x_{field_1}, x_{field_2}, ...,x_{field_m}], \\, \\hat{y} \\in (0, 1)$  "
   ]
  },
  {
   "cell_type": "markdown",
   "id": "07223587-2588-4887-8942-689f821c4ab7",
   "metadata": {},
   "source": [
    "$ \\hat{y} = CTR\\_model(x) $"
   ]
  },
  {
   "cell_type": "markdown",
   "id": "f8848484-1889-4e1f-9825-0757351245f1",
   "metadata": {},
   "source": [
    "![](../images/paper/recommendation/dfm/dfm-005.png)"
   ]
  },
  {
   "cell_type": "markdown",
   "id": "9f8bafc1-446c-4da5-bc23-6f8d5939cc45",
   "metadata": {},
   "source": [
    "### FM Component"
   ]
  },
  {
   "cell_type": "markdown",
   "id": "44689b35-564e-4790-bd37-c5565570554d",
   "metadata": {},
   "source": [
    "![](../images/paper/recommendation/dfm/dfm-006.png)"
   ]
  },
  {
   "cell_type": "markdown",
   "id": "b5fe11a4-a63d-4043-8b4c-66597aa76927",
   "metadata": {},
   "source": [
    "- embedding vector의 내적을 order-2의 가중치로 사용한다는 것이 포인트"
   ]
  },
  {
   "cell_type": "markdown",
   "id": "b6898cfe-2068-433f-80fc-8b3cd2708e25",
   "metadata": {},
   "source": [
    "$y_{FM} = \\, <w, x> + \\displaystyle\\sum_{j_{1}=1}^d\\sum_{j_{2}=j_{1}+1}^{d}<V_{i},V_{j}>x_{x_{j1}}\\cdot x_{j2}, \\; w \\in R^d \\, and \\, V_{i} \\in R^k $"
   ]
  },
  {
   "cell_type": "markdown",
   "id": "227202ac-e030-47a0-af58-b7f4ead94758",
   "metadata": {},
   "source": [
    "### Deep Component"
   ]
  },
  {
   "cell_type": "markdown",
   "id": "d9f502e6-785f-476d-963f-6b955739a28d",
   "metadata": {},
   "source": [
    "![](../images/paper/recommendation/dfm/dfm-007.png)"
   ]
  },
  {
   "cell_type": "markdown",
   "id": "78b35b3f-0b8e-40ad-9070-e5dddb3d3c3f",
   "metadata": {},
   "source": [
    "- 모든 embedding vector을 모두 합친 것이 input이 됨"
   ]
  },
  {
   "cell_type": "markdown",
   "id": "1ed2388b-c8f9-4f9f-9647-7496087799a0",
   "metadata": {},
   "source": [
    "$ a^{(0)} = [e_{1}, e_{2}, ..., e_{m}]$  \n",
    "$ a^{(l+1)} = \\sigma(W^{(l)}a^{(l)} + b^{(l)})$  \n",
    "$ y_{DNN} = \\sigma(W^{|H|+1}\\cdot a^H + b^{|H|+1}) $"
   ]
  },
  {
   "cell_type": "markdown",
   "id": "318d3e86-ae49-42d8-9f6f-a1a97fe9cbf7",
   "metadata": {},
   "source": [
    "### Relationship with the other Neural Networks"
   ]
  },
  {
   "cell_type": "markdown",
   "id": "4647da3e-14b8-4de6-8846-ab19ff8a76d7",
   "metadata": {},
   "source": [
    "![](../images/paper/recommendation/dfm/dfm-008.png)"
   ]
  },
  {
   "cell_type": "markdown",
   "id": "c1e5cc63-7ba8-43dc-9335-07b9c6a7d8b1",
   "metadata": {},
   "source": [
    "![](../images/paper/recommendation/dfm/dfm-009.png)"
   ]
  },
  {
   "cell_type": "markdown",
   "id": "4160d0b4-3e47-479f-99e8-60bdffa98d15",
   "metadata": {},
   "source": [
    "## Experiments"
   ]
  },
  {
   "cell_type": "markdown",
   "id": "9c3b8680-a792-4172-8107-a6c594ca73c6",
   "metadata": {},
   "source": [
    "1. Criteo Dataset\n",
    "    - 45 million user's click records\n",
    "    - 13 continous features, 26 categorical ones\n",
    "    - 90% for training and 10% for testing\n",
    "2. Company* Dataset\n",
    "    - 7 consecutive days of user's click records from Company* App Store(game center)\n",
    "    - Next 1 day for testing\n",
    "    - Approximately 1 billion records\n",
    "    - App features(identification, category)\n",
    "    - User features(user's downloaded apps)\n",
    "    - Context features(operation time)\n",
    "3. Evaluation Metrics\n",
    "    - AUC(Area Under ROC) and Logloss(Cross Entopy)"
   ]
  },
  {
   "cell_type": "markdown",
   "id": "2abe849d-c7b7-4661-9ff7-ba977d925c72",
   "metadata": {},
   "source": [
    "### Efficiency Comparison"
   ]
  },
  {
   "cell_type": "markdown",
   "id": "e11c37b8-0a70-4a4c-b7a4-4de411b5817e",
   "metadata": {},
   "source": [
    "![](../images/paper/recommendation/dfm/dfm-010.png)"
   ]
  },
  {
   "cell_type": "markdown",
   "id": "7a2c27d7-b900-40b2-bced-be6f21ba8fc0",
   "metadata": {},
   "source": [
    "- Linear model 대비 각 모델이 학습에 걸린 시간을 나타냄\n",
    "- FNN은 pre-training에 시간을 많이 쏟음\n",
    "- IPNN과 OPNN은 hidden layer에서 inner product를 하면서 시간이 매우 오래 걸림"
   ]
  },
  {
   "cell_type": "markdown",
   "id": "3496a1de-0757-4c44-8205-0ec29a840027",
   "metadata": {},
   "source": [
    "### Effective Comparison"
   ]
  },
  {
   "cell_type": "markdown",
   "id": "66b0b2d0-a0cc-4faf-be56-a769d6a1cdcb",
   "metadata": {},
   "source": [
    "![](../images/paper/recommendation/dfm/dfm-011.png)"
   ]
  },
  {
   "cell_type": "markdown",
   "id": "4cb7f357-0117-42c6-bf35-442d9efa4087",
   "metadata": {},
   "source": [
    "### Hyper-parameter Study"
   ]
  },
  {
   "cell_type": "markdown",
   "id": "19727c30-310a-411c-977d-180772139f08",
   "metadata": {},
   "source": [
    "![](../images/paper/recommendation/dfm/dfm-012.png)"
   ]
  },
  {
   "cell_type": "markdown",
   "id": "92400d0c-9598-4237-b110-44dd4dc61c1d",
   "metadata": {},
   "source": [
    "![](../images/paper/recommendation/dfm/dfm-013.png)"
   ]
  },
  {
   "cell_type": "markdown",
   "id": "77cbd567-91c1-44fb-8cca-1db1839bc373",
   "metadata": {},
   "source": [
    "![](../images/paper/recommendation/dfm/dfm-014.png)"
   ]
  },
  {
   "cell_type": "markdown",
   "id": "326eecd0-5e71-4496-a43c-bae87bdb8e93",
   "metadata": {},
   "source": [
    "![](../images/paper/recommendation/dfm/dfm-015.png)"
   ]
  },
  {
   "cell_type": "markdown",
   "id": "1277def1-3f13-461b-9284-8a7c2858c72d",
   "metadata": {},
   "source": [
    "![](../images/paper/recommendation/dfm/dfm-016.png)"
   ]
  },
  {
   "cell_type": "markdown",
   "id": "a5156821-83cd-418f-80bd-96dd25bb1f51",
   "metadata": {},
   "source": [
    "## Conclusion"
   ]
  },
  {
   "cell_type": "markdown",
   "id": "c8cad839-1821-4f6d-90fe-2e8a7a953449",
   "metadata": {},
   "source": [
    "- DeepFM\n",
    "    - deep component와 FM component를 합쳐서 학습\n",
    "    - Pre-training이 필요하지 않음\n",
    "    - High와 Low-order feature interactions 둘 다 모델링\n",
    "    - Input과 embedding vector를 share 함\n",
    "- From experiments\n",
    "    - CTR task에서 더 좋은 성능을 얻을 수 있음\n",
    "    - 다른 SOTA 모델보다 AUC와 LogLoss에서 성능이 뛰어남\n",
    "    - DeepFM이 가장 efficient한 모델"
   ]
  }
 ],
 "metadata": {
  "kernelspec": {
   "display_name": "Python 3",
   "language": "python",
   "name": "python3"
  },
  "language_info": {
   "codemirror_mode": {
    "name": "ipython",
    "version": 3
   },
   "file_extension": ".py",
   "mimetype": "text/x-python",
   "name": "python",
   "nbconvert_exporter": "python",
   "pygments_lexer": "ipython3",
   "version": "3.6.9"
  }
 },
 "nbformat": 4,
 "nbformat_minor": 5
}
