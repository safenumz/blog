{
 "cells": [
  {
   "cell_type": "markdown",
   "id": "d893d091-8a23-4ccb-8b97-e3cd38028c7e",
   "metadata": {
    "tags": []
   },
   "source": [
    "# \"[알고리즘] 복잡도 (Complexity)\"\n",
    "> \"알고리즘 계산 복잡도: 시간 복잡도, 공간 복잡도\"\n",
    "\n",
    "- toc: false\n",
    "- badges: true\n",
    "- comments: true\n",
    "- sticky_rank: 6\n",
    "- categories: [Algorithm]"
   ]
  },
  {
   "cell_type": "markdown",
   "id": "ed9829ec-9bc6-4c16-8454-6af4f31a1363",
   "metadata": {},
   "source": [
    "# 복잡도 (Complexity)\n",
    "- 알고리즘 계산 복잡도는 시간 복잡도와 공간 복잡도로 표현될 수 있음\n",
    "    - 시간 복잡도: 얼마나 빠르게 실행되는지\n",
    "    - 공간 복잡도: 얼마나 많은 저장 공간이 필요한지"
   ]
  },
  {
   "cell_type": "markdown",
   "id": "7653de1f-2d2c-4844-9be7-b1f6af68883e",
   "metadata": {},
   "source": [
    "## 시간 복잡도 (Time Complexity)"
   ]
  },
  {
   "cell_type": "markdown",
   "id": "ca7aa31c-3839-4bae-96b2-2980fffbae06",
   "metadata": {},
   "source": [
    "* O(입력)\n",
    "  - 입력 n 에 따라 결정되는 시간 복잡도 함수\n",
    "  - O(1), O($log n$), O(n), O(n$log n$), O($n^2$), O($2^n$), O(n!)등으로 표기함\n",
    "  - 입력 n 의 크기에 따라 기하급수적으로 시간 복잡도가 늘어날 수 있음\n",
    "    - O(1) < O($log n$) < O(n) < O(n$log n$) < O($n^2$) < O($2^n$) < O(n!)\n",
    "      - 참고: log n 의 베이스는 2 - $log_2 n$"
   ]
  },
  {
   "cell_type": "markdown",
   "id": "7cd5f851-ed4d-47cd-adfc-d6a81eef2fc2",
   "metadata": {},
   "source": [
    "![](http://www.fun-coding.org/00_Images/bigo.png)"
   ]
  },
  {
   "cell_type": "markdown",
   "id": "8c72eeee-0650-4022-9906-3c92fb24a83e",
   "metadata": {},
   "source": [
    "### 예제 1\n",
    "#### 1부터 n까지의 합을 구하는 알고리즘\n",
    "* 합을 기록할 변수를 만들고 0을 저장\n",
    "* n을 1부터 1씩 증가하면서 반복\n",
    "* 반복문 안에서 합을 기록할 변수에 1씩 증가된 값을 더함\n",
    "* 반복이 끝나면 합을 출력\n",
    "\n",
    "#### 시간 복잡도\n",
    "- 입력 n에 따라 덧셈을 n 번 해야 함 (반복문!)\n",
    "- 시간 복잡도: n, 빅 오 표기법으로는 **O(n)**"
   ]
  },
  {
   "cell_type": "code",
   "execution_count": 1,
   "id": "7f667d01-f99d-4859-a45e-e051c3196823",
   "metadata": {},
   "outputs": [
    {
     "data": {
      "text/plain": [
       "5050"
      ]
     },
     "execution_count": 1,
     "metadata": {},
     "output_type": "execute_result"
    }
   ],
   "source": [
    "def sum_all(n):\n",
    "    total = 0\n",
    "    for num in range(1, n + 1):\n",
    "        total += num\n",
    "    return total\n",
    "sum_all(100)"
   ]
  },
  {
   "cell_type": "markdown",
   "id": "43bbc769-66f1-4a4a-8cb1-7fa14d0e7780",
   "metadata": {},
   "source": [
    "### 예제 2\n",
    "#### 1부터 n까지의 합을 구하는 알고리즘\n",
    "* <font size=5em>$\\frac { n (n + 1) }{ 2 }$</font>\n",
    "\n",
    "#### 시간 복잡도\n",
    "- 입력 n이 어떻든 간에, 곱셈/덧셈/나눗셈 하면 됨 (반복문이 없음!)\n",
    "- 시간 복잡도: 1, 빅 오 표기법으로는 **O(1)**"
   ]
  },
  {
   "cell_type": "code",
   "execution_count": 2,
   "id": "4240364f-2148-4373-b6ba-b20e89dd8206",
   "metadata": {},
   "outputs": [
    {
     "data": {
      "text/plain": [
       "5050"
      ]
     },
     "execution_count": 2,
     "metadata": {},
     "output_type": "execute_result"
    }
   ],
   "source": [
    "def sum_all(n):\n",
    "    return int(n * (n + 1) / 2)\n",
    "sum_all(100)"
   ]
  },
  {
   "cell_type": "markdown",
   "id": "800a564a-a140-4769-9683-dd48513136c0",
   "metadata": {},
   "source": [
    "## 공간 복잡도 (Space Complexity)"
   ]
  },
  {
   "cell_type": "markdown",
   "id": "58cf5d4f-00c1-4b06-b3bf-699e85f16f7c",
   "metadata": {},
   "source": [
    "- 프로그램을 실행 및 완료하는데 필요한 저장공간의 양을 뜻함\n",
    "- 총 필요 저장 공간\n",
    "  - 고정 공간 (알고리즘과 무관한 공간): 코드 저장 공간, 단순 변수 및 상수\n",
    "  - 가변 공간 (알고리즘 실행과 관련있는 공간): 실행 중 동적으로 필요한 공간\n",
    "  - $ S(P) = c + S_p(n) $\n",
    "    - c: 고정 공간\n",
    "    - $ S_p(n) $: 가변 공간\n",
    "\n",
    "> 빅 오 표기법을 생각해볼 때, 고정 공간은 상수이므로 공간 복잡도는 가변 공간예 좌우됨"
   ]
  },
  {
   "cell_type": "markdown",
   "id": "d255b3c3-a583-46c1-a6f5-84aa503dba81",
   "metadata": {},
   "source": [
    "### 예제 1\n",
    "- n! 팩토리얼 구하기\n",
    "  - n! = 1 x 2 x ... x n\n",
    "- n의 값에 상관없이 변수 n, 변수 fac, 변수 index 만 필요함\n",
    "- 공간 복잡도는 O(1)\n",
    "\n",
    "> 공간 복잡도 계산은 실제 알고리즘 실행시 사용되는 저장공간을 계산하면 됨"
   ]
  },
  {
   "cell_type": "code",
   "execution_count": 4,
   "id": "ff46cef7-8be2-49fe-9628-34b0a660f764",
   "metadata": {},
   "outputs": [
    {
     "data": {
      "text/plain": [
       "6"
      ]
     },
     "execution_count": 4,
     "metadata": {},
     "output_type": "execute_result"
    }
   ],
   "source": [
    "def factorial(n):\n",
    "    fac = 1\n",
    "    for index in range(2, n + 1):\n",
    "        fac = fac * index\n",
    "    return fac\n",
    "factorial(3)"
   ]
  },
  {
   "cell_type": "markdown",
   "id": "174e94ae-6ecd-4d98-a150-8e2176404ec6",
   "metadata": {},
   "source": [
    "### 예제 2\n",
    "- n! 팩토리얼 구하기\n",
    "  - n! = 1 x 2 x ... x n\n",
    "- 재귀함수를 사용하였으므로, n에 따라, 변수 n이 n개가 만들어지게 됨\n",
    "  - factorial 함수를 재귀 함수로 1까지 호출하였을 경우, n부터 1까지 스택에 쌓이게 됨\n",
    "- 공간 복잡도는 O(n)"
   ]
  },
  {
   "cell_type": "code",
   "execution_count": 5,
   "id": "28e306b9-2764-4e17-a46f-25907f063f07",
   "metadata": {},
   "outputs": [
    {
     "data": {
      "text/plain": [
       "6"
      ]
     },
     "execution_count": 5,
     "metadata": {},
     "output_type": "execute_result"
    }
   ],
   "source": [
    "def factorial(n):\n",
    "    if n > 1:\n",
    "        return n * factorial(n - 1)\n",
    "    else:\n",
    "        return 1\n",
    "factorial(3)"
   ]
  }
 ],
 "metadata": {
  "kernelspec": {
   "display_name": "Python 3",
   "language": "python",
   "name": "python3"
  },
  "language_info": {
   "codemirror_mode": {
    "name": "ipython",
    "version": 3
   },
   "file_extension": ".py",
   "mimetype": "text/x-python",
   "name": "python",
   "nbconvert_exporter": "python",
   "pygments_lexer": "ipython3",
   "version": "3.6.9"
  }
 },
 "nbformat": 4,
 "nbformat_minor": 5
}
