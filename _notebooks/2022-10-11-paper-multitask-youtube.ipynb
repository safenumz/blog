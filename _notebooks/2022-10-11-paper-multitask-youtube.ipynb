{
 "cells": [
  {
   "cell_type": "markdown",
   "id": "107bdd04-79af-48fd-aa99-3e5e17f5462a",
   "metadata": {},
   "source": [
    "# \"[Recommender System] Recommending What Video to Watch Next: A Multitask Ranking System\"\n",
    "> 2019, Google, Multitask Ranking YouTube 추천 시스템\n",
    "\n",
    "- toc: true\n",
    "- badges: true\n",
    "- comments: true\n",
    "- categories: [Paper]\n",
    "- tags: [paper, recommender system, multitask, youtube]"
   ]
  },
  {
   "cell_type": "markdown",
   "id": "cc2a1c9c-6576-4dc1-bf1e-c671a5312de3",
   "metadata": {},
   "source": [
    "# Recommending What Video to Watch Next: A Multitask Ranking System"
   ]
  },
  {
   "cell_type": "markdown",
   "id": "99ee0b22-2f00-4772-ada2-a02e07096467",
   "metadata": {},
   "source": [
    "![](../images/paper/recommendation/mub/mub-001.png)"
   ]
  },
  {
   "cell_type": "markdown",
   "id": "7fa0f1e7-d63e-4bf3-93a6-6a4a2bea392d",
   "metadata": {},
   "source": [
    "## Contributions"
   ]
  },
  {
   "cell_type": "markdown",
   "id": "1e004389-b438-4e51-a6a8-a62e29dd0958",
   "metadata": {},
   "source": [
    "- 영상 추천을 위한 End-to-end Ranking system 제안\n",
    "- 랭킹 문제를 Multi-objective learning 문제로 풀고, 모든 objective에 대해 성능을 향상시키기 위해 Multigate Mixture-of-Experts 구조로 확장\n",
    "    - Multi-task Learning\n",
    "- Wide & Deep 모델 구조를 적용하고, position bias를 줄임(mitigate)\n",
    "- 실제 서비스에서 영상 추천 시스템을 평가하고 효과를 입증함"
   ]
  },
  {
   "cell_type": "markdown",
   "id": "bd5b2594-60cc-42c0-8cd1-ed64ba55dc17",
   "metadata": {},
   "source": [
    "## Model Architecture"
   ]
  },
  {
   "cell_type": "markdown",
   "id": "5cda0d37-3ccf-4132-9f16-7a74bae25066",
   "metadata": {},
   "source": [
    "![](../images/paper/recommendation/mub/mub-002.png)"
   ]
  },
  {
   "cell_type": "markdown",
   "id": "3a453d04-4a29-4c5d-bb22-362ec18c10b7",
   "metadata": {},
   "source": [
    "- User Engagement Objectives: 유저의 클릭(binary classification)과 시청시간(regression)\n",
    "- User Satisfaction Objectives: Like(binary)와 Rating(regression)"
   ]
  },
  {
   "cell_type": "markdown",
   "id": "a41338f4-2bde-4244-85da-bca0b56b04dd",
   "metadata": {},
   "source": [
    "![](../images/paper/recommendation/mub/mub-003.png)"
   ]
  },
  {
   "cell_type": "markdown",
   "id": "46241172-d5ab-4868-9486-f7ab8a607d02",
   "metadata": {},
   "source": [
    "- 추천 랭킹 순위(positive features)와 device info(other features)를 활용하여 selection bias 정보를 추가\n",
    "- 사용자는 화면에 보여지는 영상 중 가장 상단에 위치한 영상을 주로 선택하는 경향이 있음\n",
    "- Position bias를 없애서 더 좋은 성능을 얻을 수 있음"
   ]
  }
 ],
 "metadata": {
  "kernelspec": {
   "display_name": "Python 3",
   "language": "python",
   "name": "python3"
  },
  "language_info": {
   "codemirror_mode": {
    "name": "ipython",
    "version": 3
   },
   "file_extension": ".py",
   "mimetype": "text/x-python",
   "name": "python",
   "nbconvert_exporter": "python",
   "pygments_lexer": "ipython3",
   "version": "3.6.9"
  }
 },
 "nbformat": 4,
 "nbformat_minor": 5
}
