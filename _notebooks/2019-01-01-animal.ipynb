{
 "cells": [
  {
   "cell_type": "markdown",
   "id": "f3fe90b6-73b3-4af8-aabf-9b48642c0354",
   "metadata": {
    "tags": []
   },
   "source": [
    "# \"[Project] Austion Animal Shelter Classification Analysis\"\n",
    "> \"2019년 1월 Austion Animal Shelter Classification Analysis\"\n",
    "\n",
    "\n",
    "- badges: true\n",
    "- comments: true\n",
    "- sticky_rank: 4\n",
    "- image: images/portfolio/animal/0.jpg\n",
    "- categories: [Project]"
   ]
  },
  {
   "cell_type": "markdown",
   "id": "f57f783e-1726-49c9-841a-998cb7828d55",
   "metadata": {},
   "source": [
    "<script>\n",
    "var pagenum = 53\n",
    "var img_dir = \"{{ site.baseurl }}\" + \"/images/portfolio/animal\"\n",
    "var img_ext = \"png\"\n",
    "\n",
    "var img_array = []\n",
    "for (i = 1; i < pagenum+1; i++)  {\n",
    "    img_array.push(img_dir + \"/\" + i + \".\" + img_ext);\n",
    "}\n",
    "img_array.forEach( element => {\n",
    "    var h = `<img src=\"${element}\" alt=\"img\"><br>`;\n",
    "    document.write(h);\n",
    "});\n",
    "\n",
    "</script>"
   ]
  }
 ],
 "metadata": {
  "kernelspec": {
   "display_name": "Python 3",
   "language": "python",
   "name": "python3"
  },
  "language_info": {
   "codemirror_mode": {
    "name": "ipython",
    "version": 3
   },
   "file_extension": ".py",
   "mimetype": "text/x-python",
   "name": "python",
   "nbconvert_exporter": "python",
   "pygments_lexer": "ipython3",
   "version": "3.6.9"
  }
 },
 "nbformat": 4,
 "nbformat_minor": 5
}
