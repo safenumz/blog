{
 "cells": [
  {
   "cell_type": "markdown",
   "id": "99777232-cc51-4034-82fa-d58cc0f0b6a1",
   "metadata": {
    "tags": []
   },
   "source": [
    "# \"[Project] Bike Sharing Demand Regression Analysis\"\n",
    "> \"2018년 10월 Bike Sharing Demand Regression Analysis\"\n",
    "\n",
    "\n",
    "- badges: true\n",
    "- comments: true\n",
    "- sticky_rank: 5\n",
    "- image: images/portfolio/bike/0.jpg\n",
    "- categories: [Project]"
   ]
  },
  {
   "cell_type": "markdown",
   "id": "0ede3184-0460-48d1-8317-97397e8f5c0b",
   "metadata": {},
   "source": [
    "<script>\n",
    "var pagenum = 24\n",
    "var img_dir = \"{{ site.baseurl }}\" + \"/images/portfolio/bike\"\n",
    "var img_ext = \"png\"\n",
    "\n",
    "var img_array = []\n",
    "for (i = 1; i < pagenum+1; i++)  {\n",
    "    img_array.push(img_dir + \"/\" + i + \".\" + img_ext);\n",
    "}\n",
    "img_array.forEach( element => {\n",
    "    var h = `<img src=\"${element}\" alt=\"img\"><br>`;\n",
    "    document.write(h);\n",
    "});\n",
    "\n",
    "</script>"
   ]
  }
 ],
 "metadata": {
  "kernelspec": {
   "display_name": "Python 3",
   "language": "python",
   "name": "python3"
  },
  "language_info": {
   "codemirror_mode": {
    "name": "ipython",
    "version": 3
   },
   "file_extension": ".py",
   "mimetype": "text/x-python",
   "name": "python",
   "nbconvert_exporter": "python",
   "pygments_lexer": "ipython3",
   "version": "3.6.9"
  }
 },
 "nbformat": 4,
 "nbformat_minor": 5
}
