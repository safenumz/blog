{
 "cells": [
  {
   "cell_type": "markdown",
   "id": "f743d207-7d14-4924-95d9-45b12ded45a5",
   "metadata": {},
   "source": [
    "# \"[알고리즘] 재귀 용법 (Recursive Call)\"\n",
    "> 함수 안에서 동일한 함수를 호출하는 형태\n",
    "\n",
    "- toc: false\n",
    "- badges: true\n",
    "- comments: true\n",
    "- categories: [Algorithm]"
   ]
  },
  {
   "cell_type": "markdown",
   "id": "aef4c787-216e-4319-a4f7-4e5e69305d41",
   "metadata": {},
   "source": [
    "# 재귀 용법 (Recursive Call)\n",
    "- 함수 안에서 동일한 함수를 호출하는 형태"
   ]
  },
  {
   "cell_type": "markdown",
   "id": "3aa7e5bc-73c1-4e1b-8cc1-ced5e0d26534",
   "metadata": {},
   "source": [
    "### 예제 1: factorial\n",
    "#### 시간 복잡도와 공간 복잡도\n",
    "* factorial(n) 은 n - 1 번의 factorial() 함수를 호출해서, 곱셈을 함 \n",
    "  - 일종의 n-1번 반복문을 호출한 것과 동일\n",
    "  - factorial() 함수를 호출할 때마다, 지역변수 n 이 생성됨\n",
    "\n",
    "* 시간 복잡도/공간 복잡도는 O(n-1) 이므로 결국, 둘 다 O(n)"
   ]
  },
  {
   "cell_type": "code",
   "execution_count": 2,
   "id": "d410ee7f-29a9-4a21-8e6a-b470e4c1bec9",
   "metadata": {},
   "outputs": [
    {
     "name": "stdout",
     "output_type": "stream",
     "text": [
      "0\n",
      "1\n",
      "2\n",
      "6\n",
      "24\n",
      "120\n",
      "720\n",
      "5040\n",
      "40320\n",
      "362880\n"
     ]
    }
   ],
   "source": [
    "def factorial(num):\n",
    "    if num > 1:\n",
    "        return num * factorial(num - 1)\n",
    "    else:\n",
    "        return num\n",
    "    \n",
    "for num in range(10):\n",
    "    print (factorial(num))"
   ]
  },
  {
   "cell_type": "markdown",
   "id": "45b3b608-0cfd-4df3-a09e-193eb4070c2e",
   "metadata": {},
   "source": [
    "### 재귀 호출은 스택의 전형적인 예\n",
    "* 함수는 내부적으로 스택처럼 관리됨\n",
    "* 파이썬에서 재귀 함수의 깊이는 1000회가 최대치\n",
    "\n",
    "![](https://www.fun-coding.org/00_Images/recursivecall.png)"
   ]
  },
  {
   "cell_type": "markdown",
   "id": "e4203a2c-a3db-4014-a38b-8cdf7740b28a",
   "metadata": {},
   "source": [
    "### 예제 2: 1부터 num까지의 곱"
   ]
  },
  {
   "cell_type": "code",
   "execution_count": 4,
   "id": "26234030-3e06-4e0c-841d-d4a7c97f6e66",
   "metadata": {},
   "outputs": [
    {
     "data": {
      "text/plain": [
       "3628800"
      ]
     },
     "execution_count": 4,
     "metadata": {},
     "output_type": "execute_result"
    }
   ],
   "source": [
    "def multiple(num):\n",
    "    if num <= 1:\n",
    "        return num\n",
    "    return num * multiple(num - 1)\n",
    "multiple(10)"
   ]
  },
  {
   "cell_type": "markdown",
   "id": "3314b22e-64a3-4b6d-9f55-fa528439248c",
   "metadata": {},
   "source": [
    "### 예제 3: 리스트의 합"
   ]
  },
  {
   "cell_type": "code",
   "execution_count": 6,
   "id": "fd9700a0-9e1c-4bfc-b098-d0012a737e37",
   "metadata": {},
   "outputs": [
    {
     "data": {
      "text/plain": [
       "579"
      ]
     },
     "execution_count": 6,
     "metadata": {},
     "output_type": "execute_result"
    }
   ],
   "source": [
    "def sum_list(data):\n",
    "    if len(data) <= 1:\n",
    "        return data[0]\n",
    "    return data[0] + sum_list(data[1:])\n",
    "\n",
    "import random\n",
    "data = random.sample(range(100), 10)\n",
    "sum_list(data)"
   ]
  },
  {
   "cell_type": "markdown",
   "id": "1521f147-de7b-4cf9-865f-24a96cff5dce",
   "metadata": {},
   "source": [
    "### 예제 4: 회문(palindrome) 판별"
   ]
  },
  {
   "cell_type": "code",
   "execution_count": 11,
   "id": "bd72f3a8-6d79-473e-ae70-f856691b251d",
   "metadata": {},
   "outputs": [
    {
     "data": {
      "text/plain": [
       "True"
      ]
     },
     "execution_count": 11,
     "metadata": {},
     "output_type": "execute_result"
    }
   ],
   "source": [
    "def palindrome(string):\n",
    "    if len(string) <= 1:\n",
    "        return True\n",
    "    if string[0] == string[-1]:\n",
    "        return palindrome(string[1:-1])\n",
    "    else:\n",
    "        return False\n",
    "    \n",
    "palindrome('aoa')"
   ]
  },
  {
   "cell_type": "markdown",
   "id": "4ba089be-fd98-491a-ab78-85c7ef66473c",
   "metadata": {},
   "source": [
    "### 예제 5\n",
    "- 정수 n에 대해 n이 홀수이면 3 X n + 1 을 하고 n이 짝수이면 n 을 2로 나눈다. 이렇게 계속 진행해서 n 이 결국 1이 될 때까지 2와 3의 과정을 반복하는 알고리즘 작성."
   ]
  },
  {
   "cell_type": "code",
   "execution_count": 23,
   "id": "f90ffc50-65d6-482a-b07e-ca51bd128a3f",
   "metadata": {},
   "outputs": [
    {
     "name": "stdout",
     "output_type": "stream",
     "text": [
      "5\n",
      "16\n",
      "8\n",
      "4\n",
      "2\n",
      "1\n"
     ]
    },
    {
     "data": {
      "text/plain": [
       "1"
      ]
     },
     "execution_count": 23,
     "metadata": {},
     "output_type": "execute_result"
    }
   ],
   "source": [
    "def func(n):\n",
    "    print(n)\n",
    "    if n == 1:\n",
    "        return n\n",
    "    if n % 2 == 1:\n",
    "        return func(3 * n + 1)\n",
    "    else:\n",
    "        return func(int(n / 2))\n",
    "func(5)"
   ]
  },
  {
   "cell_type": "markdown",
   "id": "8a25a6a9-fb01-436c-b840-e3d0ad4131eb",
   "metadata": {},
   "source": [
    "### 예제 6\n",
    "- 정수 n이 입력으로 주어졌을 때, n을 1, 2, 3의 합으로 나타낼 수 있는 방법의 수\n",
    "- f(n)은 f(n-1) + f(n-2) + f(n-3)"
   ]
  },
  {
   "cell_type": "code",
   "execution_count": 24,
   "id": "77e70b76-9d9e-4e0c-97d8-e46d929e6bf6",
   "metadata": {},
   "outputs": [
    {
     "data": {
      "text/plain": [
       "13"
      ]
     },
     "execution_count": 24,
     "metadata": {},
     "output_type": "execute_result"
    }
   ],
   "source": [
    "def func(data):\n",
    "    if data == 1:\n",
    "        return 1\n",
    "    elif data == 2:\n",
    "        return 2\n",
    "    elif data == 3:\n",
    "        return 4\n",
    "    return func(data - 1) + func(data - 2) + func(data - 3)\n",
    "\n",
    "func(5)"
   ]
  },
  {
   "cell_type": "markdown",
   "id": "87dc90c5-fbc8-45ba-810d-0e7616078d2d",
   "metadata": {},
   "source": [
    "### 예제 7: 진법 변환"
   ]
  },
  {
   "cell_type": "code",
   "execution_count": 9,
   "id": "67376124-ab63-4055-ba37-96b9b653fde1",
   "metadata": {},
   "outputs": [
    {
     "data": {
      "text/plain": [
       "'110010'"
      ]
     },
     "execution_count": 9,
     "metadata": {},
     "output_type": "execute_result"
    }
   ],
   "source": [
    "def convert_base(number, base):\n",
    "    T = list(range(10))\n",
    "    i, j = divmod(number, base)\n",
    "    if i == 0:\n",
    "        return str(T[j])\n",
    "    else:\n",
    "        return convert_base(i, base) + str(T[j])\n",
    "\n",
    "# 50을 2진법으로 변환\n",
    "convert_base(50, 2)\n",
    "\n",
    "# 2진수 b = bin(value)\n",
    "# 8진수 o = oct(value)\n",
    "# 16진수 h = hex(value)\n",
    "# b = format(value, 'b')\n",
    "# o = format(value, 'o')\n",
    "# h = format(value, 'x')"
   ]
  }
 ],
 "metadata": {
  "kernelspec": {
   "display_name": "Python 3",
   "language": "python",
   "name": "python3"
  },
  "language_info": {
   "codemirror_mode": {
    "name": "ipython",
    "version": 3
   },
   "file_extension": ".py",
   "mimetype": "text/x-python",
   "name": "python",
   "nbconvert_exporter": "python",
   "pygments_lexer": "ipython3",
   "version": "3.6.9"
  }
 },
 "nbformat": 4,
 "nbformat_minor": 5
}
